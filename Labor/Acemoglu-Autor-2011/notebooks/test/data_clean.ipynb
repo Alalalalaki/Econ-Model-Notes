{
 "cells": [
  {
   "cell_type": "code",
   "execution_count": null,
   "id": "7fe0f826-f413-4473-b30e-fee21f1c14fb",
   "metadata": {},
   "outputs": [],
   "source": [
    "from util.addpath import addpath\n",
    "addpath(\"../code\")"
   ]
  },
  {
   "cell_type": "code",
   "execution_count": null,
   "id": "bb93778f-8f18-4c5c-8a20-f98bbb636ec0",
   "metadata": {},
   "outputs": [],
   "source": [
    "from statsmodels.stats.weightstats import DescrStatsW\n",
    "from patsy import dmatrices"
   ]
  },
  {
   "cell_type": "markdown",
   "id": "d328e5a4-51ef-4d78-821c-8e07285fd35e",
   "metadata": {},
   "source": [
    "## March-CPS"
   ]
  },
  {
   "cell_type": "markdown",
   "id": "ecedc699-e89e-4c8f-a6cf-5e699d0000a5",
   "metadata": {},
   "source": [
    "### march-cleaners"
   ]
  },
  {
   "cell_type": "markdown",
   "id": "9f99a449-a1f8-4441-9a7f-6fcceca5f1dc",
   "metadata": {},
   "source": [
    "### cleaned-data  "
   ]
  },
  {
   "cell_type": "code",
   "execution_count": null,
   "id": "121936c5-15ce-4bd2-afe2-885b2d5b0286",
   "metadata": {},
   "outputs": [],
   "source": [
    "input_path = \"../../ref/origin/March-CPS/cleaned-data/\""
   ]
  },
  {
   "cell_type": "code",
   "execution_count": null,
   "id": "58e8828e-87e5-4a66-ad6c-94de23c8a9c7",
   "metadata": {},
   "outputs": [],
   "source": [
    "#%ls $input_path"
   ]
  },
  {
   "cell_type": "markdown",
   "id": "68d9399f-c85c-4158-8462-d12007907cf3",
   "metadata": {},
   "source": [
    "#### variables"
   ]
  },
  {
   "cell_type": "code",
   "execution_count": null,
   "id": "b55b2a62-7267-4170-b3e8-5da6a19d8e90",
   "metadata": {},
   "outputs": [],
   "source": [
    "def show_var_label(y=1999): \n",
    "    data = pd.read_stata(input_path+f\"mar{str(y)[-2:]}.dta\", iterator = True)\n",
    "    labels = data.variable_labels()\n",
    "    print(len(labels))\n",
    "    return labels"
   ]
  },
  {
   "cell_type": "code",
   "execution_count": null,
   "id": "32890007-592b-4fd4-b0f0-898fba3f607a",
   "metadata": {},
   "outputs": [],
   "source": [
    "show_var_label(1966)"
   ]
  },
  {
   "cell_type": "markdown",
   "id": "28060b7f-2697-49df-8a14-1fed3932b590",
   "metadata": {},
   "source": [
    "### prep_wage"
   ]
  },
  {
   "cell_type": "code",
   "execution_count": null,
   "id": "fccc554b-3c7c-4383-b3c2-5d868c7bcb00",
   "metadata": {},
   "outputs": [],
   "source": [
    "input_path = \"../../ref/origin/March-CPS/cleaned-data/\""
   ]
  },
  {
   "cell_type": "markdown",
   "id": "e792ad1a-617f-424c-922d-8ece85255401",
   "metadata": {},
   "source": [
    "#### tab-march-ineq"
   ]
  },
  {
   "cell_type": "code",
   "execution_count": null,
   "id": "04faad24-9a91-4070-b562-58b4d082da2f",
   "metadata": {},
   "outputs": [],
   "source": [
    "df = pd.read_stata(input_path+f\"mar{str(1976)[-2:]}.dta\")"
   ]
  },
  {
   "cell_type": "code",
   "execution_count": null,
   "id": "8a63b4b0-5454-48e3-b39e-61331e6616be",
   "metadata": {},
   "outputs": [],
   "source": [
    "df.exp"
   ]
  },
  {
   "cell_type": "code",
   "execution_count": null,
   "id": "a30fea7e-7472-43cd-9792-d7ef61d82dab",
   "metadata": {},
   "outputs": [],
   "source": [
    "bins = range(0,51,10)\n",
    "pd.cut(df.exp,bins,right=False,labels=range(5,46,10))"
   ]
  },
  {
   "cell_type": "code",
   "execution_count": null,
   "id": "b4081e73-d380-4915-9b8a-34c8a1e4b7e3",
   "metadata": {},
   "outputs": [],
   "source": [
    "from MarchCPS.prep_wage import tabulate_march_inequality"
   ]
  },
  {
   "cell_type": "code",
   "execution_count": null,
   "id": "72d19e98-dfd5-4e2f-963a-f994c7c4ad8e",
   "metadata": {},
   "outputs": [],
   "source": [
    "a,b = tabulate_march_inequality(1992)"
   ]
  },
  {
   "cell_type": "markdown",
   "id": "cbebff18-cff5-421a-87bd-ac662201afd1",
   "metadata": {},
   "source": [
    "#### tab-march-ineq-loop"
   ]
  },
  {
   "cell_type": "code",
   "execution_count": null,
   "id": "028f1439-2524-4164-89e1-35666774a6cf",
   "metadata": {},
   "outputs": [],
   "source": [
    "from MarchCPS.prep_wage import tabulate_march_inequality_loop"
   ]
  },
  {
   "cell_type": "code",
   "execution_count": null,
   "id": "0bc084eb-2e4f-4d39-9bff-4d4bb2c55bb0",
   "metadata": {},
   "outputs": [],
   "source": [
    "ineq_stat = tabulate_march_inequality_loop()"
   ]
  },
  {
   "cell_type": "code",
   "execution_count": null,
   "id": "df9b2bb3-0009-42e3-bba7-ab0d8ace548f",
   "metadata": {},
   "outputs": [],
   "source": [
    "ineq_stat"
   ]
  },
  {
   "cell_type": "markdown",
   "id": "acec7aa2-ef6d-4eba-9a86-70481a0d66c1",
   "metadata": {},
   "source": [
    "#### predict_archwg_regs_exp"
   ]
  },
  {
   "cell_type": "code",
   "execution_count": null,
   "id": "f3d827b8-4898-40c0-8c1f-36d86d7bee6b",
   "metadata": {},
   "outputs": [],
   "source": [
    "from MarchCPS.prep_wage import tabulate_march_basic"
   ]
  },
  {
   "cell_type": "code",
   "execution_count": null,
   "id": "1dce82b3-166c-4010-83a0-1e2793699d79",
   "metadata": {},
   "outputs": [],
   "source": [
    "df = tabulate_march_basic(1976)"
   ]
  },
  {
   "cell_type": "code",
   "execution_count": null,
   "id": "4134a020-205e-4a39-8bb4-8f3a98a16b7c",
   "metadata": {},
   "outputs": [],
   "source": [
    "\n",
    "    df = df.eval(\"\"\"\n",
    "            lnwinc = log(winc_ws)\n",
    "            lnhinc = log(hinc_ws)\n",
    "        \"\"\")\n",
    "\n",
    "    # Create experience categories\n",
    "    # @ the code split exp by [0,9] [10,19], ... however for years >= 1992 there can be 9.x 19.x in exp\n",
    "    # @ here I split by [0,10), [10,20), ... thus the result might be differnt from the original one\n",
    "    df = df.rename(columns={\"exp\": \"exp1\"})\n",
    "    assert df.eval(\"0<= exp1 <=48\").all()\n",
    "    bins = range(0, 51, 10)\n",
    "    # @ rather than construct dummy columns, here set category column\n",
    "    df = df.assign(expcat5=pd.cut(df.exp1, bins, right=False, labels=range(5, 46, 10)))\n",
    "\n",
    "    # experience education interactions;\n",
    "    def prod_exp_edu_interactions(dx):\n",
    "        dx = dx.eval(\"\"\"\n",
    "                exp2 = (exp1**2)/100\n",
    "                exp3 = (exp1**3)/1000\n",
    "                exp4 = (exp1**4)/10000\n",
    "\n",
    "                e1edhsd = exp1*edhsd\n",
    "                e1edsmc = exp1*edsmc\n",
    "                e1edclg = exp1*(edclg+edgtc)\n",
    "\n",
    "                e2edhsd = exp2*edhsd\n",
    "                e2edsmc = exp2*edsmc\n",
    "                e2edclg = exp2*(edclg+edgtc)\n",
    "\n",
    "                e3edhsd = exp3*edhsd\n",
    "                e3edsmc = exp3*edsmc\n",
    "                e3edclg = exp3*(edclg+edgtc)\n",
    "\n",
    "                e4edhsd = exp4*edhsd\n",
    "                e4edsmc = exp4*edsmc\n",
    "                e4edclg = exp4*(edclg+edgtc)\n",
    "        \"\"\")\n",
    "        return dx\n",
    "    \n",
    "    df = prod_exp_edu_interactions(df)\n",
    "\n",
    "    # Gender interactions with experience, race, region, part-time;\n",
    "    df = df.eval(\"\"\"\n",
    "            pt = abs(fulltime-1)\n",
    "\n",
    "            fexp1 = female*exp1\n",
    "            fexp2 = female*exp2\n",
    "            fexp3 = female*exp3\n",
    "            fexp4 = female*exp4\n",
    "\n",
    "            fblack = female*black\n",
    "            fother = female*other\n",
    "\n",
    "            fpt = female*pt\n",
    "    \"\"\")\n",
    "\n",
    "    # Full-time samples\n",
    "    df = df.eval(\"ftfy = fulltime*fullyear\")\n",
    "\n",
    "    #@ I skip some summ code here\n",
    "\n",
    "    # we don't want to drop top-coded obs\n",
    "    #@ no idea what this is\n",
    "    df.tcwkwg = 0\n",
    "    df.tchrwg = 0"
   ]
  },
  {
   "cell_type": "code",
   "execution_count": null,
   "id": "82bbd46d-56c4-44ef-a6ac-944ae30b77e0",
   "metadata": {},
   "outputs": [],
   "source": [
    "    # Male regression\n",
    "    dt = df.query(\"ftfy==1 & female==0 & tcwkwg==0 & bcwkwgkm==0\")\n",
    "    X_ = [\"edhsd\", \"edsmc\", \"edclg\", \"edgtc\",\n",
    "        \"exp1\", \"exp2\", \"exp3\", \"exp4\",\n",
    "        \"e1edhsd\", \"e1edsmc\", \"e1edclg\",\n",
    "        \"e2edhsd\", \"e2edsmc\", \"e2edclg\",\n",
    "        \"e3edhsd\", \"e3edsmc\", \"e3edclg\",\n",
    "        \"e4edhsd\", \"e4edsmc\", \"e4edclg\",\n",
    "        \"black\", \"other\"]\n",
    "    y, X = dt.lnwinc, dt[X_]\n",
    "    X = sm.add_constant(X)\n",
    "    res = sm.WLS(y, X, weights=dt.wgt).fit()\n",
    "\n",
    "    # Predict values\n",
    "    # Now conduct 25 predictions based upon the the 5 education and 5 experience categories\n",
    "    edcat = range(5)\n",
    "    edcol = [\"edhsd\", \"edhsg\", \"edsmc\", \"edclg\", \"edgtc\"]\n",
    "    expcat = range(5, 46, 10)\n",
    "    expcol = [f\"exp{i}\" for i in expcat]\n",
    "    s = pd.DataFrame(0, index=pd.MultiIndex.from_product([edcol, expcol]), columns=X_)\n",
    "    for ed in edcat:\n",
    "        n = edcol[ed]\n",
    "        if n != \"edhsg\":\n",
    "            s.loc[n, n] = 1\n",
    "    s = s.swaplevel()\n",
    "    for i, exp in enumerate(expcat):\n",
    "        n = expcol[i]\n",
    "        s.loc[n, \"exp1\"] = exp\n",
    "    X_cf = sm.add_constant(prod_exp_edu_interactions(s))\n",
    "    marchwk_ed_exp_m = res.predict(X_cf)  # @ tidy dataframe for marchwk-`ed'-exp`exp'-m\n",
    "\n",
    "    # Female regression\n",
    "    dt = df.query(\"ftfy==1 & female==1 & tcwkwg==0 & bcwkwgkm==0\")\n",
    "    y, X = dt.lnwinc, dt[X_]\n",
    "    X = sm.add_constant(X)\n",
    "    res = sm.WLS(y, X, weights=dt.wgt).fit()\n",
    "\n",
    "    # Predict values\n",
    "    # Now conduct 25 predictions based upon the the 5 education and 5 experience categories\n",
    "    marchwk_ed_exp_f = res.predict(X_cf)  # @ tidy dataframe for marchwk-`ed'-exp`exp'-f\n",
    "\n",
    "    # Compile all male/female predicted weekly wages\n",
    "    marchwk_ed_exp = s.assign(plnwkw_m=marchwk_ed_exp_m, plnwkw_f=marchwk_ed_exp_f)"
   ]
  },
  {
   "cell_type": "code",
   "execution_count": null,
   "id": "41e45588-a140-4bb6-9f80-44bcf14bd156",
   "metadata": {},
   "outputs": [],
   "source": [
    "marchwk_ed_exp"
   ]
  },
  {
   "cell_type": "code",
   "execution_count": null,
   "id": "b85cd300-5a66-416f-90da-ab26d3f43945",
   "metadata": {},
   "outputs": [],
   "source": []
  }
 ],
 "metadata": {
  "kernelspec": {
   "display_name": "Python 3.8",
   "language": "python",
   "name": "python3"
  },
  "language_info": {
   "codemirror_mode": {
    "name": "ipython",
    "version": 3
   },
   "file_extension": ".py",
   "mimetype": "text/x-python",
   "name": "python",
   "nbconvert_exporter": "python",
   "pygments_lexer": "ipython3",
   "version": "3.8.8"
  }
 },
 "nbformat": 4,
 "nbformat_minor": 5
}
