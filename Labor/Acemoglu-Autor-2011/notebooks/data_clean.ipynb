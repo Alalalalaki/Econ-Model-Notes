{
 "cells": [
  {
   "cell_type": "code",
   "execution_count": null,
   "id": "08bfdcfa-df0e-4b3b-bd79-cc9dc18588db",
   "metadata": {},
   "outputs": [],
   "source": [
    "from util.addpath import addpath\n",
    "addpath(\"code\")"
   ]
  },
  {
   "cell_type": "markdown",
   "id": "c63d7617-70e1-4742-a11a-e5d603111558",
   "metadata": {},
   "source": [
    "## March-CPS"
   ]
  },
  {
   "cell_type": "markdown",
   "id": "818a4d67-b063-4626-86d8-80a8ef97e05a",
   "metadata": {},
   "source": [
    "### march-cleaners"
   ]
  },
  {
   "cell_type": "markdown",
   "id": "3f3ec64f-d0bf-44b6-9f33-c1cd251f4c41",
   "metadata": {},
   "source": [
    "### cleaned-data  "
   ]
  },
  {
   "cell_type": "code",
   "execution_count": null,
   "id": "4b057ea2-fc2e-4ddc-9435-c3c5f8118a81",
   "metadata": {},
   "outputs": [],
   "source": [
    "input_path = \"../ref/origin/March-CPS/cleaned-data/\""
   ]
  },
  {
   "cell_type": "code",
   "execution_count": null,
   "id": "48db82ab-8e9b-4fcc-83af-fea1d37c9d64",
   "metadata": {},
   "outputs": [],
   "source": [
    "#%ls $input_path"
   ]
  },
  {
   "cell_type": "markdown",
   "id": "fa4714f2-56fa-4c91-9501-eefb7a69ff4d",
   "metadata": {},
   "source": [
    "#### variables"
   ]
  },
  {
   "cell_type": "code",
   "execution_count": null,
   "id": "6c6518f2-ffa6-4dd2-be5d-4d4df2b64fe2",
   "metadata": {},
   "outputs": [],
   "source": [
    "def show_var_label(y=99):\n",
    "    if y < 10:\n",
    "        y = \"0\" + str(y) \n",
    "    data = pd.read_stata(input_path+f\"mar{y}.dta\", iterator = True)\n",
    "    labels = data.variable_labels()\n",
    "    print(len(labels))\n",
    "    return labels"
   ]
  },
  {
   "cell_type": "code",
   "execution_count": null,
   "id": "d2ea10fa-d287-484e-8ce1-acaf6da1cf6e",
   "metadata": {},
   "outputs": [],
   "source": [
    "show_var_label(92)"
   ]
  },
  {
   "cell_type": "markdown",
   "id": "0e1eccc0-b522-4c5c-a3ae-4dd705f4e13a",
   "metadata": {},
   "source": [
    "### prep_wage"
   ]
  },
  {
   "cell_type": "markdown",
   "id": "e85dc37a-569c-43cd-8904-e977f93e3a13",
   "metadata": {},
   "source": [
    "#### tab-march-ineq"
   ]
  },
  {
   "cell_type": "code",
   "execution_count": null,
   "id": "f86e9584-e621-4ba0-b6f6-3361fcebd089",
   "metadata": {},
   "outputs": [],
   "source": [
    "year = 1976"
   ]
  },
  {
   "cell_type": "code",
   "execution_count": null,
   "id": "fb3f18ed-14d7-4067-a8b1-40f413865b57",
   "metadata": {},
   "outputs": [],
   "source": [
    "    df = pd.read_stata(input_path+\"mar\"+str(year)[-2:]+\".dta\")\n",
    "\n",
    "    # Only keep earnings sample ages 16-64\n",
    "    df = df.query(\"selfemp == 0\")\n",
    "    assert df.loc[df.winc_ws.isna(), \"hinc_ws\"].isna().value_counts().all()\n",
    "    assert df.loc[df.hinc_ws.isna(), \"winc_ws\"].isna().value_counts().all()\n",
    "    df = df.eval(\"\"\"\n",
    "            lnwinc = log(winc_ws) + log(gdp)\n",
    "            lnhinc = log(hinc_ws) + log(gdp)\n",
    "        \"\"\")\n",
    "    df = df.query(\"16 <= agely <=64\")\n",
    "\n",
    "    # Full-time and hourly samples\n",
    "    df = df.eval(\"ftfy = fulltime*fullyear\")\n",
    "    df.ftfy.describe().to_frame().T\n",
    "    df = df.eval(\"\"\"\n",
    "            ftsamp = (lnwinc == lnwinc) * ftfy * abs(bcwkwgkm-1)\n",
    "            hrsamp = (lnhinc == lnhinc) * abs(bchrwgkm-1)\n",
    "        \"\"\")\n",
    "    # @ ftsamp: weekly real wage not none + ftfy + above weekly real wage limit\n",
    "    # @ hrsamp: hourly real wage not none + above hourly real wage limit\n",
    "\n",
    "    df.loc[df.ftsamp == 0, \"lnwinc\"] = np.nan\n",
    "    df.loc[df.hrsamp == 0, \"lnhinc\"] = np.nan\n",
    "    df.query(\"ftsamp == 1\")[\"lnwinc\"].describe().to_frame().T\n",
    "    df.query(\"hrsamp == 1\")[\"lnhinc\"].describe().to_frame().T\n",
    "    df = df.query(\"ftsamp == 1 | hrsamp == 1\")\n",
    "\n",
    "    # Drop allocators\n",
    "    df = df.query(\"allocated == 0\")  # @ ?\n",
    "\n",
    "    # Create consistent education categories\n",
    "    if year <= 1991:\n",
    "        # gen byte educomp= max(0,_grdhi-(grdcom==2))\n",
    "        # tab educomp\n",
    "        assert df.eval(\"0 <= educomp <= 18\").all()\n",
    "        df = df.eval(\"\"\"\n",
    "                ed8 = educomp<=8\n",
    "                ed9  = educomp==9\n",
    "                ed10 = educomp==10\n",
    "                ed11 = educomp==11\n",
    "                edhsg = educomp==12 & grdcom.cat.codes+1==1\n",
    "                edsmc = (educomp>=13 & educomp<=15) | (educomp==12 & grdcom.cat.codes+1==2)\n",
    "                edclg = educomp==16 | educomp==17\n",
    "                edgtc = educomp>17\n",
    "        \"\"\")\n",
    "    else:\n",
    "        df = df.eval(\"\"\"\n",
    "                ed8  = grdatn<=34\n",
    "                ed9  = grdatn==35\n",
    "                ed10 = grdatn==36\n",
    "                ed11 = grdatn==37\n",
    "                edhsg = grdatn== 38 | grdatn==39\n",
    "                edsmc = grdatn>=40 & grdatn<=42\n",
    "                edclg = grdatn==43\n",
    "                edgtc = grdatn>=44\n",
    "        \"\"\")\n",
    "\n",
    "    # Drop if more than 48 years of experience to allow full range of experience for each education/age category (16, 3 year experience categories, last 45-48)\n",
    "    df = df.loc[df.exp <= 48]\n",
    "\n",
    "    # Generate experience categories\n",
    "    df[\"expcat\"] = (df.exp/3).astype(int) + 1\n",
    "    df.loc[df.expcat==17, \"expcat\"] = 16\n",
    "    assert df.eval(\"1<= expcat <= 16\").all()\n",
    "\n",
    "    df.groupby(\"expcat\")[\"exp\"].agg([\"mean\", \"min\", \"max\"])\n",
    "\n",
    "    # Generate education categories\n",
    "    df = df.apply(lambda x: x.astype(int) if x.dtype == bool else x)\n",
    "    df = df.eval(\"\"\"\n",
    "            edhsd= ed8 + ed9 + ed10 + ed11\n",
    "            edcat5 = edhsd + 2*edhsg + 3*edsmc + 4*edclg + 5*edgtc\n",
    "    \"\"\")\n",
    "    df.edcat5.value_counts()\n",
    "    assert df.eval(\"1 <= edcat5 <= 5\").all()"
   ]
  },
  {
   "cell_type": "code",
   "execution_count": null,
   "id": "b7920526-5a2c-4d88-a258-5ce72511a4e4",
   "metadata": {},
   "outputs": [],
   "source": [
    "    pctiles = pd.Series([3, 5, 10, 20, 30, 40, 50, 60, 70, 80, 90, 95, 97])\n",
    "    pctiles_ = pctiles / 100\n",
    "    df_pct = pd.DataFrame(index=pctiles)\n",
    "    df_stat = pd.DataFrame(index=[\"mn\", \"vln\"])\n",
    "\n",
    "    dt = df.query(\"ftsamp==1\")\n",
    "    wq = DescrStatsW(data=dt.lnwinc, weights=dt.wgt)\n",
    "    df_pct[\"tot_ft_mf\"] = wq.quantile(probs=pctiles_, return_pandas=False)\n",
    "    df_stat[\"tot_ft_mf\"] = [wq.mean, wq.var]\n",
    "\n",
    "    dt = df.query(\"ftsamp==1 & female==0\")\n",
    "    wq = DescrStatsW(data=dt.lnwinc, weights=dt.wgt)\n",
    "    df_pct[\"tot_ft_m\"] = wq.quantile(probs=pctiles_, return_pandas=False)\n",
    "    df_stat[\"tot_ft_m\"] = [wq.mean, wq.var]\n",
    "\n",
    "    dt = df.query(\"ftsamp==1 & female==1\")\n",
    "    wq = DescrStatsW(data=dt.lnwinc, weights=dt.wgt)\n",
    "    df_pct[\"tot_ft_f\"] = wq.quantile(probs=pctiles_, return_pandas=False)\n",
    "    df_stat[\"tot_ft_f\"] = [wq.mean, wq.var]\n",
    "\n",
    "    dt = df.query(\"hrsamp==1\")\n",
    "    wq = DescrStatsW(data=dt.lnhinc, weights=dt.wgt_hrs)\n",
    "    df_pct[\"tot_hr_mf\"] = wq.quantile(probs=pctiles_, return_pandas=False)\n",
    "    df_stat[\"tot_hr_mf\"] = [wq.mean, wq.var]\n",
    "\n",
    "    dt = df.query(\"hrsamp==1 & female==0\")\n",
    "    wq = DescrStatsW(data=dt.lnhinc, weights=dt.wgt_hrs)\n",
    "    df_pct[\"tot_hr_m\"] = wq.quantile(probs=pctiles_, return_pandas=False)\n",
    "    df_stat[\"tot_hr_m\"] = [wq.mean, wq.var]\n",
    "\n",
    "    dt = df.query(\"hrsamp==1 & female==1\")\n",
    "    wq = DescrStatsW(data=dt.lnhinc, weights=dt.wgt_hrs)\n",
    "    df_pct[\"tot_hr_f\"] = wq.quantile(probs=pctiles_, return_pandas=False)\n",
    "    df_stat[\"tot_hr_f\"] = [wq.mean, wq.var]"
   ]
  },
  {
   "cell_type": "code",
   "execution_count": null,
   "id": "48d63277-5cd9-40aa-b6ed-c71e998322ff",
   "metadata": {},
   "outputs": [],
   "source": [
    "pd.concat([df_stat,df_pct], axis=0, sort=False)"
   ]
  },
  {
   "cell_type": "code",
   "execution_count": null,
   "id": "81e94421-7069-44a8-9764-8bacd64a1d49",
   "metadata": {},
   "outputs": [],
   "source": [
    "from patsy import dmatrices"
   ]
  },
  {
   "cell_type": "code",
   "execution_count": null,
   "id": "fd605ba0-5a0e-4d99-9068-270ea8054d45",
   "metadata": {},
   "outputs": [],
   "source": [
    "dt = df.query(\"ftsamp==1\").copy()"
   ]
  },
  {
   "cell_type": "code",
   "execution_count": null,
   "id": "ac551902-804a-4331-b24b-72c04d9e1c8f",
   "metadata": {},
   "outputs": [],
   "source": [
    "y, X = dmatrices('lnwinc ~ female + C(edcat5) : C(expcat) - 1', dt, return_type=\"dataframe\")"
   ]
  },
  {
   "cell_type": "code",
   "execution_count": null,
   "id": "0f0e2b19-8ade-452a-987c-0bfe114e3284",
   "metadata": {},
   "outputs": [],
   "source": [
    "X = sm.add_constant(X.drop(\"C(edcat5)[2]:C(expcat)[1]\",axis=1))"
   ]
  },
  {
   "cell_type": "code",
   "execution_count": null,
   "id": "b65cedc0-2a1e-4a2f-ac20-3c748878576f",
   "metadata": {},
   "outputs": [],
   "source": [
    "sm.WLS(y,X,weights=dt.wgt).fit().summary()"
   ]
  },
  {
   "cell_type": "code",
   "execution_count": null,
   "id": "4481237e-c784-4b70-9104-c796f073c05a",
   "metadata": {},
   "outputs": [],
   "source": [
    "dt = df.query(\"ftsamp==1\")\n",
    "dt['edcat5'] = dt['edcat5'].astype('category')\n",
    "dt['expcat'] = dt['expcat'].astype('category')\n",
    "smf.ols(formula='lnwinc ~ female + edcat5 : expcat - 1', data=dt).fit().summary()"
   ]
  },
  {
   "cell_type": "code",
   "execution_count": null,
   "id": "aee8e666-a22e-4af0-a8d7-00f47102c502",
   "metadata": {},
   "outputs": [],
   "source": []
  }
 ],
 "metadata": {
  "kernelspec": {
   "display_name": "Python 3.8",
   "language": "python",
   "name": "python3"
  },
  "language_info": {
   "codemirror_mode": {
    "name": "ipython",
    "version": 3
   },
   "file_extension": ".py",
   "mimetype": "text/x-python",
   "name": "python",
   "nbconvert_exporter": "python",
   "pygments_lexer": "ipython3",
   "version": "3.8.8"
  }
 },
 "nbformat": 4,
 "nbformat_minor": 5
}
