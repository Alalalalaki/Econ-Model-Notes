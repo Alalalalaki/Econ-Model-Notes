{
 "cells": [
  {
   "cell_type": "markdown",
   "metadata": {},
   "source": [
    "This note replicate the code and results in Restuccia, D., & Rogerson, R. (2008). [Policy distortions and aggregate productivity with heterogeneous establishments](https://uh.edu/~bsorense/RestucciaRogersonRED2008.pdf). Review of Economic dynamics, 11(4), 707-720."
   ]
  },
  {
   "cell_type": "code",
   "execution_count": 1,
   "metadata": {},
   "outputs": [],
   "source": [
    "from interpolation import interp\n",
    "from scipy.optimize import brentq"
   ]
  },
  {
   "cell_type": "markdown",
   "metadata": {},
   "source": [
    "## Calculate Equilibrium"
   ]
  },
  {
   "cell_type": "markdown",
   "metadata": {},
   "source": [
    "- Consumer problem will determine steady-state rental rate of capital: \n",
    "$$R=r-\\delta=\\frac{1}{\\beta}-1$$\n",
    "- Whether to remain in operation equals to whether current period profits are non-negative since productivity does not change over time: \n",
    "$$\\pi(s, \\tau)=\\max _{n, k \\geqslant 0}\\left\\{(1-\\tau) s k^{\\alpha} n^{\\gamma}-w n-r k-c_{f}\\right\\}$$, which implies\n",
    "$$\\bar{k}(s, \\tau)=\\left(\\frac{\\alpha}{r}\\right)^{\\frac{1-\\gamma}{1-\\gamma-\\alpha}}\\left(\\frac{\\gamma}{w}\\right)^{\\frac{\\gamma}{1-\\alpha-\\gamma}}(s(1-\\tau))^{\\frac{1}{1-\\alpha-\\gamma}}$$\n",
    "$$\\bar{n}(s, \\tau)=\\left(\\frac{(1-\\tau) s \\gamma}{w}\\right)^{\\frac{1}{1-\\gamma}} k^{\\frac{\\alpha}{1-\\gamma}}$$\n",
    "- Zero profit condition for entry of establishments will determine steady-state wage rate: $$W_{e}=\\sum_{(s, \\tau)} \\max _{\\bar{x} \\in\\{0,1\\}}\\left\\{\\bar{x}(s, \\tau) W(s, \\tau) g(s, \\tau)-c_{e}\\right\\}$$, where $W(s, \\tau)=\\frac{\\pi(s, \\tau)}{1-\\rho}$, $\\rho=\\frac{1-\\lambda}{1+R}$, and $g(s, \\tau) = h(s) \\times \\mathcal{P}(s, \\tau)$\n",
    "- Labor market clearing determines the amount of entry: $$N(r, w)= \\sum_{(s, \\tau)} \\bar{n}(s, \\tau) \\hat{\\mu}(s, \\tau) = 1$$\n",
    "where \n",
    "$$\\mu^{\\prime}(s, \\tau)=(1-\\lambda) \\mu(s, \\tau)+\\bar{x}(s, \\tau) g(s, \\tau) E$$\n",
    "$$\\hat{\\mu}(s, \\tau)=\\frac{\\bar{x}(s, \\tau)}{\\lambda} g(s, \\tau)E\n",
    "$$\n",
    "- Government budget balance:\n",
    "$$T+\\sum_{(s, \\tau)} \\tau f(s, \\bar{k}, \\bar{n}) \\mu(s, \\tau)=0$$"
   ]
  },
  {
   "cell_type": "markdown",
   "metadata": {},
   "source": [
    "- Note that we use a large grid compared to 100 used in the paper to mitigate the effect from randomization"
   ]
  },
  {
   "cell_type": "code",
   "execution_count": 2,
   "metadata": {},
   "outputs": [],
   "source": [
    "class RR:\n",
    "    def __init__(self,        \n",
    "                    α = .85/3,    # target capital income share\n",
    "                    γ = .85*2/3,  # target labor income share\n",
    "                    β = .96,      # target real rate of return\n",
    "                    δ = .08,      # target invetment to output ratio\n",
    "                    ce = 1.0,      # normaization\n",
    "                    cf = .0,       # bechmark case no fixed cost\n",
    "                    λ = .1,       # annual exit rate\n",
    "                    Ns = 5000       # number of grid points\n",
    "                ):\n",
    "        self.α, self.γ = α, γ\n",
    "        self.β, self.δ = β, δ\n",
    "        self.ce, self.cf = ce, cf\n",
    "        self.λ = λ\n",
    "        self.Ns = Ns\n",
    "    \n",
    "        self.r, self.R = self.r_star()\n",
    "    \n",
    "    def r_star(self,):\n",
    "        β,δ = self.β, self.δ\n",
    "        r = 1/β - (1 - δ)\n",
    "        R = r - δ\n",
    "        return r, R\n",
    "\n",
    "    def k_demand(self, s, w, τ):\n",
    "        α, γ, r = self.α, self.γ, self.r\n",
    "        part1 = (α/r) ** ((1-γ)/(1-γ-α))\n",
    "        part2 = (γ/w) ** (γ/(1-γ-α))\n",
    "        part3 = (s * (1-τ)) ** (1/(1-γ-α))\n",
    "        return part1 * part2 * part3\n",
    "\n",
    "    def n_demand(self, s, k, w, τ):\n",
    "        α, γ = self.α, self.γ\n",
    "        part1 = ((1-τ)*s*γ/w) ** (1/(1-γ))\n",
    "        part2 = k**(α/(1-γ))\n",
    "        return part1 * part2\n",
    "    \n",
    "    def f(self, s, k, n,):\n",
    "        α, γ = self.α, self.γ\n",
    "        return s * k**α * n**γ\n",
    "\n",
    "    def π(self, s, k, n, w, τ):\n",
    "        r, cf = self.r, self.cf\n",
    "        revenue = (1-τ) * self.f(s,k,n)\n",
    "        cost = w*n + r*k + cf\n",
    "        return revenue - cost\n",
    "    \n",
    "    @staticmethod\n",
    "    def x_bar(π):\n",
    "        return (π >= 0).astype(int)\n",
    "        \n",
    "    def W(self, π):\n",
    "        λ, R = self.λ, self.R\n",
    "        discount = (1-λ)/(1+R)\n",
    "        return π/(1-discount)\n",
    "        \n",
    "    "
   ]
  },
  {
   "cell_type": "code",
   "execution_count": 3,
   "metadata": {},
   "outputs": [],
   "source": [
    "m = RR()"
   ]
  },
  {
   "cell_type": "markdown",
   "metadata": {},
   "source": [
    "### Impute grids from data"
   ]
  },
  {
   "cell_type": "markdown",
   "metadata": {},
   "source": [
    "- Data from U.S. Census of Businesses (Rossi-Hansberg and Wright, AER 2007). All industries for 2000.\n",
    "- US is treated as an economy with no distortions\n",
    "- Use \n",
    "$$\\frac{n_{i}}{n_{j}}=\\left(\\frac{s_{i}}{s_{j}}\\right)^{\\frac{1}{(1-\\gamma-\\alpha)}}$$ and normalizing the lowest level of establishment ($n=1$) productivity to 1 "
   ]
  },
  {
   "cell_type": "code",
   "execution_count": 4,
   "metadata": {},
   "outputs": [],
   "source": [
    "df = pd.read_csv('reference/RR2008/files/establishment_dist.txt',\n",
    "                 sep='\\t',header=None, names=['n_uppers', 'hs'])\n",
    "df = df.assign(Hs = np.cumsum(df.hs))"
   ]
  },
  {
   "cell_type": "code",
   "execution_count": 5,
   "metadata": {},
   "outputs": [],
   "source": [
    "def imput_grids(m, df):\n",
    "    α, γ = m.α, m.γ\n",
    "    Ns = m.Ns \n",
    "    s_max = df.n_uppers.iloc[-1] ** (1-γ-α) # normalized s given s(n=1)=1\n",
    "    s_vals = np.logspace(0, np.log(s_max)/np.log(10), Ns) # productivity grid\n",
    "    n_vals = s_vals ** (1/(1-γ-α)) # size grid\n",
    "    hs = np.zeros(Ns) # pmf\n",
    "    n_uppers = np.r_[0, df.n_uppers.values]\n",
    "    for i in range(len(n_uppers)-1):\n",
    "        inds = (n_vals > n_uppers[i]) & (n_vals <= n_uppers[i+1]) \n",
    "        hs[inds] = df.hs.values[i] / sum(inds) if sum(inds) >0 else 0\n",
    "    return s_vals, n_vals, hs\n",
    "\n",
    "s_vals, n_vals, hs = imput_grids(m, df)"
   ]
  },
  {
   "cell_type": "code",
   "execution_count": 6,
   "metadata": {},
   "outputs": [
    {
     "data": {
      "image/png": "[encoded data removed]",
      "text/plain": [
       "<Figure size 432x288 with 1 Axes>"
      ]
     },
     "metadata": {
      "image/png": {
       "height": 265,
       "width": 388
      }
     },
     "output_type": "display_data"
    }
   ],
   "source": [
    "fig,ax=plt.subplots()\n",
    "df.plot.scatter('n_uppers','Hs', ax=ax)\n",
    "ax.plot(n_vals, np.cumsum(hs))\n",
    "ax.set_xscale('log');"
   ]
  },
  {
   "cell_type": "markdown",
   "metadata": {},
   "source": [
    "### Solve for benchmark economy"
   ]
  },
  {
   "cell_type": "code",
   "execution_count": 7,
   "metadata": {},
   "outputs": [],
   "source": [
    "# in benchmark economy, no distortion\n",
    "τ_vals = np.array([0])\n",
    "P = np.ones((m.Ns, len(τ_vals)))\n",
    "g = hs.reshape(m.Ns,1) * P"
   ]
  },
  {
   "cell_type": "code",
   "execution_count": 8,
   "metadata": {},
   "outputs": [],
   "source": [
    "def solve_wage(m, s_vals, τ_vals, g,\n",
    "               w_min=1e-2, w_max=10,\n",
    "               output_diff_func=False):\n",
    "    ce = m.ce\n",
    "    s_grid = np.tile(s_vals, (len(τ_vals), 1)).T\n",
    "    τ_grid = np.tile(τ_vals, (len(s_vals), 1))\n",
    "    \n",
    "    def free_entry_diff(w):\n",
    "        k = m.k_demand(s_grid, w, τ_grid)\n",
    "        n = m.n_demand(s_grid, k, w, τ_grid)\n",
    "        π = m.π(s_grid, k, n, w, τ_grid)\n",
    "        x_bar = m.x_bar(π)\n",
    "        W = m.W(π)\n",
    "        W_e = np.sum(x_bar*W*g) - ce\n",
    "        return W_e\n",
    "    \n",
    "    if output_diff_func:\n",
    "        return free_entry_diff\n",
    "    \n",
    "    assert free_entry_diff(w_min) > 0, \"W_e(w_min) should be positive\"\n",
    "    assert free_entry_diff(w_max) < 0, \"W_e(w_max) should be negative\"\n",
    "    \n",
    "    w_star = brentq(free_entry_diff, w_min, w_max, )   \n",
    "    k = m.k_demand(s_grid, w_star, τ_grid)\n",
    "    n = m.n_demand(s_grid, k, w_star, τ_grid)\n",
    "    π = m.π(s_grid, k, n, w_star, τ_grid)\n",
    "    x_bar = m.x_bar(π)\n",
    "    f_grid = m.f(s_grid, k, n)\n",
    "    return w_star, n, k, x_bar, f_grid, τ_grid"
   ]
  },
  {
   "cell_type": "code",
   "execution_count": 9,
   "metadata": {},
   "outputs": [],
   "source": [
    "# # plot W_e\n",
    "# diff = solve_wage(m, s_vals, τ_vals, g, output_diff_func=True)\n",
    "# w_ = np.linspace(0.6, 2, 100)\n",
    "# W_e_ = np.empty(100)\n",
    "# for i, w in enumerate(w_):\n",
    "#     W_e_[i] = diff(w) \n",
    "\n",
    "# plt.plot(w_, W_e_);"
   ]
  },
  {
   "cell_type": "code",
   "execution_count": 10,
   "metadata": {},
   "outputs": [],
   "source": [
    "w, n_grid, k_grid, x_bar, f_grid, τ_grid = solve_wage(m, s_vals, τ_vals, g)"
   ]
  },
  {
   "cell_type": "code",
   "execution_count": 11,
   "metadata": {},
   "outputs": [],
   "source": [
    "def solve_entry(m, g, w, n_grid, x_bar, E_min, E_max):\n",
    "    λ = m.λ\n",
    "    def labor_market_diff(E,):\n",
    "        μ = (x_bar/λ) * g * E\n",
    "        N = np.sum(n_grid * μ)\n",
    "        return N-1\n",
    "    \n",
    "    assert labor_market_diff(E_min) < 0, \"N(E_min) should be < 1\"\n",
    "    assert labor_market_diff(E_max) > 0, \"N(E_max) should be > 1\"\n",
    "    \n",
    "    E_star = brentq(labor_market_diff, E_min, E_max, )\n",
    "    μ = (x_bar/λ) * g * E_star\n",
    "    return E_star, μ\n",
    "    "
   ]
  },
  {
   "cell_type": "code",
   "execution_count": 12,
   "metadata": {},
   "outputs": [],
   "source": [
    "E, μ = solve_entry(m, g, w, n_grid, x_bar, 1e-2, 10)"
   ]
  },
  {
   "cell_type": "code",
   "execution_count": 13,
   "metadata": {},
   "outputs": [],
   "source": [
    "# lump sum tax\n",
    "T = - np.sum(τ_grid * f_grid * μ) # here no distortion thus 0"
   ]
  },
  {
   "cell_type": "code",
   "execution_count": 14,
   "metadata": {},
   "outputs": [
    {
     "data": {
      "text/plain": [
       "0.5419484961054183"
      ]
     },
     "execution_count": 14,
     "metadata": {},
     "output_type": "execute_result"
    }
   ],
   "source": [
    "# it seems when calculate Table 2 they use n_vals rather than n_grid\n",
    "M = μ.sum()\n",
    "np.sum(μ[n_vals < 5]) / M "
   ]
  },
  {
   "cell_type": "code",
   "execution_count": 15,
   "metadata": {},
   "outputs": [
    {
     "data": {
      "text/plain": [
       "7.807063965755106"
      ]
     },
     "execution_count": 15,
     "metadata": {},
     "output_type": "execute_result"
    }
   ],
   "source": [
    "# aggregate capital\n",
    "K_nd = np.sum(μ * k_grid)\n",
    "K_nd"
   ]
  },
  {
   "cell_type": "code",
   "execution_count": 16,
   "metadata": {},
   "outputs": [
    {
     "data": {
      "text/plain": [
       "3.3524451147066068"
      ]
     },
     "execution_count": 16,
     "metadata": {},
     "output_type": "execute_result"
    }
   ],
   "source": [
    "# aggregate output\n",
    "Y_nd = np.sum(μ * f_grid)\n",
    "Y_nd"
   ]
  },
  {
   "cell_type": "markdown",
   "metadata": {},
   "source": [
    "## Quantitative analysis of distortions"
   ]
  },
  {
   "cell_type": "markdown",
   "metadata": {},
   "source": [
    "### Uncorrelated idiosyncratic distortions"
   ]
  },
  {
   "cell_type": "code",
   "execution_count": 17,
   "metadata": {},
   "outputs": [],
   "source": [
    "def solve_subsidy(m, τ, τ_s_min, τ_s_max, K_nd=K_nd,):\n",
    "    def K_diff(τ_s):\n",
    "        τ_vals = np.array([τ, τ_s])\n",
    "        P = np.random.choice([0,1], (m.Ns,1), p=[.5,.5])\n",
    "        P = np.c_[P,1-P]\n",
    "        g = hs.reshape(m.Ns,1) * P\n",
    "        w, n_grid, k_grid, x_bar, f_grid, τ_grid = solve_wage(m, s_vals, τ_vals, g)\n",
    "        E, μ = solve_entry(m, g, w, n_grid, x_bar, 1e-2, 10)\n",
    "        K = np.sum(μ * k_grid)\n",
    "        return K - K_nd\n",
    "    \n",
    "    τ_s = brentq(K_diff, τ_s_min, τ_s_max, )\n",
    "    return τ_s"
   ]
  },
  {
   "cell_type": "code",
   "execution_count": 18,
   "metadata": {},
   "outputs": [
    {
     "name": "stdout",
     "output_type": "stream",
     "text": [
      "when τ = 0.1\n",
      "relative_Y = 0.9837327783985457 ; τ_s = -0.06358905598582874\n",
      "when τ = 0.2\n",
      "relative_Y = 0.9547194724628698 ; τ_s = -0.08979102941561665\n",
      "when τ = 0.3\n",
      "relative_Y = 0.9310034664985306 ; τ_s = -0.10190472323987665\n",
      "when τ = 0.4\n",
      "relative_Y = 0.9141806522365276 ; τ_s = -0.1038610146730921\n"
     ]
    }
   ],
   "source": [
    "for τ in [0.1, 0.2, 0.3, 0.4]:\n",
    "    print(f'when τ = {τ}')\n",
    "    τ_s = solve_subsidy(m, τ, -0.01, -0.2)\n",
    "    τ_vals = np.array([τ, τ_s])\n",
    "    P = np.random.choice([0,1], (m.Ns,1), p=[.5,.5])\n",
    "    P = np.c_[P,1-P]\n",
    "    g = hs.reshape(m.Ns,1) * P\n",
    "    w, n_grid, k_grid, x_bar, f_grid, τ_grid = solve_wage(m, s_vals, τ_vals, g)\n",
    "    E, μ = solve_entry(m, g, w, n_grid, x_bar, 1e-2, 10)\n",
    "    Y = np.sum(μ * f_grid)\n",
    "    print(f'relative_Y = {Y/Y_nd} ; τ_s = {τ_s}')"
   ]
  },
  {
   "cell_type": "code",
   "execution_count": null,
   "metadata": {},
   "outputs": [],
   "source": []
  },
  {
   "cell_type": "markdown",
   "metadata": {},
   "source": [
    "### Correlated idiosyncratic distortions"
   ]
  },
  {
   "cell_type": "code",
   "execution_count": null,
   "metadata": {},
   "outputs": [],
   "source": []
  }
 ],
 "metadata": {
  "kernelspec": {
   "display_name": "Python 3.8",
   "language": "python",
   "name": "python3"
  },
  "language_info": {
   "codemirror_mode": {
    "name": "ipython",
    "version": 3
   },
   "file_extension": ".py",
   "mimetype": "text/x-python",
   "name": "python",
   "nbconvert_exporter": "python",
   "pygments_lexer": "ipython3",
   "version": "3.8.2"
  },
  "toc-autonumbering": false
 },
 "nbformat": 4,
 "nbformat_minor": 4
}
