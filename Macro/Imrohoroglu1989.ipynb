{
 "cells": [
  {
   "cell_type": "markdown",
   "metadata": {},
   "source": [
    "This note replicates the results in Imrohoroğlu, A. (1989). Cost of business cycles with indivisibilities and liquidity constraints. Journal of Political economy, 97(6), 1364-1383."
   ]
  },
  {
   "cell_type": "code",
   "execution_count": null,
   "metadata": {},
   "outputs": [],
   "source": [
    "from numba import njit, prange, float64, int64\n",
    "from numba.experimental import jitclass\n",
    "from interpolation import interp\n",
    "from quantecon.optimize import brent_max, brentq\n",
    "from quantecon import MarkovChain"
   ]
  },
  {
   "cell_type": "markdown",
   "metadata": {},
   "source": [
    "## Calibrate Parameters and Discretize State Variables"
   ]
  },
  {
   "cell_type": "code",
   "execution_count": null,
   "metadata": {},
   "outputs": [],
   "source": [
    "class BusinessCycleModel:\n",
    "    def __init__(self,\n",
    "                 period = 6, # weeks\n",
    "                 r_save = .00, # net real return on stored assets\n",
    "                 r_borrow = .08, # rate on borrowing\n",
    "                 y = 1, # income if employed\n",
    "                 theta = .25, # income ratio if unemployed\n",
    "                 beta = .995, # implies an annual time discount rate of 4%\n",
    "                 sigma = 6.2, # coefficient of risk aversion, later try also 1.5 in Lucas\n",
    "                 business_cycle=True, \n",
    "                 a_max = 8, \n",
    "                 a_min = 0,\n",
    "                 Na = 301,\n",
    "                ):\n",
    "        \n",
    "        # parameters\n",
    "        self.period, self.beta = period, beta\n",
    "        self.periods_in_a_year = 52 / period\n",
    "        self.r_save, self.r_borrow = r_save, r_borrow\n",
    "        self.R = 1 + r_save\n",
    "        self.sigma = sigma\n",
    "        self.Na = Na\n",
    "        \n",
    "        # transition matrices\n",
    "        if business_cycle:\n",
    "            self.P = np.array([\n",
    "                        [0.9141, 0.0234, 0.0587, 0.0038],\n",
    "                        [0.5625, 0.3750, 0.0269, 0.0356],\n",
    "                        [0.0608, 0.0016, 0.8813, 0.0563],\n",
    "                        [0.0375, 0.0250, 0.4031, 0.5344],\n",
    "                    ])\n",
    "            self.Ns = 4 \n",
    "            self.Ns_label = ['ge', 'gu', 'be', 'bu']\n",
    "            print('Construct model with business cycle.')\n",
    "        else:\n",
    "            self.P = np.array([\n",
    "                        [.9565, .0435],\n",
    "                        [.5000, .5000]\n",
    "                    ])\n",
    "            self.Ns = 2 \n",
    "            self.Ns_label = ['e', 'u']\n",
    "            print('Construct model without business cycle.')\n",
    "        \n",
    "        # state variables\n",
    "        self.a_vals = np.linspace(a_min,a_max,self.Na)\n",
    "        self.y_vals = np.array([y, y*theta]*int(self.Ns/2))\n",
    "                "
   ]
  },
  {
   "cell_type": "markdown",
   "metadata": {},
   "source": [
    "## Value Function Iteration"
   ]
  },
  {
   "cell_type": "code",
   "execution_count": null,
   "metadata": {},
   "outputs": [],
   "source": [
    "def operator_factory_value_iteration(model, parallel_flag=True):\n",
    "    \"\"\"\n",
    "    A function factory that output utility function and value fuction iterator\n",
    "    \"\"\"\n",
    "    \n",
    "    beta, sigma, r = model.beta, model.sigma, model.r_save\n",
    "    Na, Ns = model.Na, model.Ns\n",
    "    a_vals, y_vals = model.a_vals, model.y_vals\n",
    "    P = model.P\n",
    "    _u = np.empty([Na, Ns, Na])\n",
    "\n",
    "    @njit(parallel=parallel_flag)\n",
    "    def util():\n",
    "        \"\"\"\n",
    "        Indirect utility function\n",
    "        Calculate at first for tabulation use later\n",
    "        \"\"\"\n",
    "        c = np.empty_like(_u)\n",
    "        u = np.empty_like(_u)\n",
    "        for a0 in prange(Na):\n",
    "            for s0 in prange(Ns):\n",
    "                for a1 in prange(Na):\n",
    "                    c0 = a_vals[a0] + y_vals[s0] - a_vals[a1]/(1+r)\n",
    "                    c[a0, s0, a1] = c0\n",
    "                    if c0 <= 0:\n",
    "                        u[a0, s0, a1] = -1e8\n",
    "                    else:\n",
    "                        u[a0, s0, a1] = c0**(1-sigma) / (1-sigma)\n",
    "        return c, u\n",
    "\n",
    "    @njit(parallel=parallel_flag)\n",
    "    def T(v,u):\n",
    "        \"\"\"\n",
    "        The Bellman operator\n",
    "        Return new value function and the policy function\n",
    "        \"\"\"\n",
    "\n",
    "        v_new = np.empty_like(v)\n",
    "        policy = np.empty_like(v)\n",
    "        σ = np.empty_like(v)\n",
    "        for a0 in prange(Na):\n",
    "            for s0 in prange(Ns):\n",
    "                v_vals = np.zeros(Na)\n",
    "                for a1 in prange(Na):\n",
    "                    u0 = u[a0,s0,a1]\n",
    "                    v_vals[a1] = u0 + beta * P[s0] @ v[a1,:]\n",
    "                v_new[a0,s0] = np.max(v_vals)\n",
    "                a1 = np.argmax(v_vals)\n",
    "                policy[a0,s0] = a1\n",
    "                σ[a0,s0] = a_vals[a0] + y_vals[s0] - a_vals[a1]/(1+r)\n",
    "                \n",
    "        return v_new, policy, σ\n",
    "\n",
    "    return util, T"
   ]
  },
  {
   "cell_type": "code",
   "execution_count": null,
   "metadata": {},
   "outputs": [],
   "source": [
    "def solve_model_value_iteration(\n",
    "                model, \n",
    "                use_parallel = True,\n",
    "                tol=1e-4, \n",
    "                max_iter=5000,\n",
    "                verbose=True,\n",
    "                print_skip=50):\n",
    "    \"\"\"\n",
    "    Iterates to convergence on the Bellman equations\n",
    "    \"\"\"\n",
    "    \n",
    "    print('Solve model with value function iteration.')\n",
    "    \n",
    "    util, T = operator_factory_value_iteration(model, use_parallel)\n",
    "    _, u = util() \n",
    "    \n",
    "    # Set up loop\n",
    "    i = 0\n",
    "    error = tol + 1\n",
    "    \n",
    "    # Initialize v\n",
    "    v = np.zeros([model.Na, model.Ns])    \n",
    "        \n",
    "    while i < max_iter and error > tol:\n",
    "        v_new, policy, σ = T(v,u)\n",
    "        error = np.max(np.abs(v - v_new))\n",
    "        i += 1\n",
    "        if verbose and i % print_skip == 0:\n",
    "            print(f\"Error at iteration {i} is {error}.\")\n",
    "        v = v_new\n",
    "        \n",
    "    if i == max_iter:\n",
    "        print(\"Failed to converge!\")\n",
    "\n",
    "    if i < max_iter:\n",
    "        print(f\"Converged in {i} iterations.\") \n",
    "        policy = policy.astype(int)\n",
    "    \n",
    "    return v, policy, σ\n",
    "    "
   ]
  },
  {
   "cell_type": "code",
   "execution_count": null,
   "metadata": {},
   "outputs": [],
   "source": [
    "bc = BusinessCycleModel()"
   ]
  },
  {
   "cell_type": "code",
   "execution_count": null,
   "metadata": {},
   "outputs": [],
   "source": [
    "%%time\n",
    "v, policy, σ_star = solve_model_value_iteration(bc,)"
   ]
  },
  {
   "cell_type": "code",
   "execution_count": null,
   "metadata": {},
   "outputs": [],
   "source": [
    "# plot policy function\n",
    "fig, ax = plt.subplots()\n",
    "for s in range(bc.Ns):\n",
    "    ax.plot(bc.a_vals,bc.a_vals[policy[:,s]],  label=bc.Ns_label[s])\n",
    "ax.plot(bc.a_vals,bc.a_vals, color='black', linestyle='--')\n",
    "ax.set(xlabel='$a_t$', ylabel='$a_{t+1}$')\n",
    "ax.legend()\n",
    "plt.show();"
   ]
  },
  {
   "cell_type": "code",
   "execution_count": null,
   "metadata": {},
   "outputs": [],
   "source": [
    "# plot consuming policy function\n",
    "fig, ax = plt.subplots()\n",
    "for s in range(bc.Ns):\n",
    "    label = rf'$\\sigma^*(\\cdot, {s}) - {bc.Ns_label[s]}$'\n",
    "    ax.plot(bc.a_vals, σ_star[:, s], label=label)\n",
    "ax.set(xlabel='$a_t$', ylabel='$c_t$')\n",
    "ax.legend()\n",
    "plt.show();"
   ]
  },
  {
   "cell_type": "markdown",
   "metadata": {},
   "source": [
    "## Policy Function Iteration"
   ]
  },
  {
   "cell_type": "markdown",
   "metadata": {},
   "source": [
    "- $V(a, s)=\\max \\left\\{U(c)+\\beta \\sum_{s^{\\prime}} \\mathbf{\\Pi}\\left(s, s^{\\prime}\\right) V\\left(a^{\\prime}, s^{\\prime}\\right)\\right\\}$ "
   ]
  },
  {
   "cell_type": "code",
   "execution_count": null,
   "metadata": {},
   "outputs": [],
   "source": [
    "def operator_factory_time_iteration(model):\n",
    "    \"\"\"\n",
    "    A function factory that output utility function and value fuction iterator\n",
    "    \"\"\"\n",
    "    \n",
    "    beta, sigma, R = model.beta, model.sigma, model.R\n",
    "    Na, Ns = model.Na, model.Ns\n",
    "    a_vals, y_vals = model.a_vals, model.y_vals\n",
    "    P = model.P    \n",
    "    \n",
    "    @njit\n",
    "    def u_prime(c):\n",
    "        return c**(-sigma)\n",
    "\n",
    "    @njit\n",
    "    def euler_diff(c, a, s, σ_vals):\n",
    "        \"\"\"\n",
    "        The difference between the left- and right-hand side\n",
    "        of the Euler Equation, given current policy σ.\n",
    "\n",
    "            * c is the consumption choice\n",
    "            * (a, s) is the state, with s in {0,1,...,Ns}\n",
    "            * σ_vals is a policy represented as a matrix.\n",
    "        \"\"\"\n",
    "\n",
    "        # Convert policy into a function by linear interpolation\n",
    "        def σ(a, s):\n",
    "            return interp(a_vals, σ_vals[:, s], a)\n",
    "\n",
    "        # Calculate the expectation conditional on current z\n",
    "        expect = 0.0\n",
    "        for s1 in range(Ns):\n",
    "            expect += u_prime(σ(R * (a - c + y_vals[s]), s1)) * P[s, s1]\n",
    "\n",
    "        return u_prime(c) - max(beta * R * expect, u_prime(a+y_vals[s]))\n",
    "    \n",
    "    @njit\n",
    "    def K(σ):\n",
    "        \"\"\"\n",
    "        The operator K.\n",
    "        \"\"\"\n",
    "        σ_new = np.empty_like(σ)\n",
    "        for i, a in enumerate(a_vals):\n",
    "            for s in range(Ns):\n",
    "                result = brentq(euler_diff, 1e-8, a+y_vals[s], args=(a, s, σ))\n",
    "                σ_new[i, s] = result.root\n",
    "\n",
    "        return σ_new\n",
    "    \n",
    "    return euler_diff, K"
   ]
  },
  {
   "cell_type": "code",
   "execution_count": null,
   "metadata": {},
   "outputs": [],
   "source": [
    "def solve_model_time_iter(model,    # Class with model information\n",
    "                          tol=1e-4,\n",
    "                          max_iter=1000,\n",
    "                          verbose=True,\n",
    "                          print_skip=25):\n",
    "    \n",
    "    print('Solve model with policy function iteration.')\n",
    "    \n",
    "    euler_diff, K = operator_factory_time_iteration(model)\n",
    "    \n",
    "    # Set up initial consumption policy\n",
    "    σ = np.repeat(model.a_vals.reshape(model.Na, 1), model.Ns, axis=1)\n",
    "\n",
    "    # Set up loop\n",
    "    i = 0\n",
    "    error = tol + 1\n",
    "\n",
    "    while i < max_iter and error > tol:\n",
    "        σ_new = K(σ)\n",
    "        error = np.max(np.abs(σ - σ_new))\n",
    "        i += 1\n",
    "        if verbose and i % print_skip == 0:\n",
    "            print(f\"Error at iteration {i} is {error}.\")\n",
    "        σ = σ_new\n",
    "\n",
    "    if i == max_iter:\n",
    "        print(\"Failed to converge!\")\n",
    "\n",
    "    if verbose:\n",
    "        print(f\"\\nConverged in {i} iterations.\")\n",
    "\n",
    "    return σ_new"
   ]
  },
  {
   "cell_type": "code",
   "execution_count": null,
   "metadata": {},
   "outputs": [],
   "source": [
    "%%time\n",
    "bc = BusinessCycleModel()\n",
    "σ_star = solve_model_time_iter(bc)"
   ]
  },
  {
   "cell_type": "code",
   "execution_count": null,
   "metadata": {},
   "outputs": [],
   "source": [
    "fig, ax = plt.subplots()\n",
    "for s in range(bc.Ns):\n",
    "    label = rf'$\\sigma^*(\\cdot, {s}) - {bc.Ns_label[s]}$'\n",
    "    ax.plot(bc.a_vals, σ_star[:, s], label=label)\n",
    "ax.set(xlabel='$a_t$', ylabel='$c_t$')\n",
    "ax.legend()\n",
    "plt.show();"
   ]
  },
  {
   "cell_type": "code",
   "execution_count": null,
   "metadata": {},
   "outputs": [],
   "source": [
    "# plot asset policy function\n",
    "fig, ax = plt.subplots()\n",
    "for s in range(bc.Ns):\n",
    "    a1 = bc.R * (bc.a_vals - σ_star[:, s] + bc.y_vals[s]) \n",
    "    ax.plot(bc.a_vals, a1, label=bc.Ns_label[s])\n",
    "ax.plot(bc.a_vals,bc.a_vals, color='black', linestyle='--')\n",
    "ax.set(xlabel='$a_t$', ylabel='$a_{t+1}$')\n",
    "ax.legend()\n",
    "plt.show();"
   ]
  },
  {
   "cell_type": "markdown",
   "metadata": {},
   "source": [
    "## Stationary Distribution - Montel Carlo Simulation"
   ]
  },
  {
   "cell_type": "code",
   "execution_count": null,
   "metadata": {},
   "outputs": [],
   "source": [
    "def compute_asset_series(model, σ_star, T=500_000, seed=1234):\n",
    "    \"\"\"\n",
    "    Simulates a time series of length T for assets, given optimal\n",
    "    savings behavior.\n",
    "    \"\"\"\n",
    "    P, a_vals, y_vals, R  = model.P, model.a_vals, model.y_vals, model.R\n",
    "     \n",
    "    σ = lambda a, s: interp(a_vals, σ_star[:, s], a)\n",
    "\n",
    "    # Simulate the exogeneous state process\n",
    "    mc = MarkovChain(P)\n",
    "    s_seq = mc.simulate(T, random_state=seed)\n",
    "\n",
    "    # Simulate the asset path\n",
    "    a_path = np.zeros(T+1)\n",
    "    for t in range(T):\n",
    "        s = s_seq[t]\n",
    "        a_path[t+1] = R * (a_path[t] - σ(a_path[t], s) + y_vals[s])\n",
    "    return a_path"
   ]
  },
  {
   "cell_type": "code",
   "execution_count": null,
   "metadata": {},
   "outputs": [],
   "source": [
    "bc = BusinessCycleModel()\n",
    "σ_star = solve_model_time_iter(bc, verbose=False)\n",
    "a_path = compute_asset_series(bc, σ_star)\n",
    "\n",
    "fig, ax = plt.subplots()\n",
    "ax.hist(a_path, bins=20, alpha=0.5, density=True)\n",
    "ax.set(xlabel='assets')\n",
    "plt.show();"
   ]
  },
  {
   "cell_type": "markdown",
   "metadata": {},
   "source": [
    "## Stationary Distribution - "
   ]
  },
  {
   "cell_type": "code",
   "execution_count": null,
   "metadata": {},
   "outputs": [],
   "source": [
    "def solve_invariant_dist(\n",
    "                bcm, \n",
    "                policy,\n",
    "                parallel_flag=True,\n",
    "                tol=1e-5, \n",
    "                max_iter=1000,\n",
    "                verbose=True,\n",
    "                print_skip=50):\n",
    "    \n",
    "    Na, Ns = bcm.Na, bcm.Ns\n",
    "    P = bcm.P\n",
    "    \n",
    "    # Set up loop\n",
    "    i = 0\n",
    "    error = 1e3\n",
    "    \n",
    "    # Initialize distribution\n",
    "    pmf = np.ones_like(policy) * (1/(Na*Ns))\n",
    "    \n",
    "    # Iteration function\n",
    "    @njit(parallel=parallel_flag)\n",
    "    def dist_iter(pmf):\n",
    "        pmf_new = np.zeros_like(pmf)\n",
    "        for a0 in prange(Na):\n",
    "            for s0 in prange(Ns):\n",
    "                a1 = policy[a0,s0]\n",
    "                for s1 in prange(Ns):\n",
    "                    pmf_new[a1,s1] += P[s0,s1] * pmf[a0,s0]\n",
    "        return pmf_new\n",
    "        \n",
    "    while i < max_iter and error > tol:\n",
    "        pmf_new = dist_iter(pmf)\n",
    "        error = np.max(np.abs(pmf - pmf_new))\n",
    "        i += 1\n",
    "        if verbose and i % print_skip == 0:\n",
    "            print(f\"Error at iteration {i} is {error}.\")\n",
    "            print(f\"Pmf sum is {pmf_new.flatten().sum()}.\")\n",
    "        pmf = pmf_new\n",
    "        \n",
    "    if i == max_iter:\n",
    "        print(\"Failed to converge!\")\n",
    "\n",
    "    if i < max_iter:\n",
    "        print(f\"Converged in {i} iterations.\")        \n",
    "    \n",
    "    return pmf"
   ]
  },
  {
   "cell_type": "code",
   "execution_count": null,
   "metadata": {},
   "outputs": [],
   "source": [
    "bc = BusinessCycleModel()\n",
    "_, policy, _ = solve_model_value_iteration(bc,)\n",
    "pmf = solve_invariant_dist(bc, policy)"
   ]
  },
  {
   "cell_type": "code",
   "execution_count": null,
   "metadata": {},
   "outputs": [],
   "source": [
    "# plot distribution\n",
    "fig, ax = plt.subplots(2, figsize=(6,8))\n",
    "ax[0].plot(bc.a_vals, pmf[:,0], label='ge')\n",
    "ax[0].plot(bc.a_vals, pmf[:,1], label='gu')\n",
    "ax[0].legend()\n",
    "ax[1].plot(bc.a_vals, pmf[:,2], label='be')\n",
    "ax[1].plot(bc.a_vals, pmf[:,3], label='bu')\n",
    "ax[1].legend();"
   ]
  },
  {
   "cell_type": "code",
   "execution_count": null,
   "metadata": {},
   "outputs": [],
   "source": []
  }
 ],
 "metadata": {
  "kernelspec": {
   "display_name": "Python 3.8",
   "language": "python",
   "name": "python3"
  },
  "language_info": {
   "codemirror_mode": {
    "name": "ipython",
    "version": 3
   },
   "file_extension": ".py",
   "mimetype": "text/x-python",
   "name": "python",
   "nbconvert_exporter": "python",
   "pygments_lexer": "ipython3",
   "version": "3.8.2"
  }
 },
 "nbformat": 4,
 "nbformat_minor": 4
}
