{
 "cells": [
  {
   "cell_type": "markdown",
   "metadata": {},
   "source": [
    "This note replicates the results in Imrohoroğlu, A. (1989). Cost of business cycles with indivisibilities and liquidity constraints. Journal of Political economy, 97(6), 1364-1383."
   ]
  },
  {
   "cell_type": "code",
   "execution_count": null,
   "metadata": {},
   "outputs": [],
   "source": [
    "from numba import njit, prange, float64, int64\n",
    "from numba.experimental import jitclass\n",
    "from interpolation import interp\n",
    "from quantecon.optimize import brent_max, brentq\n",
    "from quantecon import MarkovChain"
   ]
  },
  {
   "cell_type": "markdown",
   "metadata": {},
   "source": [
    "## Calibrate Parameters and Discretize State Variables"
   ]
  },
  {
   "cell_type": "code",
   "execution_count": null,
   "metadata": {},
   "outputs": [],
   "source": [
    "class BusinessCycleModel:\n",
    "    def __init__(self,\n",
    "                 period = 6, # weeks\n",
    "                 r_save = .00, # net real return on stored assets\n",
    "                 r_borrow = .08, # rate on borrowing annually\n",
    "                 y = 1, # income if employed\n",
    "                 theta = .25, # income ratio if unemployed\n",
    "                 beta = .995, # implies an annual time discount rate of 4%\n",
    "                 sigma = 1.5, # coefficient of risk aversion\n",
    "                 business_cycle=True, \n",
    "                 a_max = 8, \n",
    "                 a_min = 0,\n",
    "                 Na = 301,\n",
    "                 verbose = True\n",
    "                ):\n",
    "        \n",
    "        # parameters\n",
    "        self.period, self.beta = period, beta\n",
    "        self.periods_in_a_year = 52 / period\n",
    "        self.R_save = 1 + r_save\n",
    "        self.R_borrow = (1 + r_borrow)**(1/self.periods_in_a_year)\n",
    "        self.sigma = sigma\n",
    "        self.Na = Na\n",
    "        self.a_min, self.a_max = a_min, a_max\n",
    "        \n",
    "        # transition matrices\n",
    "        if business_cycle:\n",
    "            self.P = np.array([\n",
    "                        [0.9141, 0.0234, 0.0587, 0.0038],\n",
    "                        [0.5625, 0.3750, 0.0269, 0.0356],\n",
    "                        [0.0608, 0.0016, 0.8813, 0.0563],\n",
    "                        [0.0375, 0.0250, 0.4031, 0.5344],\n",
    "                    ])\n",
    "            self.Ns = 4 \n",
    "            self.Ns_label = ['ge', 'gu', 'be', 'bu']\n",
    "            if verbose:\n",
    "                print(f'Construct model with business cycle.')\n",
    "        else:\n",
    "            self.P = np.array([\n",
    "                        [.9565, .0435],\n",
    "                        [.5000, .5000]\n",
    "                    ])\n",
    "            self.Ns = 2 \n",
    "            self.Ns_label = ['e', 'u']\n",
    "            if verbose:\n",
    "                print(f'Construct model without business cycle.')\n",
    "        \n",
    "        # state variables\n",
    "        self.a_vals = np.linspace(a_min,a_max,self.Na)\n",
    "        self.y_vals = np.array([y, y*theta]*int(self.Ns/2))    "
   ]
  },
  {
   "cell_type": "markdown",
   "metadata": {},
   "source": [
    "## Value Function Iteration"
   ]
  },
  {
   "cell_type": "code",
   "execution_count": null,
   "metadata": {},
   "outputs": [],
   "source": [
    "def operator_factory_value_iteration(bcm, parallel_flag=True):\n",
    "    \"\"\"\n",
    "    A function factory that output utility function and value fuction iterator\n",
    "    \"\"\"\n",
    "    \n",
    "    beta, sigma  = bcm.beta, bcm.sigma\n",
    "    R_save, R_borrow = bcm.R_save, bcm.R_borrow\n",
    "    Na, Ns = bcm.Na, bcm.Ns\n",
    "    a_vals, y_vals = bcm.a_vals, bcm.y_vals\n",
    "    P = bcm.P\n",
    "    _u = np.empty([Na, Ns, Na])\n",
    "    \n",
    "    @njit\n",
    "    def R_func(a):\n",
    "        if a >= 0:\n",
    "            R = R_save\n",
    "        else:\n",
    "            R = R_borrow\n",
    "        return R  \n",
    "    \n",
    "    @njit\n",
    "    def U_func(c, sigma):\n",
    "        if sigma == 1:\n",
    "            u = np.log(c)\n",
    "        else:\n",
    "            u = c**(1-sigma) / (1-sigma)\n",
    "        return u\n",
    "\n",
    "    @njit(parallel=parallel_flag)\n",
    "    def util():\n",
    "        \"\"\"\n",
    "        Indirect utility function\n",
    "        Calculate at first for tabulation use later\n",
    "        \"\"\"\n",
    "        c = np.empty_like(_u)\n",
    "        u = np.empty_like(_u)\n",
    "        for a0 in prange(Na):\n",
    "            for s0 in prange(Ns):\n",
    "                for a1 in prange(Na):\n",
    "                    R = R_func(a_vals[a1])\n",
    "                    c0 = a_vals[a0] + y_vals[s0] - a_vals[a1]/R\n",
    "                    c[a0, s0, a1] = c0\n",
    "                    if c0 <= 0:\n",
    "                        u[a0, s0, a1] = -1e20\n",
    "                    else:\n",
    "                        u[a0, s0, a1] = U_func(c0, sigma)\n",
    "        return c, u\n",
    "\n",
    "    @njit(parallel=parallel_flag)\n",
    "    def T(v, u, c):\n",
    "        \"\"\"\n",
    "        The Bellman operator\n",
    "        Return new value function and the policy function\n",
    "        \"\"\"\n",
    "\n",
    "        v_new = np.empty_like(v)\n",
    "        policy = np.empty_like(v)\n",
    "        gamma = np.empty_like(v)\n",
    "        for a0 in prange(Na):\n",
    "            for s0 in prange(Ns):\n",
    "                Na1 = np.argwhere(c[a0,s0,:]>0).max() # the largest a1 that c0>0\n",
    "                v_vals = np.empty(Na1+1)\n",
    "                for a1 in prange(Na1+1):\n",
    "                    u0 = u[a0,s0,a1]\n",
    "                    v_vals[a1] = u0 + beta * P[s0] @ v[a1,:]\n",
    "                v_new[a0,s0] = np.max(v_vals)\n",
    "                a1 = np.argmax(v_vals)\n",
    "                policy[a0,s0] = a1\n",
    "                \n",
    "                R = R_func(a_vals[a1])\n",
    "                gamma[a0,s0] = a_vals[a0] + y_vals[s0] - a_vals[a1]/R\n",
    "                \n",
    "        return v_new, policy, gamma\n",
    "\n",
    "    return util, T"
   ]
  },
  {
   "cell_type": "code",
   "execution_count": null,
   "metadata": {},
   "outputs": [],
   "source": [
    "def solve_model_value_iteration(\n",
    "                bcm, \n",
    "                use_parallel = True,\n",
    "                tol=1e-5, \n",
    "                max_iter=5000,\n",
    "                verbose=True,\n",
    "                print_skip=100):\n",
    "    \"\"\"\n",
    "    Iterates to convergence on the Bellman equations\n",
    "    \"\"\"\n",
    "    if verbose:\n",
    "        print('Solve model with value function iteration.')\n",
    "    \n",
    "    util, T = operator_factory_value_iteration(bcm, use_parallel)\n",
    "    c, u = util() \n",
    "    \n",
    "    # Set up loop\n",
    "    i = 0\n",
    "    error = tol + 1\n",
    "    \n",
    "    # Initialize v\n",
    "    v = np.zeros([bcm.Na, bcm.Ns])    \n",
    "        \n",
    "    while i < max_iter and error > tol:\n",
    "        v_new, policy, gamma = T(v,u,c)\n",
    "        error = np.max(np.abs(v - v_new))\n",
    "        i += 1\n",
    "        if verbose and i % print_skip == 0:\n",
    "            print(f\"Error at iteration {i} is {error}.\")\n",
    "        v = v_new\n",
    "        \n",
    "    if i == max_iter:\n",
    "        print(\"Failed to converge!\")\n",
    "\n",
    "    if i < max_iter and verbose:\n",
    "        print(f\"Converged in {i} iterations.\") \n",
    "                \n",
    "    return v, policy.astype(int), gamma "
   ]
  },
  {
   "cell_type": "markdown",
   "metadata": {},
   "source": [
    "- solve the default economy with stroage technology, i.e. $a>0$"
   ]
  },
  {
   "cell_type": "code",
   "execution_count": null,
   "metadata": {},
   "outputs": [],
   "source": [
    "bc_storage = BusinessCycleModel()"
   ]
  },
  {
   "cell_type": "code",
   "execution_count": null,
   "metadata": {},
   "outputs": [],
   "source": [
    "%%time\n",
    "v, policy, gamma = solve_model_value_iteration(bc_storage,)"
   ]
  },
  {
   "cell_type": "code",
   "execution_count": null,
   "metadata": {},
   "outputs": [],
   "source": [
    "# plot policy function\n",
    "def plot_asset_policy_function(bcm, policy):\n",
    "    fig, ax = plt.subplots()\n",
    "    for s in range(bcm.Ns):\n",
    "        if policy.dtype == \"int64\":\n",
    "            a1_vals = bcm.a_vals[policy[:,s]]\n",
    "        else:\n",
    "            a1_vals = policy[:,s]\n",
    "        ax.plot(bcm.a_vals,a1_vals, label=bcm.Ns_label[s])\n",
    "    ax.plot(bcm.a_vals,bcm.a_vals, color='black', linestyle='--')\n",
    "    ax.set(xlabel='$a_t$', ylabel='$a_{t+1}$')\n",
    "    ax.legend()\n",
    "\n",
    "plot_asset_policy_function(bc_storage, policy)"
   ]
  },
  {
   "cell_type": "code",
   "execution_count": null,
   "metadata": {},
   "outputs": [],
   "source": [
    "# plot consuming policy function\n",
    "def plot_consuming_policy_function(bcm, gamma):\n",
    "    fig, ax = plt.subplots()\n",
    "    for s in range(bcm.Ns):\n",
    "        label = rf'$\\sigma^*(\\cdot, {s}) - {bcm.Ns_label[s]}$'\n",
    "        ax.plot(bcm.a_vals, gamma[:, s], label=label)\n",
    "    ax.set(xlabel='$a_t$', ylabel='$c_t$')\n",
    "    ax.legend()\n",
    "\n",
    "plot_consuming_policy_function(bc_storage, σ_star)"
   ]
  },
  {
   "cell_type": "markdown",
   "metadata": {},
   "source": [
    "- we now test the economy with intermediation technology, i.e. $a > -B$"
   ]
  },
  {
   "cell_type": "code",
   "execution_count": null,
   "metadata": {},
   "outputs": [],
   "source": [
    "%%time\n",
    "bc_borrow = BusinessCycleModel(a_min = -8, Na = 601)\n",
    "v, policy, gamma  = solve_model_value_iteration(bc_borrow)"
   ]
  },
  {
   "cell_type": "code",
   "execution_count": null,
   "metadata": {},
   "outputs": [],
   "source": [
    "plot_asset_policy_function(bc_borrow, policy)"
   ]
  },
  {
   "cell_type": "code",
   "execution_count": null,
   "metadata": {},
   "outputs": [],
   "source": [
    "plot_consuming_policy_function(bc_borrow, gamma)"
   ]
  },
  {
   "cell_type": "markdown",
   "metadata": {},
   "source": [
    "## Policy Function Iteration"
   ]
  },
  {
   "cell_type": "markdown",
   "metadata": {},
   "source": [
    "- policy function iteration is faster and more accurate than value function iteration, probably due to the utilitzation of firt order condition\n",
    "- however policy function iteration seems to be unavailable in the economy with storage technology and a different borrowing rate"
   ]
  },
  {
   "cell_type": "code",
   "execution_count": null,
   "metadata": {},
   "outputs": [],
   "source": [
    "def operator_factory_time_iteration(bcm):\n",
    "    \"\"\"\n",
    "    A function factory that output utility function and value fuction iterator\n",
    "    \"\"\"\n",
    "    \n",
    "    beta, sigma = bcm.beta, bcm.sigma\n",
    "    R = bcm.R_save\n",
    "    Na, Ns = bcm.Na, bcm.Ns\n",
    "    a_vals, y_vals = bcm.a_vals, bcm.y_vals\n",
    "    P = bcm.P      \n",
    "    \n",
    "    @njit\n",
    "    def u_prime(c):\n",
    "        return c**(-sigma)\n",
    "\n",
    "    @njit\n",
    "    def euler_diff(c, a, s, gamma_vals):\n",
    "        \"\"\"\n",
    "        The difference between the left- and right-hand side\n",
    "        of the Euler Equation, given current policy gamma.\n",
    "        \"\"\"\n",
    "        \n",
    "        # Convert policy into a function by linear interpolation\n",
    "        def gamma(a, s):\n",
    "            return interp(a_vals, gamma_vals[:, s], a)\n",
    "\n",
    "        # Calculate the expectation conditional on current z\n",
    "        expect = 0.0\n",
    "        for s1 in range(Ns):\n",
    "            expect += u_prime(gamma(R * (a - c + y_vals[s]), s1)) * P[s, s1]\n",
    "        \n",
    "        diff = u_prime(c) - max(beta * R * expect, u_prime(a+y_vals[s]))\n",
    "\n",
    "        return diff\n",
    "    \n",
    "    @njit\n",
    "    def K(gamma):\n",
    "        \"\"\"\n",
    "        The operator K.\n",
    "        \"\"\"\n",
    "        gamma_new = np.empty_like(gamma)\n",
    "        asset_policy = np.empty_like(gamma)\n",
    "        for i, a in enumerate(a_vals):\n",
    "            for s in range(Ns):\n",
    "                result = brentq(euler_diff, 1e-8, a+y_vals[s], args=(a, s, gamma))\n",
    "                c = result.root\n",
    "                gamma_new[i, s] = c\n",
    "                asset_policy[i, s] = R * (a - c + y_vals[s]) \n",
    "\n",
    "        return gamma_new, asset_policy\n",
    "    \n",
    "    return euler_diff, K"
   ]
  },
  {
   "cell_type": "code",
   "execution_count": null,
   "metadata": {},
   "outputs": [],
   "source": [
    "def solve_model_time_iter(bcm,    # Class with model information\n",
    "                          tol=1e-4,\n",
    "                          max_iter=1000,\n",
    "                          verbose=True,\n",
    "                          print_skip=25):\n",
    "    \n",
    "    if verbose:\n",
    "        print('Solve model with policy function iteration.')\n",
    "    \n",
    "    euler_diff, K = operator_factory_time_iteration(bcm)\n",
    "        \n",
    "    # Set up initial consumption policy\n",
    "    gamma = np.repeat(bcm.a_vals.reshape(bcm.Na, 1), bcm.Ns, axis=1)\n",
    "\n",
    "    # Set up loop\n",
    "    i = 0\n",
    "    error = tol + 1\n",
    "\n",
    "    while i < max_iter and error > tol:\n",
    "        gamma_new, asset_policy = K(gamma)\n",
    "        error = np.max(np.abs(gamma - gamma_new))\n",
    "        i += 1\n",
    "        if verbose and i % print_skip == 0:\n",
    "            print(f\"Error at iteration {i} is {error}.\")\n",
    "        gamma = gamma_new\n",
    "\n",
    "    if i == max_iter:\n",
    "        print(\"Failed to converge!\")\n",
    "\n",
    "    if verbose:\n",
    "        print(f\"\\nConverged in {i} iterations.\")\n",
    "\n",
    "    return gamma_new, asset_policy"
   ]
  },
  {
   "cell_type": "code",
   "execution_count": null,
   "metadata": {},
   "outputs": [],
   "source": [
    "%%time\n",
    "bc_storage = BusinessCycleModel()\n",
    "gamma, asset_policy = solve_model_time_iter(bc_storage)"
   ]
  },
  {
   "cell_type": "code",
   "execution_count": null,
   "metadata": {},
   "outputs": [],
   "source": [
    "plot_consuming_policy_function(bc_storage, gamma)"
   ]
  },
  {
   "cell_type": "code",
   "execution_count": null,
   "metadata": {},
   "outputs": [],
   "source": [
    "plot_asset_policy_function(bc_storage, asset_policy)"
   ]
  },
  {
   "cell_type": "markdown",
   "metadata": {},
   "source": [
    "## Stationary Distribution - Montel Carlo Simulation"
   ]
  },
  {
   "cell_type": "code",
   "execution_count": null,
   "metadata": {},
   "outputs": [],
   "source": [
    "def compute_asset_series(bcm, gamma_star, T=500_000, seed=1234):\n",
    "    \"\"\"\n",
    "    Simulates a time series of length T for assets, given optimal\n",
    "    savings behavior.\n",
    "    \"\"\"\n",
    "    P, a_vals, y_vals, R  = bcm.P, bcm.a_vals, bcm.y_vals, bcm.R_save\n",
    "     \n",
    "    gamma = lambda a, s: interp(a_vals, gamma_star[:, s], a)\n",
    "\n",
    "    # Simulate the exogeneous state process\n",
    "    mc = MarkovChain(P)\n",
    "    s_seq = mc.simulate(T, random_state=seed)\n",
    "\n",
    "    # Simulate the asset path\n",
    "    a_path = np.zeros(T+1)\n",
    "    c_path = np.zeros(T)\n",
    "    for t in range(T):\n",
    "        s = s_seq[t]\n",
    "        c_path[t] = gamma(a_path[t], s)\n",
    "        a_path[t+1] = R * (a_path[t] - gamma(a_path[t], s) + y_vals[s])\n",
    "    return a_path, c_path, s_seq"
   ]
  },
  {
   "cell_type": "code",
   "execution_count": null,
   "metadata": {},
   "outputs": [],
   "source": [
    "bc_storage = BusinessCycleModel()\n",
    "gamma, _ = solve_model_time_iter(bc_storage, verbose=False)\n",
    "a_path, c_path, s_seq = compute_asset_series(bc_storage, gamma)"
   ]
  },
  {
   "cell_type": "code",
   "execution_count": null,
   "metadata": {},
   "outputs": [],
   "source": [
    "fig, ax = plt.subplots()\n",
    "for i in range(nbc.Ns):\n",
    "    ax.hist(a_path[np.argwhere(s_seq == i)], \n",
    "                 label=nbc.Ns_label[i],\n",
    "                 bins=100, alpha=0.5, density=True,)\n",
    "ax.legend()\n",
    "plt.show();"
   ]
  },
  {
   "cell_type": "markdown",
   "metadata": {},
   "source": [
    "## Stationary Distribution - Iteration"
   ]
  },
  {
   "cell_type": "code",
   "execution_count": null,
   "metadata": {},
   "outputs": [],
   "source": [
    "def solve_invariant_dist(\n",
    "                bcm, \n",
    "                policy,\n",
    "                tol=1e-7, \n",
    "                max_iter=2000,\n",
    "                verbose=True,\n",
    "                print_skip=50):\n",
    "    \n",
    "    Na, Ns = bcm.Na, bcm.Ns\n",
    "    P = bcm.P\n",
    "    \n",
    "    # Set up loop\n",
    "    i = 0\n",
    "    error = 1+tol\n",
    "    \n",
    "    # Initialize distribution\n",
    "    pmf = np.ones_like(policy) * (1/(Na*Ns))\n",
    "    \n",
    "    # Distirbution iteration\n",
    "    @njit\n",
    "    def dist_iter(pmf):\n",
    "        pmf_new = np.zeros_like(pmf)\n",
    "        for a0 in prange(Na):\n",
    "            for s0 in prange(Ns):\n",
    "                a1 = policy[a0,s0]\n",
    "                for s1 in prange(Ns):\n",
    "                    pmf_new[a1,s1] += P[s0,s1] * pmf[a0,s0]\n",
    "        return pmf_new\n",
    "        \n",
    "    while i < max_iter and error > tol:\n",
    "        pmf_new = dist_iter(pmf)\n",
    "        error = np.max(np.abs(pmf - pmf_new))\n",
    "        i += 1\n",
    "        if verbose and i % print_skip == 0:\n",
    "            print(f\"Error at iteration {i} is {error}.\")\n",
    "#             print(f\"Pmf sum is {pmf_new.flatten().sum_()}.\")\n",
    "        pmf = pmf_new\n",
    "        \n",
    "    if i == max_iter:\n",
    "        print(\"Failed to converge!\")\n",
    "\n",
    "    if i < max_iter and verbose:\n",
    "        print(f\"Converged in {i} iterations.\")        \n",
    "    \n",
    "    return pmf"
   ]
  },
  {
   "cell_type": "code",
   "execution_count": null,
   "metadata": {},
   "outputs": [],
   "source": [
    "bc_storage = BusinessCycleModel()\n",
    "_, policy, _ = solve_model_value_iteration(bc_storage, verbose=False)\n",
    "pmf = solve_invariant_dist(bc_storage, policy)"
   ]
  },
  {
   "cell_type": "code",
   "execution_count": null,
   "metadata": {},
   "outputs": [],
   "source": [
    "# plot distribution\n",
    "def plot_invariant_distribution(pmf, bcm):\n",
    "    fig, ax = plt.subplots()\n",
    "    for i in range(bcm.Ns):\n",
    "        ax.plot(bcm.a_vals, pmf[:,i], label=bcm.Ns_label[i])\n",
    "        ax.legend();\n",
    "\n",
    "plot_invariant_distribution(pmf, bc_storage)"
   ]
  },
  {
   "cell_type": "markdown",
   "metadata": {},
   "source": [
    "## Economy with Perfect Insurance"
   ]
  },
  {
   "cell_type": "code",
   "execution_count": null,
   "metadata": {},
   "outputs": [],
   "source": [
    "class BCM_PI(BusinessCycleModel):\n",
    "    def generate_mc_series(self, \n",
    "                           T= 500_000, \n",
    "                           num_reps = 1_000, \n",
    "                           seed= 1234, ):\n",
    "        \n",
    "        mc = MarkovChain(self.P, state_values=self.y_vals)\n",
    "        s_seqs = mc.simulate(T, random_state=seed, num_reps=num_reps)\n",
    "        return s_seqs\n",
    "    \n",
    "    def calculate_discounted_utilities(self,):\n",
    "        ss_average_income = self.generate_mc_series().mean(axis=0).mean()\n",
    "        ss_average_utility = ss_average_income ** (1-self.sigma) / (1-self.sigma)\n",
    "        return ss_average_utility/(1-self.beta)        \n",
    "        "
   ]
  },
  {
   "cell_type": "code",
   "execution_count": null,
   "metadata": {},
   "outputs": [],
   "source": [
    "def calculate_consumption_compensation(sigma = 1.5):\n",
    "\n",
    "    bc_pi = BCM_PI(business_cycle=True, sigma=sigma)\n",
    "    v_bcpi = bc_pi.calculate_discounted_utilities()\n",
    "\n",
    "    nbc_pi = BCM_PI(business_cycle=False, sigma=sigma)\n",
    "    v_nbcpi = nbc_pi.calculate_discounted_utilities()\n",
    "\n",
    "    mu = (v_nbcpi/v_bcpi)**(1/(1-sigma)) -1\n",
    "    return mu\n",
    "\n",
    "calculate_consumption_compensation()"
   ]
  },
  {
   "cell_type": "markdown",
   "metadata": {},
   "source": [
    "## Results on Consumption Lose "
   ]
  },
  {
   "cell_type": "code",
   "execution_count": null,
   "metadata": {},
   "outputs": [],
   "source": [
    "def compute_consumption_loss(sigma, a_max, Na):\n",
    "    bc = BusinessCycleModel(sigma=sigma, a_max=a_max, Na=Na,\n",
    "                            verbose=False)\n",
    "    v, policy, _ = solve_model_value_iteration(bc, verbose=False)\n",
    "    pmf = solve_invariant_dist(bc, policy, verbose=False)    \n",
    "    v_bc = np.sum(pmf * v)\n",
    "    \n",
    "    nbc = BusinessCycleModel(sigma=sigma, a_max=a_max, Na=Na,\n",
    "                             business_cycle=False, verbose=False)\n",
    "    v, policy, _ = solve_model_value_iteration(nbc, verbose=False)\n",
    "    pmf = solve_invariant_dist(nbc, policy, verbose=False)    \n",
    "    v_nbc = np.sum(pmf * v)  \n",
    "    \n",
    "    if sigma == 1:\n",
    "        mu = np.e**((v_nbc-v_bc) * (1-bc.beta)) - 1\n",
    "    else:\n",
    "        mu = (v_nbc/v_bc)**(1/(1-sigma)) -1\n",
    "    return mu"
   ]
  },
  {
   "cell_type": "code",
   "execution_count": null,
   "metadata": {},
   "outputs": [],
   "source": [
    "for sigma, a_max, Na in zip([1.5, 6.2], [8, 16],[301, 601]):\n",
    "    mu = compute_consumption_loss(sigma, a_max=a_max, Na=Na,)\n",
    "    print(f'When sigma = {sigma} , the consumption loss : {mu:.2%}')"
   ]
  }
 ],
 "metadata": {
  "kernelspec": {
   "display_name": "Python 3.8",
   "language": "python",
   "name": "python3"
  },
  "language_info": {
   "codemirror_mode": {
    "name": "ipython",
    "version": 3
   },
   "file_extension": ".py",
   "mimetype": "text/x-python",
   "name": "python",
   "nbconvert_exporter": "python",
   "pygments_lexer": "ipython3",
   "version": "3.8.2"
  }
 },
 "nbformat": 4,
 "nbformat_minor": 4
}
