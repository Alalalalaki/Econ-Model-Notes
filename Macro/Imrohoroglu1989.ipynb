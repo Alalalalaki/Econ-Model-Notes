{
 "cells": [
  {
   "cell_type": "markdown",
   "metadata": {},
   "source": [
    "This note replicates the results in Imrohoroğlu, A. (1989). Cost of business cycles with indivisibilities and liquidity constraints. Journal of Political economy, 97(6), 1364-1383."
   ]
  },
  {
   "cell_type": "code",
   "execution_count": null,
   "metadata": {},
   "outputs": [],
   "source": [
    "from numba import njit, prange"
   ]
  },
  {
   "cell_type": "markdown",
   "metadata": {},
   "source": [
    "## Calibrate Parameters and Discretize State Variables"
   ]
  },
  {
   "cell_type": "code",
   "execution_count": null,
   "metadata": {},
   "outputs": [],
   "source": [
    "class BusinessCycleModel:\n",
    "    def __init__(self,\n",
    "                 period = 6, # weeks\n",
    "                 r_save = .00, # net real return on stored assets\n",
    "                 r_borrow = .08, # rate on borrowing\n",
    "                 y = 1, # income if employed\n",
    "                 theta = .25, # income if unemployed\n",
    "                 beta = .995, # implies an annual time discount rate of 4%\n",
    "                 sigma = 6.2, # coefficient of risk aversion, later try also 1.5 in Lucas\n",
    "                 business_cycle=True, \n",
    "                 a_max = 8, \n",
    "                 a_min = 0,\n",
    "                 Na = 301,\n",
    "                ):\n",
    "        \n",
    "        # parameters\n",
    "        self.period, self.beta = period, beta\n",
    "        self.periods_in_a_year = 52 / period\n",
    "        self.r_save, self.r_borrow = r_save, r_borrow\n",
    "        self.y, self.theta = y, theta\n",
    "        self.sigma = sigma\n",
    "        self.a_max, self.a_min, self.Na = a_max, a_min, Na\n",
    "        \n",
    "        # transition matrices\n",
    "        if business_cycle:\n",
    "            self.P = np.array([\n",
    "                        [0.9141, 0.0234, 0.0587, 0.0038],\n",
    "                        [0.5625, 0.3750, 0.0269, 0.0356],\n",
    "                        [0.0608, 0.0016, 0.8813, 0.0563],\n",
    "                        [0.0375, 0.0250, 0.4031, 0.5344],\n",
    "                    ])\n",
    "            self.Ns = 4 # ge, gu, be, bu\n",
    "            print('Construct model with business cycle.')\n",
    "        else:\n",
    "            self.P = np.array([\n",
    "                        [.9565, .0435],\n",
    "                        [.5000, .5000]\n",
    "                    ])\n",
    "            self.Ns = 2 # e, u\n",
    "            print('Construct model without business cycle.')\n",
    "        \n",
    "        # state variables\n",
    "        self.s_vals = np.arange(self.Ns)\n",
    "        self.a_vals = np.linspace(a_min,a_max,self.Na)\n",
    "        self.y_vals = np.array([y, theta]*int(self.Ns/2))"
   ]
  },
  {
   "cell_type": "markdown",
   "metadata": {},
   "source": [
    "## Value Function Iteration"
   ]
  },
  {
   "cell_type": "code",
   "execution_count": null,
   "metadata": {},
   "outputs": [],
   "source": [
    "def operator_factory(bcm, parallel_flag=True):\n",
    "    \"\"\"\n",
    "    A function factory for building the Bellman operator, as well as\n",
    "    a function that computes greedy policies.\n",
    "    \"\"\"\n",
    "    \n",
    "    beta, sigma, r = bcm.beta, bcm.sigma, bcm.r_save\n",
    "    Na, Ns = bcm.Na, bcm.Ns\n",
    "    P = bcm.P\n",
    "    a_vals, s_vals, y_vals = bcm.a_vals, bcm.s_vals, bcm.y_vals\n",
    "    _u = np.zeros([Na, Ns, Na])\n",
    "    \n",
    "    @njit(parallel=parallel_flag)\n",
    "    def util():\n",
    "        \"\"\"\n",
    "        Indirect utility function\n",
    "        Calculate at first to use tabulation later\n",
    "        \"\"\"\n",
    "        u = np.empty_like(_u)\n",
    "        for a0 in prange(Na):\n",
    "            for s in prange(Ns):\n",
    "                for a1 in prange(Na):\n",
    "                    c = a_vals[a0] + y_vals[s] - a_vals[a1]/(1+r)\n",
    "                    if c < 0:\n",
    "                        u[a0, s, a1] = -1e6\n",
    "                    else:\n",
    "                        u[a0, s, a1] = c**(1-sigma) / (1-sigma)\n",
    "        return u\n",
    "\n",
    "    @njit(parallel=parallel_flag)\n",
    "    def T(v,u):\n",
    "        \"\"\"\n",
    "        The Bellman operator\n",
    "        Return converged value function and policy function\n",
    "        \"\"\"\n",
    "        v_new = np.zeros_like(v)\n",
    "        policy = np.zeros_like(v)\n",
    "        for a0 in prange(Na):\n",
    "            for s in prange(Ns):\n",
    "                v_vals = np.zeros(Na)\n",
    "                for a1 in prange(Na):\n",
    "                    u0 = u[a0,s,a1]\n",
    "                    v_vals[a1] = u0 + beta * P[s] @ v[a1,:]\n",
    "                v_new[a0,s] = np.max(v_vals)\n",
    "                policy[a0,s] = np.argmax(v_vals)\n",
    "        return v_new, policy\n",
    "\n",
    "    return util, T"
   ]
  },
  {
   "cell_type": "code",
   "execution_count": null,
   "metadata": {},
   "outputs": [],
   "source": [
    "def solve_model(bcm, \n",
    "                use_parallel=True, \n",
    "                tol=1e-7, \n",
    "                max_iter=5000,\n",
    "                verbose=True,\n",
    "                print_skip=50):\n",
    "    \"\"\"\n",
    "    Iterates to convergence on the Bellman equations\n",
    "    \"\"\"\n",
    "    util, T = operator_factory(bcm, use_parallel)\n",
    "    u = util()\n",
    "    \n",
    "    # Set up loop\n",
    "    i = 0\n",
    "    error = 1e3\n",
    "    Na, Ns = bcm.Na, bcm.Ns\n",
    "    \n",
    "    # Initialize v\n",
    "    v = np.zeros([bcm.Na, bcm.Ns])    \n",
    "        \n",
    "    while i < max_iter and error > tol:\n",
    "        v_new, policy = T(v,u)\n",
    "        error = np.max(np.abs(v - v_new))\n",
    "        i += 1\n",
    "        if verbose and i % print_skip == 0:\n",
    "            print(f\"Error at iteration {i} is {error}.\")\n",
    "        v = v_new\n",
    "        \n",
    "    if i == max_iter:\n",
    "        print(\"Failed to converge!\")\n",
    "\n",
    "    if i < max_iter:\n",
    "        print(f\"Converged in {i} iterations.\") \n",
    "        policy = policy.astype(int)\n",
    "    \n",
    "    return v, policy\n",
    "    "
   ]
  },
  {
   "cell_type": "code",
   "execution_count": null,
   "metadata": {},
   "outputs": [],
   "source": [
    "bc = BusinessCycleModel()"
   ]
  },
  {
   "cell_type": "code",
   "execution_count": null,
   "metadata": {},
   "outputs": [],
   "source": [
    "%%time\n",
    "v, policy = solve_model(bc,)"
   ]
  },
  {
   "cell_type": "code",
   "execution_count": null,
   "metadata": {},
   "outputs": [],
   "source": [
    "# plot policy function\n",
    "plt.plot(bc.a_vals,bc.a_vals[policy[:,0]], color='r')\n",
    "plt.plot(bc.a_vals,bc.a_vals[policy[:,1]], color='r', linestyle='--')\n",
    "plt.plot(bc.a_vals,bc.a_vals[policy[:,2]], color='b')\n",
    "plt.plot(bc.a_vals,bc.a_vals[policy[:,3]], color='b', linestyle='--')\n",
    "plt.show();"
   ]
  },
  {
   "cell_type": "markdown",
   "metadata": {},
   "source": [
    "## Invariant Distribution"
   ]
  },
  {
   "cell_type": "code",
   "execution_count": null,
   "metadata": {},
   "outputs": [],
   "source": [
    "def solve_invariant_dist(\n",
    "                bcm, \n",
    "                policy,\n",
    "                parallel_flag=True,\n",
    "                tol=1e-10, \n",
    "                max_iter=2e2,\n",
    "                verbose=True,\n",
    "                print_skip=20):\n",
    "    \n",
    "    Na, Ns = bcm.Na, bcm.Ns\n",
    "    P = bcm.P\n",
    "    \n",
    "    # Set up loop\n",
    "    i = 0\n",
    "    error = 1e3\n",
    "    \n",
    "    # Initialize distribution\n",
    "    pmf = np.ones_like(policy) * (1/(Na*Ns))\n",
    "    \n",
    "    # Iteration function\n",
    "    @njit(parallel=parallel_flag)\n",
    "    def dist_iter(pmf):\n",
    "        pmf_new = np.zeros_like(pmf)\n",
    "        for a0 in prange(Na):\n",
    "            for s0 in prange(Ns):\n",
    "                a1 = policy[a0,s0]\n",
    "                for s1 in prange(Ns):\n",
    "                    pmf_new[a1,s1] += P[s0,s1] * pmf[a0,s0]\n",
    "        return pmf_new\n",
    "        \n",
    "    while i < max_iter and error > tol:\n",
    "        pmf_new = dist_iter(pmf)\n",
    "        error = np.max(np.abs(pmf - pmf_new))\n",
    "        i += 1\n",
    "        if verbose and i % print_skip == 0:\n",
    "            print(f\"Error at iteration {i} is {error}.\")\n",
    "            print(f\"Pmf sum is {pmf_new.flatten().sum()}.\")\n",
    "        pmf = pmf_new\n",
    "        \n",
    "    if i == max_iter:\n",
    "        print(\"Failed to converge!\")\n",
    "\n",
    "    if i < max_iter:\n",
    "        print(f\"Converged in {i} iterations.\")        \n",
    "    \n",
    "    return pmf"
   ]
  },
  {
   "cell_type": "code",
   "execution_count": null,
   "metadata": {},
   "outputs": [],
   "source": [
    "pmf = solve_invariant_dist(bc, policy)"
   ]
  },
  {
   "cell_type": "code",
   "execution_count": null,
   "metadata": {},
   "outputs": [],
   "source": [
    "# plot distribution\n",
    "fig, ax = plt.subplots(2, figsize=(6,8))\n",
    "ax[0].plot(bc.a_vals, pmf[:,0], label='ge')\n",
    "ax[0].plot(bc.a_vals, pmf[:,1], label='gu')\n",
    "ax[0].legend()\n",
    "ax[1].plot(bc.a_vals, pmf[:,2], label='be')\n",
    "ax[1].plot(bc.a_vals, pmf[:,3], label='bu')\n",
    "ax[1].legend();"
   ]
  },
  {
   "cell_type": "code",
   "execution_count": null,
   "metadata": {},
   "outputs": [],
   "source": []
  }
 ],
 "metadata": {
  "kernelspec": {
   "display_name": "Python 3.7",
   "language": "python",
   "name": "python3"
  },
  "language_info": {
   "codemirror_mode": {
    "name": "ipython",
    "version": 3
   },
   "file_extension": ".py",
   "mimetype": "text/x-python",
   "name": "python",
   "nbconvert_exporter": "python",
   "pygments_lexer": "ipython3",
   "version": "3.7.6"
  }
 },
 "nbformat": 4,
 "nbformat_minor": 4
}
