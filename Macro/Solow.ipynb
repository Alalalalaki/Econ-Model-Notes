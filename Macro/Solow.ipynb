{
 "cells": [
  {
   "cell_type": "markdown",
   "metadata": {},
   "source": [
    "# Solow Model\n",
    "\n",
    "This note is based on Acemoglu's textbook. "
   ]
  },
  {
   "cell_type": "code",
   "execution_count": 2,
   "metadata": {},
   "outputs": [],
   "source": [
    "plt.style.use('seaborn-whitegrid')\n",
    "import ipywidgets as widgets"
   ]
  },
  {
   "cell_type": "markdown",
   "metadata": {},
   "source": [
    "## 1. Introduction"
   ]
  },
  {
   "cell_type": "markdown",
   "metadata": {},
   "source": [
    "Solow model is also called Solow-Swan model, a simple framework for proximate the causes and mechanics of economic growth.\n",
    "\n",
    "At the center of Solow growth model is the neoclassical aggregate production function, which not only enables the Solow model to make contact with microeconomics, but as serves as a bridge between the model and the data.\n",
    "\n",
    "The solow model, despite its simplicity, is a dynamic general equilibrium model, though many key features like preferences and dynamic optimization are missing here. In Solow model, the households will not be optimizing, and thus one has no need to specify the utility function. Accordingly, the saving rate is set to be constant and exogenous. And Labor supply is inelastic and exogenous. \n",
    "\n",
    "In comparison, the standard neoclassical growth model (i.e. Ramsey or Cass-Koopmans model, one of the basic workhorse models of economic growth) explicitly models the consumer side and endogenizes savings to introduce household optimization.\n",
    "\n",
    "Another closely related model is the overlapping generations (OLG) model, in which the assumption of a representative household is relaxed to allow the entey of new hoseholds, thus brining new economic interactions (e.g. decisions made by older generations will affect the prices faced by younger generations)."
   ]
  },
  {
   "cell_type": "markdown",
   "metadata": {},
   "source": [
    "## 2. Basic Model"
   ]
  },
  {
   "cell_type": "markdown",
   "metadata": {},
   "source": [
    "### 2.1 Setting"
   ]
  },
  {
   "cell_type": "markdown",
   "metadata": {},
   "source": [
    "Assume a representative household\n",
    "- save a constant exogenous fraction $s$ of their disposable income.\n",
    "- (households) own all of the labor, which they supply inelastically\n",
    "- also own capital stock of the economy and rent it to firms with rental price $R(t)$, depreciating exponentially at rate $\\delta$"
   ]
  },
  {
   "cell_type": "markdown",
   "metadata": {},
   "source": [
    "Assume a representative firm in competitive input and output market \n",
    "- a representative (or aggregate) production function for the unique final good: $Y(t)=F[K(t), L(t), A(t)]$ \n",
    "- **Key Assumption 1**: Continuity, Differentiability, Positive and Diminishing Marginal Products, and Constant Returns to Scale\n",
    "    - $F_{K}(K, L, A) \\equiv \\frac{\\partial F(K, L, A)}{\\partial K}>0, \\quad F_{L}(K, L, A) \\equiv \\frac{\\partial F(K, L, A)}{\\partial L}>0$\n",
    "    - $F_{K K}(K, L, A) \\equiv \\frac{\\partial^{2} F(K, L, A)}{\\partial K^{2}}<0, \\quad F_{L L}(K, L, A) \\equiv \\frac{\\partial^{2} F(K, L, A)}{\\partial L^{2}}<0$\n",
    "    - $F$ exhibits constant returns to scale in $K$ and $L$\n",
    "- taking as given factor prices: $w(t)$, $R(t)$ \n",
    "- technology is free (the major assumption in traditional economic growth model)"
   ]
  },
  {
   "cell_type": "markdown",
   "metadata": {},
   "source": [
    "Assume labor market clearing\n",
    "- labor demand equals to exogenous labor supply: $L(t)=\\bar{L}(t)$\n",
    "- more generally should be written in complementary slackness form, but assumption in production function and competitive labor markets make sure that wages have to be strictly positive, $w(t) > 0$. And thus the equation holds."
   ]
  },
  {
   "cell_type": "markdown",
   "metadata": {},
   "source": [
    "Assume capital market clearing\n",
    "- $K^{s}(t)=K^{d}(t)$\n",
    "- consistent with households’ endowments and saving behavior\n",
    "- take initial holdings of capital, $K(0)$ as given"
   ]
  },
  {
   "cell_type": "markdown",
   "metadata": {},
   "source": [
    "Assume price of final good $P(t)$ is normalize to 1 in all periods \n",
    "- as a choice of a numeraire commodity in this economy\n",
    "- given Arrow 1964, it is sufficient to price securities (assets) that transfer one unit of consumption from one date (or state of the world) to another\n",
    "- implies that we need to keep track of an interest rate across periods, $r(t) =R(t)-\\delta$\n",
    "- this discussion highlights a central fact: in general equilibrium economies,  different commodities correspond to the same good\n",
    "at different dates. Recall from basic general equilibrium theory that the same good at different dates (or in different states or localities) is a different commodity."
   ]
  },
  {
   "cell_type": "markdown",
   "metadata": {},
   "source": [
    "Firm optimization problem:\n",
    "- $\\max_\\limits{L(t) \\geq 0, K(t) \\geq 0} F[K(t), L(t), A(t)]-w(t) L(t)-R(t) K(t)$ \n",
    "- FOC: $w(t)=F_{L}[K(t), L(t), A(t)]$ , $R(t)=F_{K}[K(t), L(t), A(t)]$ "
   ]
  },
  {
   "cell_type": "markdown",
   "metadata": {},
   "source": [
    "In the equilibrium of Solow growth model, firms make no profits \n",
    "- proof: follow Euler's Theorem\n",
    "- Intuition: as  $F$ exhibits constant returns to scale, if the representative firm make positive profits, it would wish to hire arbitrarily large amounts of capital and labor exceeding the supplies, which are fixed\n",
    "- This is related to the fact that in a world with constant returns to scale, the size of each individual firm is not determinate (only aggregates are determined)\n",
    "- so ownership of firms does not need to be specified."
   ]
  },
  {
   "cell_type": "markdown",
   "metadata": {},
   "source": [
    "Key Assumption 2: $F$ satisfies the Inada conditions\n",
    "- $\\lim _{K \\rightarrow 0} F_{K}(K, L, A)=\\infty$ and $\\lim _{K \\rightarrow \\infty} F_{K}(K, L, A)=0$ for all $L>0$ and all $A,$\n",
    "- $\\lim _{L \\rightarrow 0} F_{L}(K, L, A)=\\infty$ and $\\lim _{L \\rightarrow \\infty} F_{L}(K, L, A)=0$ for all $K>0$ and all $A.$  \n",
    "- $F(0, L, A)=0$ for all $L$ and $A$ \n",
    "- boundary conditions, which are often imposed in the analysis of economic growth and macroeconomic equilibria\n",
    "- important in ensuring the existence of interior equilibria\n",
    "- we will see later that the \"AK\" model violates these conditions"
   ]
  },
  {
   "cell_type": "markdown",
   "metadata": {},
   "source": [
    "### 2.2 Equilibrium"
   ]
  },
  {
   "cell_type": "markdown",
   "metadata": {},
   "source": [
    "#### 2.2.1 Discrete Time"
   ]
  },
  {
   "cell_type": "markdown",
   "metadata": {},
   "source": [
    "Fundamental law of motion: \n",
    "- $K(t+1)=s F[K(t), L(t), A(t)]+(1-\\delta) K(t)$, which can be also written as\n",
    "- $k(t+1)=s f(k(t))+(1-\\delta) k(t)$\n",
    "    - , where $k(t) \\equiv \\frac{K(t)}{L(t)}$ is the capital-labor ratio of the economy\n",
    "    - Note that $f(k)$ here depends on $A,$ so could have written $f(k, A)$; but $A$ is constant and can be normalized to $A=1 .$ "
   ]
  },
  {
   "cell_type": "markdown",
   "metadata": {},
   "source": [
    "For a given sequence of $\\{L(t), A(t)\\}_{t=0}^{\\infty}$ and an initial capital stock $K(0)$ , **an equilibrium path** is a sequence of $\\{K(t), Y(t), C(t), w(t), R(t)\\}_{t=0}^{\\infty}$ that satisfies profit maximization, market clearing conditions and the law of motion."
   ]
  },
  {
   "cell_type": "markdown",
   "metadata": {},
   "source": [
    "A steady-state equilibrium is an equilibrium path: $k(t)=k^{*}$ for all $t$.\n",
    "- The economy will tend to this steady state equilibrium over time (but never reach it in finite time)\n",
    "- Mathematically, a steady-state equilibrium corresponds to a stationary point of the equilibrium difference equation: $$\\frac{f\\left(k^{*}\\right)}{k^{*}}=\\frac{\\delta}{s}$$\n",
    "- Intuition: steady-state equilibrium sets investment  $sf(k)$ equal to amount of capital that needs to be replenished $\\delta k$"
   ]
  },
  {
   "cell_type": "markdown",
   "metadata": {},
   "source": [
    "If we further assume a “Hicks-neutral” productivity, i.e. $f(k)=A \\tilde{f}(k)$, the comparative statics with respect to $s, A$ and $\\delta$ can be driven for $k^{*}(A, s, \\delta)$ and $y^{*}(A, s, \\delta)$ by applying the Implicit Function Theorem:\n",
    "$$\\frac{\\partial k^{*}(A, s, \\delta)}{\\partial A}>0, \\quad \\frac{\\partial k^{*}(A, s, \\delta)}{\\partial s}>0, \\quad \\frac{\\partial k^{*}(A, s, \\delta)}{\\partial \\delta}<0$$\n",
    "$$\\frac{\\partial y^{*}(A, s, \\delta)}{\\partial A}>0, \\quad \\frac{\\partial y^{*}(A, s, \\delta)}{\\partial s}>0, \\quad \\frac{\\partial y^{*}(A, s, \\delta)}{\\partial \\delta}<0$$, which imply countries with higher saving rates, better technologies, and less depreciation will have higher capital-labor ratios and will be richer."
   ]
  },
  {
   "cell_type": "markdown",
   "metadata": {},
   "source": [
    "However note that in a steady-state equilibrium the capital-labor ratio remains constant. If there is no population growth, this implies that the level of the capital stock, the output, and the consumption will all remain constant. In other words, there is no growth in the steady-state equilbirium. The only case that economic growth occurs is when the economy starts with $k(0)<k^{*}$ and then grows towards $k^*$ following the equilibrium path."
   ]
  },
  {
   "cell_type": "markdown",
   "metadata": {},
   "source": [
    "See Acemoglu's textbook for the proof on uniqueness and global asymptotic stablility of the steady state equilbiurm."
   ]
  },
  {
   "cell_type": "markdown",
   "metadata": {},
   "source": [
    "#### 2.2.2 Continuous Time With constant Population Growth"
   ]
  },
  {
   "cell_type": "markdown",
   "metadata": {},
   "source": [
    "Now we change above model from discrete time to continuous time, and introduce population growth in an exponential form: $L(t)=\\exp (n t) L(0)$.\n",
    "\n",
    "The law of motion in continuous time is thus the following differential equations \n",
    "$$\\dot{K}(t)=s F[K(t), L(t), A(t)]-\\delta K(t)$$\n",
    "$$\\frac{\\dot{k}(t)}{k(t)}=s \\frac{f(k(t))}{k(t)}-(n+\\delta)$$.\n",
    "\n",
    "The definition of equilibirium path is largely the same as 2.2.1, except this time we have an additional sequence of $[L(t)]_{t=0}^{\\infty}$ satisfies the growth rule and $k(t)$ satisfies above new differential equation.\n",
    "\n",
    "The steady-state equilibrium is still that $k(t)$ remaining constant at some level $k^{*}$, with a slight change due to the population growth: $$\\frac{f\\left(k^{*}\\right)}{k^{*}}=\\frac{n+\\delta}{s}$$. Note that now amount of investment, $s f(k),$ is used to replenish capital-labor ratio not only for depreciation exponentially at $\\delta$, but also for population growth $n$, so that capital-labor ratio is maintained at a constant level. \n",
    "\n",
    "Now additional to previous comparative statics, a higher population growth rate, $n$, would reduce the capital-labor ratio and output per-capita. The intuition is that a higher population growth rate means there is more labor to use the existing amount of capital, which only accumulates slowly, and consequently the equilibrium capital-labor ratio ends up lower."
   ]
  },
  {
   "cell_type": "markdown",
   "metadata": {},
   "source": [
    "### 2.3 Transition "
   ]
  },
  {
   "cell_type": "markdown",
   "metadata": {},
   "source": [
    "We implement the base Solow model by assuming Cobb-Douglas Production Function: $$F(K, L, A)=A K^{\\alpha} L^{1-\\alpha}, \\quad \\text{with} \\quad 0<\\alpha<1$$\n",
    "- $f(k)=A k^{\\alpha}$, which is the output per capita\n",
    "- One feature about CD form is its elasticity of substitution between capital and labor equal to 1. \n",
    "- Though not supported by empirical evidence, which is also why the CES function is invented, this feature indicates that given competitive factor markets, equilibrium factor shares will be constant regardless of capital-labor ratio, i.e. $\\alpha_{K}(t) =\\frac{R(t) K(t)}{Y(t)} = \\alpha$, $\\alpha_{L}(t)=1-\\alpha$.\n",
    "\n",
    "The law of motion in discrete and continous time is $$\n",
    "k(t+1) = \\frac{s A k(t)^{\\alpha} + (1 - \\delta) k_t}{1 + n}\n",
    "$$\n",
    "$$\\dot{k}(t)=s A k(t)^{\\alpha}-(n+\\delta) k(t)$$\n",
    ", and the steady state is $$k^{*}=\\left(\\frac{s A}{n+\\delta}\\right)^{\\frac{1}{1-\\alpha}}$$. This shows that the capital-labor ratio $k^{*}$ in steady state is increasing in $s$ and $A$ and decreasing in $n$ and $\\delta$. Moreover, $k^{*}$ is increasing in $\\alpha,$ because a higher $\\alpha$ implies less diminishing returns to capital, thus a higher capital-labor ratio is necessary to reduce average return to capital to a level consistent with the steady state.\n",
    "\n",
    "The linear differential equation in continuous time actually has a general solution: $$k(t)=\\left\\{\\frac{s A}{n+\\delta}+\\left[k(0)^{1-\\alpha}-\\frac{s A}{n+\\delta}\\right] \\exp (-(1-\\alpha)(n+\\delta) t)\\right\\}^{\\frac{1}{1-\\alpha}}$$. This solution illustrates that starting from any $k(0),$ the equilibrium $k(t) \\rightarrow k^{*}$, and the rate of adjustment is related to $(1-\\alpha)(n+\\delta)$. For example, a higher $\\alpha$ implies less diminishing returns to capital, which slows down rate at which marginal and average products of capital decline as capital accumulates, and this reduces the rate of adjustment to steady state. Similarly, a smaller $δ$ means less depreciation and a smaller $n$ means slower population growth, both of which slow down adjustment of capital per worker and thus rate of transitional dynamics. ?"
   ]
  },
  {
   "cell_type": "markdown",
   "metadata": {},
   "source": [
    "One can use the following code and the interactive charts it created to test both the comparative statics and the transition path that we have discussed."
   ]
  },
  {
   "cell_type": "code",
   "execution_count": 326,
   "metadata": {},
   "outputs": [],
   "source": [
    "class Solow_CD:\n",
    "    \"\"\"\n",
    "    Implements the Solow growth model with CD production function \n",
    "    \"\"\"\n",
    "    def __init__(self, n=0.05,  # population growth rate\n",
    "                       s=0.25,  # savings rate\n",
    "                       δ=0.1,   # depreciation rate\n",
    "                       α=1/3,   # share of capital\n",
    "                       A=2.0,   # productivity\n",
    "                       k0=2.0):  # current capital per capita\n",
    "\n",
    "        self.n, self.s, self.δ, self.α, self.A = n, s, δ, α, A\n",
    "        self.k0 = k0\n",
    "    \n",
    "    @staticmethod\n",
    "    def calculate_next_state(k, n, s, δ, α, A):\n",
    "        k_next = (s * A * (k ** α) + (k - δ * k)) / (1 + n)\n",
    "        return k_next\n",
    "\n",
    "    def generate_sequence(self, T, k0, n, s, δ, α, A):\n",
    "        k_path = [k0]\n",
    "        \n",
    "        for i in range(1, T):\n",
    "            k_next = self.calculate_next_state(k_path[i-1],n, s, δ, α, A)\n",
    "            k_path.append(k_next)\n",
    "            \n",
    "        k_path = np.array(k_path)\n",
    "        y_path = A * (k_path ** α)\n",
    "        saving_path = s * y_path\n",
    "        depreciation_path = (n + δ) * k_path\n",
    "        w_path = (1 - α) * y_path\n",
    "        R_path = α * (y_path / k_path)\n",
    "        \n",
    "        k_star = ((s * A) / (n + δ))**(1 / (1 - α))\n",
    "        \n",
    "        return k_path, y_path, saving_path, depreciation_path, w_path, R_path, k_star\n",
    "\n",
    "    def simulate(self, T=100, k_max=10):\n",
    "\n",
    "        widgets.interact(\n",
    "            self.plot_simulation,\n",
    "            k0=widgets.FloatSlider(\n",
    "                description=\"$k_0$\", min=0, max=k_max, step=0.1, value=self.k0\n",
    "            ),            \n",
    "            n=widgets.FloatSlider(\n",
    "                description=\"$n$\", min=-0.1, max=0.2, step=0.01, value=self.n\n",
    "            ),\n",
    "            α=widgets.FloatSlider(\n",
    "                description=\"$\\\\alpha$\", min=0.01, max=1, step=0.02, value=self.α\n",
    "            ),\n",
    "            δ=widgets.FloatSlider(\n",
    "                description=\"$\\\\delta$\", min=0.01, max=0.2, step=0.01, value=self.δ\n",
    "            ),\n",
    "            s=widgets.FloatSlider(\n",
    "                description=\"$s$\", min=0.01, max=0.50, step=0.02, value=self.s\n",
    "            ),            \n",
    "            A=widgets.FloatSlider(\n",
    "                description=\"$A$\", min=1, max=3, step=0.1, value=self.A\n",
    "            ),\n",
    "            T=widgets.fixed(T),\n",
    "            k_max=widgets.fixed(k_max),\n",
    "        )\n",
    "\n",
    "    def plot_simulation(self, T, k_max, k0, n, s, δ, α, A):\n",
    "        \n",
    "        k_path, y_path, saving_path, depreciation_path, w_path, R_path, k_star = self.generate_sequence(T, k0, n, s, δ, α, A)\n",
    "\n",
    "        fig = plt.figure(figsize=(16, 14))\n",
    "        \n",
    "        ax1 = fig.add_subplot(2, 2, 1)\n",
    "        ax1.plot(k_path, lw=2, label=\"capital per capita\")\n",
    "        ax1.axhline(k_star, ls=\"--\", lw=1)\n",
    "        ax1.text(2, min(k_star+0.2, k_max-0.3), f\"$k^\\\\ast={k_star:.3}$\")\n",
    "        ax1.text(2, k0+0.1, f\"$k_0$\")\n",
    "        converge = np.abs(np.log(k_path) - np.log(k_star))\n",
    "        t_converge = np.searchsorted(-converge, -0.01)\n",
    "        ax1.axvline(t_converge, ls=\"--\", color=\"black\",\n",
    "            label=\"$|\\\\log(k_t)-\\\\log(k^\\\\ast)| < 0.01$\",\n",
    "        )\n",
    "        ax1.set_xlim([0, T])\n",
    "        ax1.set_xlabel('t')\n",
    "        ax1.set_ylim([0, k_max])\n",
    "        ax1.plot(y_path, label=\"output per capita\")\n",
    "        ax1.legend(loc=\"lower right\")      \n",
    "        ax1.set_title(\"Capital per capita ($k_t$) and Output per capita ($y_t$) converge over time\")\n",
    "        \n",
    "        \n",
    "        ax2 = fig.add_subplot(2, 2, 2)\n",
    "        k_vals = np.linspace(0, k_max, 100)\n",
    "        k_next_vals = self.calculate_next_state(k_vals, n, s, δ, α, A)\n",
    "        ax2.plot(k_vals, k_next_vals, label=\"$\\\\frac{sAk(t)^{\\\\alpha}+(1-\\\\delta)k_t}{1+n}$\")\n",
    "        ax2.plot(k_vals, k_vals, ls=\"--\", color=\"black\")\n",
    "        ax2.axhline(k_star, ls=\"--\",)\n",
    "#         ax2.axvline(k_star, ls=\"--\",)\n",
    "        ax2.vlines(k_path[0], 0, k_path[1], color=\"black\", lw=1)\n",
    "        ax2.hlines(k_path[1:t_converge], k_path[0:t_converge-1], k_path[1:t_converge], color=\"black\", lw=1)\n",
    "        ax2.vlines(k_path[1:t_converge], k_path[1:t_converge], k_path[2:t_converge+1], color=\"black\", lw=1)\n",
    "        ax2.set_xlim([0, k_max])\n",
    "        ax2.set_ylim([0, k_max])\n",
    "        ax2.set_xlabel('$k_t$')\n",
    "        ax2.text(k0+0.1, 0.2, \"$k_0$\")\n",
    "        ax2.text(k_max-1, k_max-0.5, \"45°\")\n",
    "        ax2.legend(loc=\"lower right\")\n",
    "        ax2.set_title(\"Transitional Dynamics of $k_t$\")\n",
    "\n",
    "        ax3 = fig.add_subplot(2, 2, 3)\n",
    "        ax3.plot(saving_path, label=\"saving\")\n",
    "        ax3.plot(depreciation_path, label=\"depreciation\")\n",
    "        ax3.set_xlim([0, T])\n",
    "        ax3.set_ylim([0, 0.2 * k_max])\n",
    "        ax3.legend(loc=\"upper left\")\n",
    "        ax3.set_xlabel('t')\n",
    "        ax3.set_title(\"Saving ($sk^\\\\alpha$) replenish (general) Depreciation ($(n + \\\\delta) k_t$) in steady state\")\n",
    "\n",
    "        ax4 = fig.add_subplot(2, 2, 4)\n",
    "        ax4.plot(w_path, label=\"wage\")\n",
    "        ax4.plot(R_path, label=\"rent\")\n",
    "        ax4.set_xlim([0, T])\n",
    "        ax4.set_xlabel('t')\n",
    "        ax4.set_ylim([0, 3])\n",
    "        ax4.legend(loc=\"center right\")\n",
    "        ax4.set_title(\"Wage ($w$) and Rent ($r$) (= marginal productivity)\")        \n",
    "#         y_vals = A * (k_vals ** α)\n",
    "#         saving_vals = s * y_vals\n",
    "#         depreciation_vals = (δ + n) * k_vals\n",
    "#         ax4.plot(k_vals, saving_vals)\n",
    "#         ax4.plot(k_vals, y_vals)\n",
    "#         ax4.plot(k_vals, depreciation_vals)\n",
    "#         ax4.axvline(k_star, ls=\"--\",)\n",
    "#         ax4.set_xlim([0, k_max])\n",
    "        \n",
    "\n",
    "        \n",
    "        plt.subplots_adjust(wspace=0.06, hspace=0.16)\n",
    "        "
   ]
  },
  {
   "cell_type": "code",
   "execution_count": 10,
   "metadata": {
    "hide-output": false
   },
   "outputs": [],
   "source": {
    "code": [
     {
      "code": "c"
     },
     {
      "code": "l"
     },
     {
      "code": "a"
     },
     {
      "code": "s"
     },
     {
      "code": "s"
     },
     {
      "code": ""
     },
     {
      "code": "S"
     },
     {
      "code": "o"
     },
     {
      "code": "l"
     },
     {
      "code": "o"
     },
     {
      "code": "w"
     },
     {
      "code": "_"
     },
     {
      "code": "C"
     },
     {
      "code": "D"
     },
     {
      "error": "Cannot parse: 1:0: :"
     },
     {
      "code": ""
     },
     {
      "code": ""
     },
     {
      "code": ""
     },
     {
      "code": ""
     },
     {
      "code": ""
     },
     {
      "error": "Cannot parse: 1:0: \""
     },
     {
      "error": "Cannot parse: 1:0: \""
     },
     {
      "error": "Cannot parse: 1:0: \""
     },
     {
      "code": ""
     },
     {
      "code": ""
     },
     {
      "code": ""
     },
     {
      "code": ""
     },
     {
      "code": ""
     },
     {
      "code": "I"
     },
     {
      "code": "m"
     },
     {
      "code": "p"
     },
     {
      "code": "l"
     },
     {
      "code": "e"
     },
     {
      "code": "m"
     },
     {
      "code": "e"
     },
     {
      "code": "n"
     },
     {
      "code": "t"
     },
     {
      "code": "s"
     },
     {
      "code": ""
     },
     {
      "code": "t"
     },
     {
      "code": "h"
     },
     {
      "code": "e"
     },
     {
      "code": ""
     },
     {
      "code": "S"
     },
     {
      "code": "o"
     },
     {
      "code": "l"
     },
     {
      "code": "o"
     },
     {
      "code": "w"
     },
     {
      "code": ""
     },
     {
      "code": "g"
     },
     {
      "code": "r"
     },
     {
      "code": "o"
     },
     {
      "code": "w"
     },
     {
      "code": "t"
     },
     {
      "code": "h"
     },
     {
      "code": ""
     },
     {
      "code": "m"
     },
     {
      "code": "o"
     },
     {
      "code": "d"
     },
     {
      "code": "e"
     },
     {
      "code": "l"
     },
     {
      "code": ""
     },
     {
      "code": "w"
     },
     {
      "code": "i"
     },
     {
      "code": "t"
     },
     {
      "code": "h"
     },
     {
      "code": ""
     },
     {
      "code": "t"
     },
     {
      "code": "h"
     },
     {
      "code": "e"
     },
     {
      "code": ""
     },
     {
      "code": "u"
     },
     {
      "code": "p"
     },
     {
      "code": "d"
     },
     {
      "code": "a"
     },
     {
      "code": "t"
     },
     {
      "code": "e"
     },
     {
      "code": ""
     },
     {
      "code": "r"
     },
     {
      "code": "u"
     },
     {
      "code": "l"
     },
     {
      "code": "e"
     },
     {
      "code": ""
     },
     {
      "code": ""
     },
     {
      "code": ""
     },
     {
      "code": ""
     },
     {
      "code": ""
     },
     {
      "error": "Cannot parse: 1:0: \""
     },
     {
      "error": "Cannot parse: 1:0: \""
     },
     {
      "error": "Cannot parse: 1:0: \""
     },
     {
      "code": ""
     },
     {
      "code": ""
     },
     {
      "code": ""
     },
     {
      "code": ""
     },
     {
      "code": ""
     },
     {
      "code": "d"
     },
     {
      "code": "e"
     },
     {
      "code": "f"
     },
     {
      "code": ""
     },
     {
      "code": "_"
     },
     {
      "code": "_"
     },
     {
      "code": "i"
     },
     {
      "code": "n"
     },
     {
      "code": "i"
     },
     {
      "code": "t"
     },
     {
      "code": "_"
     },
     {
      "code": "_"
     },
     {
      "error": "('EOF in multi-line statement', (2, 0))"
     },
     {
      "code": "s"
     },
     {
      "code": "e"
     },
     {
      "code": "l"
     },
     {
      "code": "f"
     },
     {
      "error": "Cannot parse: 1:0: ,"
     },
     {
      "code": ""
     },
     {
      "code": "n"
     },
     {
      "error": "Cannot parse: 1:0: ="
     },
     {
      "code": "0"
     },
     {
      "error": "Cannot parse: 1:1: ."
     },
     {
      "code": "0"
     },
     {
      "code": "5"
     },
     {
      "error": "Cannot parse: 1:0: ,"
     },
     {
      "code": ""
     },
     {
      "code": ""
     },
     {
      "code": "#"
     },
     {
      "code": ""
     },
     {
      "code": "p"
     },
     {
      "code": "o"
     },
     {
      "code": "p"
     },
     {
      "code": "u"
     },
     {
      "code": "l"
     },
     {
      "code": "a"
     },
     {
      "code": "t"
     },
     {
      "code": "i"
     },
     {
      "code": "o"
     },
     {
      "code": "n"
     },
     {
      "code": ""
     },
     {
      "code": "g"
     },
     {
      "code": "r"
     },
     {
      "code": "o"
     },
     {
      "code": "w"
     },
     {
      "code": "t"
     },
     {
      "code": "h"
     },
     {
      "code": ""
     },
     {
      "code": "r"
     },
     {
      "code": "a"
     },
     {
      "code": "t"
     },
     {
      "code": "e"
     },
     {
      "code": ""
     },
     {
      "code": ""
     },
     {
      "code": ""
     },
     {
      "code": ""
     },
     {
      "code": ""
     },
     {
      "code": ""
     },
     {
      "code": ""
     },
     {
      "code": ""
     },
     {
      "code": ""
     },
     {
      "code": ""
     },
     {
      "code": ""
     },
     {
      "code": ""
     },
     {
      "code": ""
     },
     {
      "code": ""
     },
     {
      "code": ""
     },
     {
      "code": ""
     },
     {
      "code": ""
     },
     {
      "code": ""
     },
     {
      "code": ""
     },
     {
      "code": ""
     },
     {
      "code": ""
     },
     {
      "code": ""
     },
     {
      "code": ""
     },
     {
      "code": ""
     },
     {
      "code": "s"
     },
     {
      "error": "Cannot parse: 1:0: ="
     },
     {
      "code": "0"
     },
     {
      "error": "Cannot parse: 1:1: ."
     },
     {
      "code": "2"
     },
     {
      "code": "5"
     },
     {
      "error": "Cannot parse: 1:0: ,"
     },
     {
      "code": ""
     },
     {
      "code": ""
     },
     {
      "code": "#"
     },
     {
      "code": ""
     },
     {
      "code": "s"
     },
     {
      "code": "a"
     },
     {
      "code": "v"
     },
     {
      "code": "i"
     },
     {
      "code": "n"
     },
     {
      "code": "g"
     },
     {
      "code": "s"
     },
     {
      "code": ""
     },
     {
      "code": "r"
     },
     {
      "code": "a"
     },
     {
      "code": "t"
     },
     {
      "code": "e"
     },
     {
      "code": ""
     },
     {
      "code": ""
     },
     {
      "code": ""
     },
     {
      "code": ""
     },
     {
      "code": ""
     },
     {
      "code": ""
     },
     {
      "code": ""
     },
     {
      "code": ""
     },
     {
      "code": ""
     },
     {
      "code": ""
     },
     {
      "code": ""
     },
     {
      "code": ""
     },
     {
      "code": ""
     },
     {
      "code": ""
     },
     {
      "code": ""
     },
     {
      "code": ""
     },
     {
      "code": ""
     },
     {
      "code": ""
     },
     {
      "code": ""
     },
     {
      "code": ""
     },
     {
      "code": ""
     },
     {
      "code": ""
     },
     {
      "code": ""
     },
     {
      "code": ""
     },
     {
      "code": "δ"
     },
     {
      "error": "Cannot parse: 1:0: ="
     },
     {
      "code": "0"
     },
     {
      "error": "Cannot parse: 1:1: ."
     },
     {
      "code": "1"
     },
     {
      "error": "Cannot parse: 1:0: ,"
     },
     {
      "code": ""
     },
     {
      "code": ""
     },
     {
      "code": ""
     },
     {
      "code": "#"
     },
     {
      "code": ""
     },
     {
      "code": "d"
     },
     {
      "code": "e"
     },
     {
      "code": "p"
     },
     {
      "code": "r"
     },
     {
      "code": "e"
     },
     {
      "code": "c"
     },
     {
      "code": "i"
     },
     {
      "code": "a"
     },
     {
      "code": "t"
     },
     {
      "code": "i"
     },
     {
      "code": "o"
     },
     {
      "code": "n"
     },
     {
      "code": ""
     },
     {
      "code": "r"
     },
     {
      "code": "a"
     },
     {
      "code": "t"
     },
     {
      "code": "e"
     },
     {
      "code": ""
     },
     {
      "code": ""
     },
     {
      "code": ""
     },
     {
      "code": ""
     },
     {
      "code": ""
     },
     {
      "code": ""
     },
     {
      "code": ""
     },
     {
      "code": ""
     },
     {
      "code": ""
     },
     {
      "code": ""
     },
     {
      "code": ""
     },
     {
      "code": ""
     },
     {
      "code": ""
     },
     {
      "code": ""
     },
     {
      "code": ""
     },
     {
      "code": ""
     },
     {
      "code": ""
     },
     {
      "code": ""
     },
     {
      "code": ""
     },
     {
      "code": ""
     },
     {
      "code": ""
     },
     {
      "code": ""
     },
     {
      "code": ""
     },
     {
      "code": ""
     },
     {
      "code": "α"
     },
     {
      "error": "Cannot parse: 1:0: ="
     },
     {
      "code": "0"
     },
     {
      "error": "Cannot parse: 1:1: ."
     },
     {
      "code": "3"
     },
     {
      "code": "6"
     },
     {
      "error": "Cannot parse: 1:0: ,"
     },
     {
      "code": ""
     },
     {
      "code": ""
     },
     {
      "code": ""
     },
     {
      "code": "#"
     },
     {
      "code": ""
     },
     {
      "code": "s"
     },
     {
      "code": "h"
     },
     {
      "code": "a"
     },
     {
      "code": "r"
     },
     {
      "code": "e"
     },
     {
      "code": ""
     },
     {
      "code": "o"
     },
     {
      "code": "f"
     },
     {
      "code": ""
     },
     {
      "code": "c"
     },
     {
      "code": "a"
     },
     {
      "code": "p"
     },
     {
      "code": "i"
     },
     {
      "code": "t"
     },
     {
      "code": "a"
     },
     {
      "code": "l"
     },
     {
      "code": ""
     },
     {
      "code": ""
     },
     {
      "code": ""
     },
     {
      "code": ""
     },
     {
      "code": ""
     },
     {
      "code": ""
     },
     {
      "code": ""
     },
     {
      "code": ""
     },
     {
      "code": ""
     },
     {
      "code": ""
     },
     {
      "code": ""
     },
     {
      "code": ""
     },
     {
      "code": ""
     },
     {
      "code": ""
     },
     {
      "code": ""
     },
     {
      "code": ""
     },
     {
      "code": ""
     },
     {
      "code": ""
     },
     {
      "code": ""
     },
     {
      "code": ""
     },
     {
      "code": ""
     },
     {
      "code": ""
     },
     {
      "code": ""
     },
     {
      "code": ""
     },
     {
      "code": "A"
     },
     {
      "error": "Cannot parse: 1:0: ="
     },
     {
      "code": "2"
     },
     {
      "error": "Cannot parse: 1:1: ."
     },
     {
      "code": "0"
     },
     {
      "error": "Cannot parse: 1:0: ,"
     },
     {
      "code": ""
     },
     {
      "code": ""
     },
     {
      "code": ""
     },
     {
      "code": "#"
     },
     {
      "code": ""
     },
     {
      "code": "p"
     },
     {
      "code": "r"
     },
     {
      "code": "o"
     },
     {
      "code": "d"
     },
     {
      "code": "u"
     },
     {
      "code": "c"
     },
     {
      "code": "t"
     },
     {
      "code": "i"
     },
     {
      "code": "v"
     },
     {
      "code": "i"
     },
     {
      "code": "t"
     },
     {
      "code": "y"
     },
     {
      "code": ""
     },
     {
      "code": ""
     },
     {
      "code": ""
     },
     {
      "code": ""
     },
     {
      "code": ""
     },
     {
      "code": ""
     },
     {
      "code": ""
     },
     {
      "code": ""
     },
     {
      "code": ""
     },
     {
      "code": ""
     },
     {
      "code": ""
     },
     {
      "code": ""
     },
     {
      "code": ""
     },
     {
      "code": ""
     },
     {
      "code": ""
     },
     {
      "code": ""
     },
     {
      "code": ""
     },
     {
      "code": ""
     },
     {
      "code": ""
     },
     {
      "code": ""
     },
     {
      "code": ""
     },
     {
      "code": ""
     },
     {
      "code": ""
     },
     {
      "code": ""
     },
     {
      "code": "k"
     },
     {
      "code": "0"
     },
     {
      "error": "Cannot parse: 1:0: ="
     },
     {
      "code": "1"
     },
     {
      "error": "Cannot parse: 1:1: ."
     },
     {
      "code": "0"
     },
     {
      "error": "Cannot parse: 1:0: )"
     },
     {
      "error": "Cannot parse: 1:0: :"
     },
     {
      "code": ""
     },
     {
      "code": ""
     },
     {
      "code": "#"
     },
     {
      "code": ""
     },
     {
      "code": "c"
     },
     {
      "code": "u"
     },
     {
      "code": "r"
     },
     {
      "code": "r"
     },
     {
      "code": "e"
     },
     {
      "code": "n"
     },
     {
      "code": "t"
     },
     {
      "code": ""
     },
     {
      "code": "c"
     },
     {
      "code": "a"
     },
     {
      "code": "p"
     },
     {
      "code": "i"
     },
     {
      "code": "t"
     },
     {
      "code": "a"
     },
     {
      "code": "l"
     },
     {
      "code": ""
     },
     {
      "code": "s"
     },
     {
      "code": "t"
     },
     {
      "code": "o"
     },
     {
      "code": "c"
     },
     {
      "code": "k"
     },
     {
      "code": ""
     },
     {
      "code": ""
     },
     {
      "code": ""
     },
     {
      "code": ""
     },
     {
      "code": ""
     },
     {
      "code": ""
     },
     {
      "code": ""
     },
     {
      "code": ""
     },
     {
      "code": ""
     },
     {
      "code": ""
     },
     {
      "code": "s"
     },
     {
      "code": "e"
     },
     {
      "code": "l"
     },
     {
      "code": "f"
     },
     {
      "error": "Cannot parse: 1:1: ."
     },
     {
      "code": "n"
     },
     {
      "error": "Cannot parse: 1:0: ,"
     },
     {
      "code": ""
     },
     {
      "code": "s"
     },
     {
      "code": "e"
     },
     {
      "code": "l"
     },
     {
      "code": "f"
     },
     {
      "error": "Cannot parse: 1:1: ."
     },
     {
      "code": "s"
     },
     {
      "error": "Cannot parse: 1:0: ,"
     },
     {
      "code": ""
     },
     {
      "code": "s"
     },
     {
      "code": "e"
     },
     {
      "code": "l"
     },
     {
      "code": "f"
     },
     {
      "error": "Cannot parse: 1:1: ."
     },
     {
      "code": "δ"
     },
     {
      "error": "Cannot parse: 1:0: ,"
     },
     {
      "code": ""
     },
     {
      "code": "s"
     },
     {
      "code": "e"
     },
     {
      "code": "l"
     },
     {
      "code": "f"
     },
     {
      "error": "Cannot parse: 1:1: ."
     },
     {
      "code": "α"
     },
     {
      "error": "Cannot parse: 1:0: ,"
     },
     {
      "code": ""
     },
     {
      "code": "s"
     },
     {
      "code": "e"
     },
     {
      "code": "l"
     },
     {
      "code": "f"
     },
     {
      "error": "Cannot parse: 1:1: ."
     },
     {
      "code": "A"
     },
     {
      "code": ""
     },
     {
      "error": "Cannot parse: 1:0: ="
     },
     {
      "code": ""
     },
     {
      "code": "n"
     },
     {
      "error": "Cannot parse: 1:0: ,"
     },
     {
      "code": ""
     },
     {
      "code": "s"
     },
     {
      "error": "Cannot parse: 1:0: ,"
     },
     {
      "code": ""
     },
     {
      "code": "δ"
     },
     {
      "error": "Cannot parse: 1:0: ,"
     },
     {
      "code": ""
     },
     {
      "code": "α"
     },
     {
      "error": "Cannot parse: 1:0: ,"
     },
     {
      "code": ""
     },
     {
      "code": "A"
     },
     {
      "code": ""
     },
     {
      "code": ""
     },
     {
      "code": ""
     },
     {
      "code": ""
     },
     {
      "code": ""
     },
     {
      "code": ""
     },
     {
      "code": ""
     },
     {
      "code": ""
     },
     {
      "code": ""
     },
     {
      "code": "s"
     },
     {
      "code": "e"
     },
     {
      "code": "l"
     },
     {
      "code": "f"
     },
     {
      "error": "Cannot parse: 1:1: ."
     },
     {
      "code": "k"
     },
     {
      "code": ""
     },
     {
      "error": "Cannot parse: 1:0: ="
     },
     {
      "code": ""
     },
     {
      "code": "k"
     },
     {
      "code": "0"
     },
     {
      "code": ""
     },
     {
      "code": ""
     },
     {
      "code": ""
     },
     {
      "code": ""
     },
     {
      "code": ""
     },
     {
      "code": ""
     },
     {
      "code": "d"
     },
     {
      "code": "e"
     },
     {
      "code": "f"
     },
     {
      "code": ""
     },
     {
      "code": "d"
     },
     {
      "code": "i"
     },
     {
      "code": "f"
     },
     {
      "code": "f"
     },
     {
      "code": "e"
     },
     {
      "code": "r"
     },
     {
      "code": "e"
     },
     {
      "code": "n"
     },
     {
      "code": "c"
     },
     {
      "code": "e"
     },
     {
      "code": "_"
     },
     {
      "code": "f"
     },
     {
      "code": "u"
     },
     {
      "code": "n"
     },
     {
      "code": "c"
     },
     {
      "code": "t"
     },
     {
      "code": "i"
     },
     {
      "code": "o"
     },
     {
      "code": "n"
     },
     {
      "error": "('EOF in multi-line statement', (2, 0))"
     },
     {
      "code": "s"
     },
     {
      "code": "e"
     },
     {
      "code": "l"
     },
     {
      "code": "f"
     },
     {
      "error": "Cannot parse: 1:0: )"
     },
     {
      "error": "Cannot parse: 1:0: :"
     },
     {
      "code": ""
     },
     {
      "code": ""
     },
     {
      "code": ""
     },
     {
      "code": ""
     },
     {
      "code": ""
     },
     {
      "code": ""
     },
     {
      "code": ""
     },
     {
      "code": ""
     },
     {
      "code": ""
     },
     {
      "code": "s"
     },
     {
      "code": "a"
     },
     {
      "code": "v"
     },
     {
      "code": "i"
     },
     {
      "code": "n"
     },
     {
      "code": "g"
     },
     {
      "code": ""
     },
     {
      "error": "Cannot parse: 1:0: ="
     },
     {
      "code": ""
     },
     {
      "code": "s"
     },
     {
      "code": "e"
     },
     {
      "code": "l"
     },
     {
      "code": "f"
     },
     {
      "error": "Cannot parse: 1:1: ."
     },
     {
      "code": "s"
     },
     {
      "code": ""
     },
     {
      "error": "Cannot parse: 1:1: *"
     },
     {
      "code": ""
     },
     {
      "code": "s"
     },
     {
      "code": "e"
     },
     {
      "code": "l"
     },
     {
      "code": "f"
     },
     {
      "error": "Cannot parse: 1:1: ."
     },
     {
      "code": "A"
     },
     {
      "code": ""
     },
     {
      "error": "Cannot parse: 1:1: *"
     },
     {
      "code": ""
     },
     {
      "error": "('EOF in multi-line statement', (2, 0))"
     },
     {
      "code": "s"
     },
     {
      "code": "e"
     },
     {
      "code": "l"
     },
     {
      "code": "f"
     },
     {
      "error": "Cannot parse: 1:1: ."
     },
     {
      "code": "k"
     },
     {
      "error": "Cannot parse: 1:1: *"
     },
     {
      "error": "Cannot parse: 1:1: *"
     },
     {
      "code": "s"
     },
     {
      "code": "e"
     },
     {
      "code": "l"
     },
     {
      "code": "f"
     },
     {
      "error": "Cannot parse: 1:1: ."
     },
     {
      "code": "α"
     },
     {
      "error": "Cannot parse: 1:0: )"
     },
     {
      "code": ""
     },
     {
      "code": ""
     },
     {
      "code": ""
     },
     {
      "code": ""
     },
     {
      "code": ""
     },
     {
      "code": ""
     },
     {
      "code": ""
     },
     {
      "code": ""
     },
     {
      "code": ""
     },
     {
      "code": ""
     },
     {
      "code": "d"
     },
     {
      "code": "e"
     },
     {
      "code": "p"
     },
     {
      "code": "r"
     },
     {
      "code": "e"
     },
     {
      "code": "c"
     },
     {
      "code": "i"
     },
     {
      "code": "a"
     },
     {
      "code": "t"
     },
     {
      "code": "i"
     },
     {
      "code": "o"
     },
     {
      "code": "n"
     },
     {
      "code": ""
     },
     {
      "error": "Cannot parse: 1:0: ="
     },
     {
      "code": ""
     },
     {
      "code": "s"
     },
     {
      "code": "e"
     },
     {
      "code": "l"
     },
     {
      "code": "f"
     },
     {
      "error": "Cannot parse: 1:1: ."
     },
     {
      "code": "δ"
     },
     {
      "code": ""
     },
     {
      "error": "Cannot parse: 1:1: *"
     },
     {
      "code": ""
     },
     {
      "code": "s"
     },
     {
      "code": "e"
     },
     {
      "code": "l"
     },
     {
      "code": "f"
     },
     {
      "error": "Cannot parse: 1:1: ."
     },
     {
      "code": "k"
     },
     {
      "code": ""
     },
     {
      "code": ""
     },
     {
      "code": ""
     },
     {
      "code": ""
     },
     {
      "code": ""
     },
     {
      "code": ""
     },
     {
      "code": ""
     },
     {
      "code": ""
     },
     {
      "code": ""
     },
     {
      "code": "k"
     },
     {
      "code": "_"
     },
     {
      "code": "n"
     },
     {
      "code": "e"
     },
     {
      "code": "w"
     },
     {
      "code": ""
     },
     {
      "error": "Cannot parse: 1:0: ="
     },
     {
      "code": ""
     },
     {
      "error": "('EOF in multi-line statement', (2, 0))"
     },
     {
      "code": "s"
     },
     {
      "code": "a"
     },
     {
      "code": "v"
     },
     {
      "code": "i"
     },
     {
      "code": "n"
     },
     {
      "code": "g"
     },
     {
      "code": ""
     },
     {
      "error": "Cannot parse: 1:1: +"
     },
     {
      "code": ""
     },
     {
      "error": "('EOF in multi-line statement', (2, 0))"
     },
     {
      "code": "s"
     },
     {
      "code": "e"
     },
     {
      "code": "l"
     },
     {
      "code": "f"
     },
     {
      "error": "Cannot parse: 1:1: ."
     },
     {
      "code": "k"
     },
     {
      "code": ""
     },
     {
      "error": "Cannot parse: 1:1: -"
     },
     {
      "code": ""
     },
     {
      "code": "d"
     },
     {
      "code": "e"
     },
     {
      "code": "p"
     },
     {
      "code": "r"
     },
     {
      "code": "e"
     },
     {
      "code": "c"
     },
     {
      "code": "i"
     },
     {
      "code": "a"
     },
     {
      "code": "t"
     },
     {
      "code": "i"
     },
     {
      "code": "o"
     },
     {
      "code": "n"
     },
     {
      "error": "Cannot parse: 1:0: )"
     },
     {
      "code": ""
     },
     {
      "error": "Cannot parse: 1:0: /"
     },
     {
      "code": ""
     },
     {
      "error": "('EOF in multi-line statement', (2, 0))"
     },
     {
      "code": "1"
     },
     {
      "code": ""
     },
     {
      "error": "Cannot parse: 1:1: +"
     },
     {
      "code": ""
     },
     {
      "code": "s"
     },
     {
      "code": "e"
     },
     {
      "code": "l"
     },
     {
      "code": "f"
     },
     {
      "error": "Cannot parse: 1:1: ."
     },
     {
      "code": "n"
     },
     {
      "error": "Cannot parse: 1:0: )"
     },
     {
      "code": ""
     },
     {
      "code": ""
     },
     {
      "code": ""
     },
     {
      "code": ""
     },
     {
      "code": ""
     },
     {
      "code": ""
     },
     {
      "code": ""
     },
     {
      "code": ""
     },
     {
      "code": ""
     },
     {
      "code": "r"
     },
     {
      "code": "e"
     },
     {
      "code": "t"
     },
     {
      "code": "u"
     },
     {
      "code": "r"
     },
     {
      "code": "n"
     },
     {
      "code": ""
     },
     {
      "code": "s"
     },
     {
      "code": "a"
     },
     {
      "code": "v"
     },
     {
      "code": "i"
     },
     {
      "code": "n"
     },
     {
      "code": "g"
     },
     {
      "error": "Cannot parse: 1:0: ,"
     },
     {
      "code": ""
     },
     {
      "code": "d"
     },
     {
      "code": "e"
     },
     {
      "code": "p"
     },
     {
      "code": "r"
     },
     {
      "code": "e"
     },
     {
      "code": "c"
     },
     {
      "code": "i"
     },
     {
      "code": "a"
     },
     {
      "code": "t"
     },
     {
      "code": "i"
     },
     {
      "code": "o"
     },
     {
      "code": "n"
     },
     {
      "error": "Cannot parse: 1:0: ,"
     },
     {
      "code": ""
     },
     {
      "code": "k"
     },
     {
      "code": "_"
     },
     {
      "code": "n"
     },
     {
      "code": "e"
     },
     {
      "code": "w"
     },
     {
      "code": ""
     },
     {
      "code": ""
     },
     {
      "code": ""
     },
     {
      "code": ""
     },
     {
      "code": ""
     },
     {
      "code": ""
     },
     {
      "code": ""
     },
     {
      "code": ""
     },
     {
      "code": ""
     },
     {
      "code": ""
     },
     {
      "code": "d"
     },
     {
      "code": "e"
     },
     {
      "code": "f"
     },
     {
      "code": ""
     },
     {
      "code": "c"
     },
     {
      "code": "a"
     },
     {
      "code": "l"
     },
     {
      "code": "c"
     },
     {
      "code": "u"
     },
     {
      "code": "l"
     },
     {
      "code": "a"
     },
     {
      "code": "t"
     },
     {
      "code": "e"
     },
     {
      "code": "_"
     },
     {
      "code": "o"
     },
     {
      "code": "u"
     },
     {
      "code": "t"
     },
     {
      "code": "p"
     },
     {
      "code": "u"
     },
     {
      "code": "t"
     },
     {
      "error": "('EOF in multi-line statement', (2, 0))"
     },
     {
      "code": "s"
     },
     {
      "code": "e"
     },
     {
      "code": "l"
     },
     {
      "code": "f"
     },
     {
      "error": "Cannot parse: 1:0: )"
     },
     {
      "error": "Cannot parse: 1:0: :"
     },
     {
      "code": ""
     },
     {
      "code": ""
     },
     {
      "code": ""
     },
     {
      "code": ""
     },
     {
      "code": ""
     },
     {
      "code": ""
     },
     {
      "code": ""
     },
     {
      "code": ""
     },
     {
      "code": ""
     },
     {
      "code": "y"
     },
     {
      "code": ""
     },
     {
      "error": "Cannot parse: 1:0: ="
     },
     {
      "code": ""
     },
     {
      "code": "s"
     },
     {
      "code": "e"
     },
     {
      "code": "l"
     },
     {
      "code": "f"
     },
     {
      "error": "Cannot parse: 1:1: ."
     },
     {
      "code": "A"
     },
     {
      "code": ""
     },
     {
      "error": "Cannot parse: 1:1: *"
     },
     {
      "code": ""
     },
     {
      "error": "('EOF in multi-line statement', (2, 0))"
     },
     {
      "code": "s"
     },
     {
      "code": "e"
     },
     {
      "code": "l"
     },
     {
      "code": "f"
     },
     {
      "error": "Cannot parse: 1:1: ."
     },
     {
      "code": "k"
     },
     {
      "code": ""
     },
     {
      "error": "Cannot parse: 1:1: *"
     },
     {
      "error": "Cannot parse: 1:1: *"
     },
     {
      "code": ""
     },
     {
      "code": "s"
     },
     {
      "code": "e"
     },
     {
      "code": "l"
     },
     {
      "code": "f"
     },
     {
      "error": "Cannot parse: 1:1: ."
     },
     {
      "code": "α"
     },
     {
      "error": "Cannot parse: 1:0: )"
     },
     {
      "code": ""
     },
     {
      "code": ""
     },
     {
      "code": ""
     },
     {
      "code": ""
     },
     {
      "code": ""
     },
     {
      "code": ""
     },
     {
      "code": ""
     },
     {
      "code": ""
     },
     {
      "code": ""
     },
     {
      "code": "r"
     },
     {
      "code": "e"
     },
     {
      "code": "t"
     },
     {
      "code": "u"
     },
     {
      "code": "r"
     },
     {
      "code": "n"
     },
     {
      "code": ""
     },
     {
      "code": "y"
     },
     {
      "code": ""
     },
     {
      "code": ""
     },
     {
      "code": ""
     },
     {
      "code": ""
     },
     {
      "code": ""
     },
     {
      "code": ""
     },
     {
      "code": ""
     },
     {
      "code": ""
     },
     {
      "code": ""
     },
     {
      "code": ""
     },
     {
      "code": ""
     },
     {
      "code": ""
     },
     {
      "code": ""
     },
     {
      "code": ""
     },
     {
      "code": ""
     },
     {
      "code": ""
     },
     {
      "code": ""
     },
     {
      "code": ""
     },
     {
      "code": ""
     },
     {
      "code": ""
     },
     {
      "code": ""
     },
     {
      "code": ""
     },
     {
      "code": ""
     },
     {
      "code": "d"
     },
     {
      "code": "e"
     },
     {
      "code": "f"
     },
     {
      "code": ""
     },
     {
      "code": "c"
     },
     {
      "code": "a"
     },
     {
      "code": "l"
     },
     {
      "code": "c"
     },
     {
      "code": "u"
     },
     {
      "code": "l"
     },
     {
      "code": "a"
     },
     {
      "code": "t"
     },
     {
      "code": "e"
     },
     {
      "code": "_"
     },
     {
      "code": "p"
     },
     {
      "code": "r"
     },
     {
      "code": "i"
     },
     {
      "code": "c"
     },
     {
      "code": "e"
     },
     {
      "error": "('EOF in multi-line statement', (2, 0))"
     },
     {
      "code": "s"
     },
     {
      "code": "e"
     },
     {
      "code": "l"
     },
     {
      "code": "f"
     },
     {
      "error": "Cannot parse: 1:0: )"
     },
     {
      "error": "Cannot parse: 1:0: :"
     },
     {
      "code": ""
     },
     {
      "code": ""
     },
     {
      "code": ""
     },
     {
      "code": ""
     },
     {
      "code": ""
     },
     {
      "code": ""
     },
     {
      "code": ""
     },
     {
      "code": ""
     },
     {
      "code": ""
     },
     {
      "code": "w"
     },
     {
      "code": ""
     },
     {
      "error": "Cannot parse: 1:0: ="
     },
     {
      "code": ""
     },
     {
      "error": "('EOF in multi-line statement', (2, 0))"
     },
     {
      "code": "1"
     },
     {
      "code": ""
     },
     {
      "error": "Cannot parse: 1:1: -"
     },
     {
      "code": ""
     },
     {
      "code": "s"
     },
     {
      "code": "e"
     },
     {
      "code": "l"
     },
     {
      "code": "f"
     },
     {
      "error": "Cannot parse: 1:1: ."
     },
     {
      "code": "α"
     },
     {
      "error": "Cannot parse: 1:0: )"
     },
     {
      "code": "s"
     },
     {
      "code": "e"
     },
     {
      "code": "l"
     },
     {
      "code": "f"
     },
     {
      "error": "Cannot parse: 1:1: ."
     },
     {
      "code": "y"
     },
     {
      "code": ""
     },
     {
      "code": ""
     },
     {
      "code": ""
     },
     {
      "code": ""
     },
     {
      "code": ""
     },
     {
      "code": ""
     },
     {
      "code": ""
     },
     {
      "code": ""
     },
     {
      "code": ""
     },
     {
      "code": "R"
     },
     {
      "code": ""
     },
     {
      "error": "Cannot parse: 1:0: ="
     },
     {
      "code": ""
     },
     {
      "code": "s"
     },
     {
      "code": "e"
     },
     {
      "code": "l"
     },
     {
      "code": "f"
     },
     {
      "error": "Cannot parse: 1:1: ."
     },
     {
      "code": "α"
     },
     {
      "code": ""
     },
     {
      "error": "Cannot parse: 1:1: *"
     },
     {
      "code": ""
     },
     {
      "error": "('EOF in multi-line statement', (2, 0))"
     },
     {
      "code": "s"
     },
     {
      "code": "e"
     },
     {
      "code": "l"
     },
     {
      "code": "f"
     },
     {
      "error": "Cannot parse: 1:1: ."
     },
     {
      "code": "y"
     },
     {
      "code": ""
     },
     {
      "error": "Cannot parse: 1:0: /"
     },
     {
      "code": ""
     },
     {
      "code": "s"
     },
     {
      "code": "e"
     },
     {
      "code": "l"
     },
     {
      "code": "f"
     },
     {
      "error": "Cannot parse: 1:1: ."
     },
     {
      "code": "k"
     },
     {
      "error": "Cannot parse: 1:0: )"
     },
     {
      "code": ""
     },
     {
      "code": ""
     },
     {
      "code": ""
     },
     {
      "code": ""
     },
     {
      "code": ""
     },
     {
      "code": ""
     },
     {
      "code": ""
     },
     {
      "code": ""
     },
     {
      "code": ""
     },
     {
      "code": "r"
     },
     {
      "code": "e"
     },
     {
      "code": "t"
     },
     {
      "code": "u"
     },
     {
      "code": "r"
     },
     {
      "code": "n"
     },
     {
      "code": ""
     },
     {
      "code": "w"
     },
     {
      "error": "Cannot parse: 1:0: ,"
     },
     {
      "code": ""
     },
     {
      "code": "R"
     },
     {
      "code": ""
     },
     {
      "code": ""
     },
     {
      "code": ""
     },
     {
      "code": ""
     },
     {
      "code": ""
     },
     {
      "code": ""
     },
     {
      "code": "d"
     },
     {
      "code": "e"
     },
     {
      "code": "f"
     },
     {
      "code": ""
     },
     {
      "code": "u"
     },
     {
      "code": "p"
     },
     {
      "code": "d"
     },
     {
      "code": "a"
     },
     {
      "code": "t"
     },
     {
      "code": "e"
     },
     {
      "error": "('EOF in multi-line statement', (2, 0))"
     },
     {
      "code": "s"
     },
     {
      "code": "e"
     },
     {
      "code": "l"
     },
     {
      "code": "f"
     },
     {
      "error": "Cannot parse: 1:0: )"
     },
     {
      "error": "Cannot parse: 1:0: :"
     },
     {
      "code": ""
     },
     {
      "code": ""
     },
     {
      "code": ""
     },
     {
      "code": ""
     },
     {
      "code": ""
     },
     {
      "code": ""
     },
     {
      "code": ""
     },
     {
      "code": ""
     },
     {
      "code": ""
     },
     {
      "error": "Cannot parse: 1:0: \""
     },
     {
      "code": "U"
     },
     {
      "code": "p"
     },
     {
      "code": "d"
     },
     {
      "code": "a"
     },
     {
      "code": "t"
     },
     {
      "code": "e"
     },
     {
      "code": ""
     },
     {
      "code": "t"
     },
     {
      "code": "h"
     },
     {
      "code": "e"
     },
     {
      "code": ""
     },
     {
      "code": "c"
     },
     {
      "code": "u"
     },
     {
      "code": "r"
     },
     {
      "code": "r"
     },
     {
      "code": "e"
     },
     {
      "code": "n"
     },
     {
      "code": "t"
     },
     {
      "code": ""
     },
     {
      "code": "s"
     },
     {
      "code": "t"
     },
     {
      "code": "a"
     },
     {
      "code": "t"
     },
     {
      "code": "e"
     },
     {
      "code": ""
     },
     {
      "error": "('EOF in multi-line statement', (2, 0))"
     },
     {
      "code": "i"
     },
     {
      "error": "Cannot parse: 1:1: ."
     },
     {
      "code": "e"
     },
     {
      "error": "Cannot parse: 1:1: ."
     },
     {
      "error": "Cannot parse: 1:0: ,"
     },
     {
      "code": ""
     },
     {
      "code": "t"
     },
     {
      "code": "h"
     },
     {
      "code": "e"
     },
     {
      "code": ""
     },
     {
      "code": "c"
     },
     {
      "code": "a"
     },
     {
      "code": "p"
     },
     {
      "code": "i"
     },
     {
      "code": "t"
     },
     {
      "code": "a"
     },
     {
      "code": "l"
     },
     {
      "code": ""
     },
     {
      "code": "s"
     },
     {
      "code": "t"
     },
     {
      "code": "o"
     },
     {
      "code": "c"
     },
     {
      "code": "k"
     },
     {
      "error": "Cannot parse: 1:0: )"
     },
     {
      "error": "Cannot parse: 1:1: ."
     },
     {
      "error": "Cannot parse: 1:0: \""
     },
     {
      "code": ""
     },
     {
      "code": ""
     },
     {
      "code": ""
     },
     {
      "code": ""
     },
     {
      "code": ""
     },
     {
      "code": ""
     },
     {
      "code": ""
     },
     {
      "code": ""
     },
     {
      "code": ""
     },
     {
      "code": "s"
     },
     {
      "code": "e"
     },
     {
      "code": "l"
     },
     {
      "code": "f"
     },
     {
      "error": "Cannot parse: 1:1: ."
     },
     {
      "code": "k"
     },
     {
      "code": ""
     },
     {
      "error": "Cannot parse: 1:0: ="
     },
     {
      "code": ""
     },
     {
      "code": ""
     },
     {
      "code": "s"
     },
     {
      "code": "e"
     },
     {
      "code": "l"
     },
     {
      "code": "f"
     },
     {
      "error": "Cannot parse: 1:1: ."
     },
     {
      "code": "d"
     },
     {
      "code": "i"
     },
     {
      "code": "f"
     },
     {
      "code": "f"
     },
     {
      "code": "e"
     },
     {
      "code": "r"
     },
     {
      "code": "e"
     },
     {
      "code": "n"
     },
     {
      "code": "c"
     },
     {
      "code": "e"
     },
     {
      "code": "_"
     },
     {
      "code": "f"
     },
     {
      "code": "u"
     },
     {
      "code": "n"
     },
     {
      "code": "c"
     },
     {
      "code": "t"
     },
     {
      "code": "i"
     },
     {
      "code": "o"
     },
     {
      "code": "n"
     },
     {
      "error": "('EOF in multi-line statement', (2, 0))"
     },
     {
      "error": "Cannot parse: 1:0: )"
     },
     {
      "code": ""
     },
     {
      "code": ""
     },
     {
      "code": ""
     },
     {
      "code": ""
     },
     {
      "code": ""
     },
     {
      "code": ""
     },
     {
      "code": "d"
     },
     {
      "code": "e"
     },
     {
      "code": "f"
     },
     {
      "code": ""
     },
     {
      "code": "s"
     },
     {
      "code": "t"
     },
     {
      "code": "e"
     },
     {
      "code": "a"
     },
     {
      "code": "d"
     },
     {
      "code": "y"
     },
     {
      "code": "_"
     },
     {
      "code": "s"
     },
     {
      "code": "t"
     },
     {
      "code": "a"
     },
     {
      "code": "t"
     },
     {
      "code": "e"
     },
     {
      "error": "('EOF in multi-line statement', (2, 0))"
     },
     {
      "code": "s"
     },
     {
      "code": "e"
     },
     {
      "code": "l"
     },
     {
      "code": "f"
     },
     {
      "error": "Cannot parse: 1:0: )"
     },
     {
      "error": "Cannot parse: 1:0: :"
     },
     {
      "code": ""
     },
     {
      "code": ""
     },
     {
      "code": ""
     },
     {
      "code": ""
     },
     {
      "code": ""
     },
     {
      "code": ""
     },
     {
      "code": ""
     },
     {
      "code": ""
     },
     {
      "code": ""
     },
     {
      "error": "Cannot parse: 1:0: \""
     },
     {
      "code": "C"
     },
     {
      "code": "o"
     },
     {
      "code": "m"
     },
     {
      "code": "p"
     },
     {
      "code": "u"
     },
     {
      "code": "t"
     },
     {
      "code": "e"
     },
     {
      "code": ""
     },
     {
      "code": "d"
     },
     {
      "code": "i"
     },
     {
      "code": "r"
     },
     {
      "code": "e"
     },
     {
      "code": "c"
     },
     {
      "code": "t"
     },
     {
      "code": "l"
     },
     {
      "code": "y"
     },
     {
      "code": ""
     },
     {
      "code": "t"
     },
     {
      "code": "h"
     },
     {
      "code": "e"
     },
     {
      "code": ""
     },
     {
      "code": "s"
     },
     {
      "code": "t"
     },
     {
      "code": "e"
     },
     {
      "code": "a"
     },
     {
      "code": "d"
     },
     {
      "code": "y"
     },
     {
      "code": ""
     },
     {
      "code": "s"
     },
     {
      "code": "t"
     },
     {
      "code": "a"
     },
     {
      "code": "t"
     },
     {
      "code": "e"
     },
     {
      "code": ""
     },
     {
      "code": "v"
     },
     {
      "code": "a"
     },
     {
      "code": "l"
     },
     {
      "code": "u"
     },
     {
      "code": "e"
     },
     {
      "code": ""
     },
     {
      "code": "o"
     },
     {
      "code": "f"
     },
     {
      "code": ""
     },
     {
      "code": "c"
     },
     {
      "code": "a"
     },
     {
      "code": "p"
     },
     {
      "code": "i"
     },
     {
      "code": "t"
     },
     {
      "code": "a"
     },
     {
      "code": "l"
     },
     {
      "error": "Cannot parse: 1:1: ."
     },
     {
      "error": "Cannot parse: 1:0: \""
     },
     {
      "code": ""
     },
     {
      "code": ""
     },
     {
      "code": ""
     },
     {
      "code": ""
     },
     {
      "code": ""
     },
     {
      "code": ""
     },
     {
      "code": ""
     },
     {
      "code": ""
     },
     {
      "code": ""
     },
     {
      "code": "k"
     },
     {
      "code": "_"
     },
     {
      "code": "s"
     },
     {
      "code": "t"
     },
     {
      "code": "a"
     },
     {
      "code": "r"
     },
     {
      "code": ""
     },
     {
      "error": "Cannot parse: 1:0: ="
     },
     {
      "code": ""
     },
     {
      "error": "('EOF in multi-line statement', (2, 0))"
     },
     {
      "error": "('EOF in multi-line statement', (2, 0))"
     },
     {
      "code": "s"
     },
     {
      "code": "e"
     },
     {
      "code": "l"
     },
     {
      "code": "f"
     },
     {
      "error": "Cannot parse: 1:1: ."
     },
     {
      "code": "s"
     },
     {
      "code": ""
     },
     {
      "error": "Cannot parse: 1:1: *"
     },
     {
      "code": ""
     },
     {
      "code": "s"
     },
     {
      "code": "e"
     },
     {
      "code": "l"
     },
     {
      "code": "f"
     },
     {
      "error": "Cannot parse: 1:1: ."
     },
     {
      "code": "A"
     },
     {
      "error": "Cannot parse: 1:0: )"
     },
     {
      "code": ""
     },
     {
      "error": "Cannot parse: 1:0: /"
     },
     {
      "code": ""
     },
     {
      "error": "('EOF in multi-line statement', (2, 0))"
     },
     {
      "code": "s"
     },
     {
      "code": "e"
     },
     {
      "code": "l"
     },
     {
      "code": "f"
     },
     {
      "error": "Cannot parse: 1:1: ."
     },
     {
      "code": "n"
     },
     {
      "code": ""
     },
     {
      "error": "Cannot parse: 1:1: +"
     },
     {
      "code": ""
     },
     {
      "code": "s"
     },
     {
      "code": "e"
     },
     {
      "code": "l"
     },
     {
      "code": "f"
     },
     {
      "error": "Cannot parse: 1:1: ."
     },
     {
      "code": "δ"
     },
     {
      "error": "Cannot parse: 1:0: )"
     },
     {
      "error": "Cannot parse: 1:0: )"
     },
     {
      "error": "Cannot parse: 1:1: *"
     },
     {
      "error": "Cannot parse: 1:1: *"
     },
     {
      "error": "('EOF in multi-line statement', (2, 0))"
     },
     {
      "code": "1"
     },
     {
      "code": ""
     },
     {
      "error": "Cannot parse: 1:0: /"
     },
     {
      "code": ""
     },
     {
      "error": "('EOF in multi-line statement', (2, 0))"
     },
     {
      "code": "1"
     },
     {
      "code": ""
     },
     {
      "error": "Cannot parse: 1:1: -"
     },
     {
      "code": ""
     },
     {
      "code": "s"
     },
     {
      "code": "e"
     },
     {
      "code": "l"
     },
     {
      "code": "f"
     },
     {
      "error": "Cannot parse: 1:1: ."
     },
     {
      "code": "α"
     },
     {
      "error": "Cannot parse: 1:0: )"
     },
     {
      "error": "Cannot parse: 1:0: )"
     },
     {
      "code": ""
     },
     {
      "code": ""
     },
     {
      "code": ""
     },
     {
      "code": ""
     },
     {
      "code": ""
     },
     {
      "code": ""
     },
     {
      "code": ""
     },
     {
      "code": ""
     },
     {
      "code": ""
     },
     {
      "code": "r"
     },
     {
      "code": "e"
     },
     {
      "code": "t"
     },
     {
      "code": "u"
     },
     {
      "code": "r"
     },
     {
      "code": "n"
     },
     {
      "code": ""
     },
     {
      "code": "k"
     },
     {
      "code": "_"
     },
     {
      "code": "s"
     },
     {
      "code": "t"
     },
     {
      "code": "a"
     },
     {
      "code": "r"
     },
     {
      "code": ""
     },
     {
      "code": ""
     },
     {
      "code": ""
     },
     {
      "code": ""
     },
     {
      "code": ""
     },
     {
      "code": ""
     },
     {
      "code": "d"
     },
     {
      "code": "e"
     },
     {
      "code": "f"
     },
     {
      "code": ""
     },
     {
      "code": "g"
     },
     {
      "code": "e"
     },
     {
      "code": "n"
     },
     {
      "code": "e"
     },
     {
      "code": "r"
     },
     {
      "code": "a"
     },
     {
      "code": "t"
     },
     {
      "code": "e"
     },
     {
      "code": "_"
     },
     {
      "code": "s"
     },
     {
      "code": "e"
     },
     {
      "code": "q"
     },
     {
      "code": "u"
     },
     {
      "code": "e"
     },
     {
      "code": "n"
     },
     {
      "code": "c"
     },
     {
      "code": "e"
     },
     {
      "error": "('EOF in multi-line statement', (2, 0))"
     },
     {
      "code": "s"
     },
     {
      "code": "e"
     },
     {
      "code": "l"
     },
     {
      "code": "f"
     },
     {
      "error": "Cannot parse: 1:0: ,"
     },
     {
      "code": ""
     },
     {
      "code": "t"
     },
     {
      "error": "Cannot parse: 1:0: )"
     },
     {
      "error": "Cannot parse: 1:0: :"
     },
     {
      "code": ""
     },
     {
      "code": ""
     },
     {
      "code": ""
     },
     {
      "code": ""
     },
     {
      "code": ""
     },
     {
      "code": ""
     },
     {
      "code": ""
     },
     {
      "code": ""
     },
     {
      "code": ""
     },
     {
      "error": "Cannot parse: 1:0: \""
     },
     {
      "code": "G"
     },
     {
      "code": "e"
     },
     {
      "code": "n"
     },
     {
      "code": "e"
     },
     {
      "code": "r"
     },
     {
      "code": "a"
     },
     {
      "code": "t"
     },
     {
      "code": "e"
     },
     {
      "code": ""
     },
     {
      "code": "a"
     },
     {
      "code": "n"
     },
     {
      "code": "d"
     },
     {
      "code": ""
     },
     {
      "code": "r"
     },
     {
      "code": "e"
     },
     {
      "code": "t"
     },
     {
      "code": "u"
     },
     {
      "code": "r"
     },
     {
      "code": "n"
     },
     {
      "code": ""
     },
     {
      "code": "a"
     },
     {
      "code": ""
     },
     {
      "code": "t"
     },
     {
      "code": "i"
     },
     {
      "code": "m"
     },
     {
      "code": "e"
     },
     {
      "code": ""
     },
     {
      "code": "s"
     },
     {
      "code": "e"
     },
     {
      "code": "r"
     },
     {
      "code": "i"
     },
     {
      "code": "e"
     },
     {
      "code": "s"
     },
     {
      "code": ""
     },
     {
      "code": "o"
     },
     {
      "code": "f"
     },
     {
      "code": ""
     },
     {
      "code": "l"
     },
     {
      "code": "e"
     },
     {
      "code": "n"
     },
     {
      "code": "g"
     },
     {
      "code": "t"
     },
     {
      "code": "h"
     },
     {
      "code": ""
     },
     {
      "code": "t"
     },
     {
      "error": "Cannot parse: 1:0: \""
     },
     {
      "code": ""
     },
     {
      "code": ""
     },
     {
      "code": ""
     },
     {
      "code": ""
     },
     {
      "code": ""
     },
     {
      "code": ""
     },
     {
      "code": ""
     },
     {
      "code": ""
     },
     {
      "code": ""
     },
     {
      "code": "p"
     },
     {
      "code": "a"
     },
     {
      "code": "t"
     },
     {
      "code": "h"
     },
     {
      "code": ""
     },
     {
      "error": "Cannot parse: 1:0: ="
     },
     {
      "code": ""
     },
     {
      "error": "('EOF in multi-line statement', (2, 0))"
     },
     {
      "error": "Cannot parse: 1:0: ]"
     },
     {
      "code": ""
     },
     {
      "code": ""
     },
     {
      "code": ""
     },
     {
      "code": ""
     },
     {
      "code": ""
     },
     {
      "code": ""
     },
     {
      "code": ""
     },
     {
      "code": ""
     },
     {
      "code": ""
     },
     {
      "code": "f"
     },
     {
      "code": "o"
     },
     {
      "code": "r"
     },
     {
      "code": ""
     },
     {
      "code": "i"
     },
     {
      "code": ""
     },
     {
      "code": "i"
     },
     {
      "code": "n"
     },
     {
      "code": ""
     },
     {
      "code": "r"
     },
     {
      "code": "a"
     },
     {
      "code": "n"
     },
     {
      "code": "g"
     },
     {
      "code": "e"
     },
     {
      "error": "('EOF in multi-line statement', (2, 0))"
     },
     {
      "code": "t"
     },
     {
      "error": "Cannot parse: 1:0: )"
     },
     {
      "error": "Cannot parse: 1:0: :"
     },
     {
      "code": ""
     },
     {
      "code": ""
     },
     {
      "code": ""
     },
     {
      "code": ""
     },
     {
      "code": ""
     },
     {
      "code": ""
     },
     {
      "code": ""
     },
     {
      "code": ""
     },
     {
      "code": ""
     },
     {
      "code": ""
     },
     {
      "code": ""
     },
     {
      "code": ""
     },
     {
      "code": ""
     },
     {
      "code": "p"
     },
     {
      "code": "a"
     },
     {
      "code": "t"
     },
     {
      "code": "h"
     },
     {
      "error": "Cannot parse: 1:1: ."
     },
     {
      "code": "a"
     },
     {
      "code": "p"
     },
     {
      "code": "p"
     },
     {
      "code": "e"
     },
     {
      "code": "n"
     },
     {
      "code": "d"
     },
     {
      "error": "('EOF in multi-line statement', (2, 0))"
     },
     {
      "code": "s"
     },
     {
      "code": "e"
     },
     {
      "code": "l"
     },
     {
      "code": "f"
     },
     {
      "error": "Cannot parse: 1:1: ."
     },
     {
      "code": "k"
     },
     {
      "error": "Cannot parse: 1:0: )"
     },
     {
      "code": ""
     },
     {
      "code": ""
     },
     {
      "code": ""
     },
     {
      "code": ""
     },
     {
      "code": ""
     },
     {
      "code": ""
     },
     {
      "code": ""
     },
     {
      "code": ""
     },
     {
      "code": ""
     },
     {
      "code": ""
     },
     {
      "code": ""
     },
     {
      "code": ""
     },
     {
      "code": ""
     },
     {
      "code": "s"
     },
     {
      "code": "e"
     },
     {
      "code": "l"
     },
     {
      "code": "f"
     },
     {
      "error": "Cannot parse: 1:1: ."
     },
     {
      "code": "u"
     },
     {
      "code": "p"
     },
     {
      "code": "d"
     },
     {
      "code": "a"
     },
     {
      "code": "t"
     },
     {
      "code": "e"
     },
     {
      "error": "('EOF in multi-line statement', (2, 0))"
     },
     {
      "error": "Cannot parse: 1:0: )"
     },
     {
      "code": ""
     },
     {
      "code": ""
     },
     {
      "code": ""
     },
     {
      "code": ""
     },
     {
      "code": ""
     },
     {
      "code": ""
     },
     {
      "code": ""
     },
     {
      "code": ""
     },
     {
      "code": ""
     },
     {
      "code": "r"
     },
     {
      "code": "e"
     },
     {
      "code": "t"
     },
     {
      "code": "u"
     },
     {
      "code": "r"
     },
     {
      "code": "n"
     },
     {
      "code": ""
     },
     {
      "code": "p"
     },
     {
      "code": "a"
     },
     {
      "code": "t"
     },
     {
      "code": "h"
     }
    ]
   }
  },
  {
   "cell_type": "markdown",
   "metadata": {},
   "source": [
    "Starting from initial capital stock $k(0)<k^{*}$, economy grows towards $k^{*}$, with capital deepening and growth of per capita income. Note that in the equilibrium path towards steady state, $\\{w(t)\\}_{t=0}^{\\infty}$ is an increasing sequence while $\\{R(t)\\}_{t=0}^{\\infty}$ is a decreasing sequence. This is intuitive: as capital to labor ratio raises over time, the marginal productivity for capital decreasing and marginal productivity for labor rising. \n",
    "\n",
    "Note that the economic growth in the transition path is not sustained: it gradually slows down and eventually stops at the steady state. One way to sustain the growth is to prolong the transition path. The CD case above has already showed that when $α$ is close to 1, adjustment to steady-state level can be very slow. A very slow adjustment toward a steady state has the flavor of sustained growth rather than the economy quickly settling down to a steady state. The simplest way to get sustained growth is the so-called **AK model**, in which we relax assumption 1&2 and suppose $$F[K(t), L(t), A(t)]=A K(t)$$. The law of motion now becomes $$\\frac{\\dot{k}(t)}{k(t)}=s A-\\delta-n$$, and as long as the RHS is larger than 0, there will be constant growth in capital-labor ratio and output per capita as well. However, the AK model is a knife-edge case which requires production function to be linear in capital stock and capital ratio towards 1, which is not very realistic.  "
   ]
  },
  {
   "cell_type": "markdown",
   "metadata": {},
   "source": [
    "Here’s a little program that uses the class to compute  time series from two different initial conditions.\n",
    "\n",
    "The common steady state is also plotted for comparison"
   ]
  },
  {
   "cell_type": "code",
   "execution_count": 11,
   "metadata": {
    "hide-output": false
   },
   "outputs": [
    {
     "data": {
      "image/png": "[encoded data removed]",
      "text/plain": [
       "<Figure size 648x432 with 1 Axes>"
      ]
     },
     "metadata": {
      "image/png": {
       "height": 353,
       "width": 525
      }
     },
     "output_type": "display_data"
    }
   ],
   "source": [
    "s1 = Solow()\n",
    "s2 = Solow(k=8.0)\n",
    "\n",
    "T = 60\n",
    "fig, ax = plt.subplots(figsize=(9, 6))\n",
    "\n",
    "# Plot the common steady state value of capital\n",
    "ax.plot([s1.steady_state()]*T, 'k-', label='steady state')\n",
    "\n",
    "# Plot time series for each economy\n",
    "for s in s1, s2:\n",
    "    lb = f'capital series from initial state {s.k}'\n",
    "    ax.plot(s.generate_sequence(T), 'o-', lw=2, alpha=0.6, label=lb)\n",
    "\n",
    "ax.legend()\n",
    "plt.show();"
   ]
  },
  {
   "cell_type": "code",
   "execution_count": 3,
   "metadata": {},
   "outputs": [],
   "source": [
    "def solow_equation(k, alpha, delta, s):\n",
    "\n",
    "    saving = s * k ** alpha\n",
    "    depreciation = delta * k\n",
    "    k_plus = k + saving - depreciation\n",
    "    return k_plus, saving, depreciation\n",
    "\n",
    "def simulate_solow_model(k0, alpha, delta, s, T):\n",
    "\n",
    "    k_path = [k0]\n",
    "    saving_path = []\n",
    "    depreciation_path = []\n",
    "\n",
    "    for t in range(1, T):\n",
    "\n",
    "        k_plus, saving, depreciation = solow_equation(k_path[t - 1], alpha, delta, s)\n",
    "\n",
    "        k_path.append(k_plus)\n",
    "        saving_path.append(saving)\n",
    "        depreciation_path.append(depreciation)\n",
    "\n",
    "    return k_path, saving_path, depreciation_path\n",
    "\n",
    "def simulate(k_max=10, T=150):\n",
    "\n",
    "    widgets.interact(\n",
    "        simulate_,\n",
    "        k0=widgets.FloatSlider(\n",
    "            description=\"$k_0$\", min=0, max=k_max, step=0.05, value=2\n",
    "        ),\n",
    "        alpha=widgets.FloatSlider(\n",
    "            description=\"$\\\\alpha$\", min=0.01, max=0.99, step=0.01, value=0.3\n",
    "        ),\n",
    "        delta=widgets.FloatSlider(\n",
    "            description=\"$\\\\delta$\", min=0.01, max=0.50, step=0.01, value=0.1\n",
    "        ),\n",
    "        s=widgets.FloatSlider(\n",
    "            description=\"$s$\", min=0.01, max=0.99, step=0.01, value=0.3\n",
    "        ),\n",
    "        T=widgets.fixed(T),\n",
    "        k_max=widgets.fixed(k_max),\n",
    "    )\n",
    "\n",
    "def simulate_(k0, alpha, delta, s, T, k_max):\n",
    "\n",
    "    k_path, saving_path, depreciation_path = simulate_solow_model(\n",
    "        k0, alpha, delta, s, T * 5\n",
    "    )\n",
    "\n",
    "    fig = plt.figure(figsize=(16, 6), dpi=100)\n",
    "    ax1 = fig.add_subplot(1, 2, 1)\n",
    "\n",
    "    ax1.plot(k_path[:T], lw=2)\n",
    "    ax1.set_title(\"Capital ($k_t$)\")\n",
    "    ax1.set_xlim([0, T])\n",
    "    ax1.set_ylim([0, k_max])\n",
    "\n",
    "    k_path = np.array(k_path)\n",
    "    I = np.abs(np.log(k_path) - np.log(k_path[-1])) < 0.01\n",
    "    t_converge = T * 5 - k_path[I].size\n",
    "    ax1.plot(\n",
    "        [t_converge, t_converge],\n",
    "        [0, k_max],\n",
    "        ls=\"--\",\n",
    "        color=\"black\",\n",
    "        label=\"$|\\\\log(k_t)-\\\\log(k^\\\\ast)| < 0.01$\",\n",
    "    )\n",
    "\n",
    "    ax1.legend(loc=\"lower right\")\n",
    "\n",
    "    ax2 = fig.add_subplot(1, 2, 2)\n",
    "    ax2.plot(saving_path[:T], label=\"saving\")\n",
    "    ax2.plot(depreciation_path[:T], label=\"depreciation\")\n",
    "    ax2.set_title(\"Saving ($sk^\\\\alpha$) and depreciation ($\\\\delta k_t$)\")\n",
    "    ax2.set_xlim([0, T])\n",
    "    ax2.set_ylim([0, 0.5 * k_max])\n",
    "\n",
    "    ax2.legend(loc=\"upper left\")"
   ]
  },
  {
   "cell_type": "code",
   "execution_count": 4,
   "metadata": {},
   "outputs": [
    {
     "data": {
      "application/vnd.jupyter.widget-view+json": {
       "model_id": "04a6cfb131c44098a08a056d408fd83a",
       "version_major": 2,
       "version_minor": 0
      },
      "text/plain": [
       "interactive(children=(FloatSlider(value=2.0, description='$k_0$', max=10.0, step=0.05), FloatSlider(value=0.3,…"
      ]
     },
     "metadata": {},
     "output_type": "display_data"
    }
   ],
   "source": [
    "simulate()"
   ]
  },
  {
   "cell_type": "markdown",
   "metadata": {},
   "source": [
    "## 3. Balanced Growth"
   ]
  },
  {
   "cell_type": "code",
   "execution_count": null,
   "metadata": {},
   "outputs": [],
   "source": []
  }
 ],
 "metadata": {
  "kernelspec": {
   "display_name": "Python 3",
   "language": "python",
   "name": "python3"
  },
  "language_info": {
   "codemirror_mode": {
    "name": "ipython",
    "version": 3
   },
   "file_extension": ".py",
   "mimetype": "text/x-python",
   "name": "python",
   "nbconvert_exporter": "python",
   "pygments_lexer": "ipython3",
   "version": "3.7.5"
  },
  "toc-autonumbering": false
 },
 "nbformat": 4,
 "nbformat_minor": 4
}
