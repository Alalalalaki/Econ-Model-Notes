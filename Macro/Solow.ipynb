{
 "cells": [
  {
   "cell_type": "markdown",
   "metadata": {},
   "source": [
    "# Solow Model\n",
    "\n",
    "This note is based on Acemoglu's textbook. "
   ]
  },
  {
   "cell_type": "code",
   "execution_count": 22,
   "metadata": {},
   "outputs": [],
   "source": [
    "plt.style.use('seaborn-whitegrid')\n",
    "import ipywidgets as widgets\n",
    "# Caution: if using JupyterLab, select \"Save Widget State Automatically\" in Settings"
   ]
  },
  {
   "cell_type": "markdown",
   "metadata": {},
   "source": [
    "## 1. Introduction"
   ]
  },
  {
   "cell_type": "markdown",
   "metadata": {},
   "source": [
    "Solow model is also called Solow-Swan model, a simple framework for proximate the causes and mechanics of economic growth.\n",
    "\n",
    "At the center of Solow growth model is the neoclassical aggregate production function, which not only enables the Solow model to make contact with microeconomics, but as serves as a bridge between the model and the data.\n",
    "\n",
    "The solow model, despite its simplicity, is a dynamic general equilibrium model, though many key features like preferences and dynamic optimization are missing here. In Solow model, the households will not be optimizing, and thus one has no need to specify the utility function. Accordingly, the saving rate is set to be constant and exogenous. And Labor supply is inelastic and exogenous. \n",
    "\n",
    "In comparison, the standard neoclassical growth model (i.e. Ramsey or Cass-Koopmans model, one of the basic workhorse models of economic growth) explicitly models the consumer side and endogenizes savings to introduce household optimization.\n",
    "\n",
    "Another closely related model is the overlapping generations (OLG) model, in which the assumption of a representative household is relaxed to allow the entey of new hoseholds, thus brining new economic interactions (e.g. decisions made by older generations will affect the prices faced by younger generations)."
   ]
  },
  {
   "cell_type": "markdown",
   "metadata": {},
   "source": [
    "## 2. Basic Model"
   ]
  },
  {
   "cell_type": "markdown",
   "metadata": {},
   "source": [
    "### 2.1 Setting"
   ]
  },
  {
   "cell_type": "markdown",
   "metadata": {},
   "source": [
    "Assume a representative household\n",
    "- save a constant exogenous fraction $s$ of their disposable income.\n",
    "- (households) own all of the labor, which they supply inelastically\n",
    "- also own capital stock of the economy and rent it to firms with rental price $R(t)$, depreciating exponentially at rate $\\delta$"
   ]
  },
  {
   "cell_type": "markdown",
   "metadata": {},
   "source": [
    "Assume a representative firm in competitive input and output market \n",
    "- a representative (or aggregate) production function for the unique final good: $Y(t)=F[K(t), L(t), A(t)]$ \n",
    "- **Key Assumption 1**: Continuity, Differentiability, Positive and Diminishing Marginal Products, and Constant Returns to Scale\n",
    "    - $F_{K}(K, L, A) \\equiv \\frac{\\partial F(K, L, A)}{\\partial K}>0, \\quad F_{L}(K, L, A) \\equiv \\frac{\\partial F(K, L, A)}{\\partial L}>0$\n",
    "    - $F_{K K}(K, L, A) \\equiv \\frac{\\partial^{2} F(K, L, A)}{\\partial K^{2}}<0, \\quad F_{L L}(K, L, A) \\equiv \\frac{\\partial^{2} F(K, L, A)}{\\partial L^{2}}<0$\n",
    "    - $F$ exhibits constant returns to scale in $K$ and $L$\n",
    "- taking as given factor prices: $w(t)$, $R(t)$ \n",
    "- technology is free (the major assumption in traditional economic growth model)"
   ]
  },
  {
   "cell_type": "markdown",
   "metadata": {},
   "source": [
    "Assume labor market clearing\n",
    "- labor demand equals to exogenous labor supply: $L(t)=\\bar{L}(t)$\n",
    "- more generally should be written in complementary slackness form, but assumption in production function and competitive labor markets make sure that wages have to be strictly positive, $w(t) > 0$. And thus the equation holds."
   ]
  },
  {
   "cell_type": "markdown",
   "metadata": {},
   "source": [
    "Assume capital market clearing\n",
    "- $K^{s}(t)=K^{d}(t)$\n",
    "- consistent with households’ endowments and saving behavior\n",
    "- take initial holdings of capital, $K(0)$ as given"
   ]
  },
  {
   "cell_type": "markdown",
   "metadata": {},
   "source": [
    "Assume price of final good $P(t)$ is normalize to 1 in all periods \n",
    "- as a choice of a numeraire commodity in this economy\n",
    "- given Arrow 1964, it is sufficient to price securities (assets) that transfer one unit of consumption from one date (or state of the world) to another\n",
    "- implies that we need to keep track of an interest rate across periods, $r(t) =R(t)-\\delta$\n",
    "- this discussion highlights a central fact: in general equilibrium economies,  different commodities correspond to the same good\n",
    "at different dates. Recall from basic general equilibrium theory that the same good at different dates (or in different states or localities) is a different commodity."
   ]
  },
  {
   "cell_type": "markdown",
   "metadata": {},
   "source": [
    "Firm optimization problem:\n",
    "- $\\max_\\limits{L(t) \\geq 0, K(t) \\geq 0} F[K(t), L(t), A(t)]-w(t) L(t)-R(t) K(t)$ \n",
    "- FOC: $w(t)=F_{L}[K(t), L(t), A(t)]$ , $R(t)=F_{K}[K(t), L(t), A(t)]$ "
   ]
  },
  {
   "cell_type": "markdown",
   "metadata": {},
   "source": [
    "In the equilibrium of Solow growth model, firms make no profits \n",
    "- proof: follow Euler's Theorem\n",
    "- Intuition: as  $F$ exhibits constant returns to scale, if the representative firm make positive profits, it would wish to hire arbitrarily large amounts of capital and labor exceeding the supplies, which are fixed\n",
    "- This is related to the fact that in a world with constant returns to scale, the size of each individual firm is not determinate (only aggregates are determined)\n",
    "- so ownership of firms does not need to be specified."
   ]
  },
  {
   "cell_type": "markdown",
   "metadata": {},
   "source": [
    "Key Assumption 2: $F$ satisfies the Inada conditions\n",
    "- $\\lim _{K \\rightarrow 0} F_{K}(K, L, A)=\\infty$ and $\\lim _{K \\rightarrow \\infty} F_{K}(K, L, A)=0$ for all $L>0$ and all $A,$\n",
    "- $\\lim _{L \\rightarrow 0} F_{L}(K, L, A)=\\infty$ and $\\lim _{L \\rightarrow \\infty} F_{L}(K, L, A)=0$ for all $K>0$ and all $A.$  \n",
    "- $F(0, L, A)=0$ for all $L$ and $A$ \n",
    "- boundary conditions, which are often imposed in the analysis of economic growth and macroeconomic equilibria\n",
    "- important in ensuring the existence of interior equilibria\n",
    "- we will see later that the \"AK\" model violates these conditions"
   ]
  },
  {
   "cell_type": "markdown",
   "metadata": {},
   "source": [
    "### 2.2 Equilibrium"
   ]
  },
  {
   "cell_type": "markdown",
   "metadata": {},
   "source": [
    "#### 2.2.1 Discrete Time"
   ]
  },
  {
   "cell_type": "markdown",
   "metadata": {},
   "source": [
    "Fundamental law of motion: \n",
    "- $K(t+1)=s F[K(t), L(t), A(t)]+(1-\\delta) K(t)$, which can be also written as\n",
    "- $k(t+1)=s f(k(t))+(1-\\delta) k(t)$\n",
    "    - , where $k(t) \\equiv \\frac{K(t)}{L(t)}$ is the capital-labor ratio of the economy\n",
    "    - Note that $f(k)$ here depends on $A,$ so could have written $f(k, A)$; but $A$ is constant and can be normalized to $A=1 .$ "
   ]
  },
  {
   "cell_type": "markdown",
   "metadata": {},
   "source": [
    "For a given sequence of $\\{L(t), A(t)\\}_{t=0}^{\\infty}$ and an initial capital stock $K(0)$ , **an equilibrium path** is a sequence of $\\{K(t), Y(t), C(t), w(t), R(t)\\}_{t=0}^{\\infty}$ that satisfies profit maximization, market clearing conditions and the law of motion."
   ]
  },
  {
   "cell_type": "markdown",
   "metadata": {},
   "source": [
    "A steady-state equilibrium is an equilibrium path: $k(t)=k^{*}$ for all $t$.\n",
    "- The economy will tend to this steady state equilibrium over time (but never reach it in finite time)\n",
    "- Mathematically, a steady-state equilibrium corresponds to a stationary point of the equilibrium difference equation: $$\\frac{f\\left(k^{*}\\right)}{k^{*}}=\\frac{\\delta}{s}$$\n",
    "- Intuition: steady-state equilibrium sets investment  $sf(k)$ equal to amount of capital that needs to be replenished $\\delta k$"
   ]
  },
  {
   "cell_type": "markdown",
   "metadata": {},
   "source": [
    "If we further assume a “Hicks-neutral” productivity, i.e. $f(k)=A \\tilde{f}(k)$, the comparative statics with respect to $s, A$ and $\\delta$ can be driven for $k^{*}(A, s, \\delta)$ and $y^{*}(A, s, \\delta)$ by applying the Implicit Function Theorem:\n",
    "$$\\frac{\\partial k^{*}(A, s, \\delta)}{\\partial A}>0, \\quad \\frac{\\partial k^{*}(A, s, \\delta)}{\\partial s}>0, \\quad \\frac{\\partial k^{*}(A, s, \\delta)}{\\partial \\delta}<0$$\n",
    "$$\\frac{\\partial y^{*}(A, s, \\delta)}{\\partial A}>0, \\quad \\frac{\\partial y^{*}(A, s, \\delta)}{\\partial s}>0, \\quad \\frac{\\partial y^{*}(A, s, \\delta)}{\\partial \\delta}<0$$, which imply countries with higher saving rates, better technologies, and less depreciation will have higher capital-labor ratios and will be richer."
   ]
  },
  {
   "cell_type": "markdown",
   "metadata": {},
   "source": [
    "However note that in a steady-state equilibrium the capital-labor ratio remains constant. If there is no population growth, this implies that the level of the capital stock, the output, and the consumption will all remain constant. In other words, there is no growth in the steady-state equilbirium. The only case that economic growth occurs is when the economy starts with $k(0)<k^{*}$ and then grows towards $k^*$ following the equilibrium path."
   ]
  },
  {
   "cell_type": "markdown",
   "metadata": {},
   "source": [
    "See Acemoglu's textbook for the proof on uniqueness and global asymptotic stablility of the steady state equilbiurm."
   ]
  },
  {
   "cell_type": "markdown",
   "metadata": {},
   "source": [
    "#### 2.2.2 Continuous Time With constant Population Growth"
   ]
  },
  {
   "cell_type": "markdown",
   "metadata": {},
   "source": [
    "Now we change above model from discrete time to continuous time, and introduce population growth in an exponential form: $L(t)=\\exp (n t) L(0)$.\n",
    "\n",
    "The law of motion in continuous time is thus the following differential equations \n",
    "$$\\dot{K}(t)=s F[K(t), L(t), A(t)]-\\delta K(t)$$\n",
    "$$\\frac{\\dot{k}(t)}{k(t)}=s \\frac{f(k(t))}{k(t)}-(n+\\delta)$$.\n",
    "\n",
    "The definition of equilibirium path is largely the same as 2.2.1, except this time we have an additional sequence of $[L(t)]_{t=0}^{\\infty}$ satisfies the growth rule and $k(t)$ satisfies above new differential equation.\n",
    "\n",
    "The steady-state equilibrium is still that $k(t)$ remaining constant at some level $k^{*}$, with a slight change due to the population growth: $$\\frac{f\\left(k^{*}\\right)}{k^{*}}=\\frac{n+\\delta}{s}$$. Note that now amount of investment, $s f(k),$ is used to replenish capital-labor ratio not only for depreciation exponentially at $\\delta$, but also for population growth $n$, so that capital-labor ratio is maintained at a constant level. \n",
    "\n",
    "Now additional to previous comparative statics, a higher population growth rate, $n$, would reduce the capital-labor ratio and output per-capita. The intuition is that a higher population growth rate means there is more labor to use the existing amount of capital, which only accumulates slowly, and consequently the equilibrium capital-labor ratio ends up lower."
   ]
  },
  {
   "cell_type": "markdown",
   "metadata": {},
   "source": [
    "### 2.3 Transition "
   ]
  },
  {
   "cell_type": "markdown",
   "metadata": {},
   "source": [
    "We implement the base Solow model by assuming Cobb-Douglas Production Function: $$F(K, L, A)=A K^{\\alpha} L^{1-\\alpha}, \\quad \\text{with} \\quad 0<\\alpha<1$$\n",
    "- $f(k)=A k^{\\alpha}$, which is the output per capita\n",
    "- One feature about CD form is its elasticity of substitution between capital and labor equal to 1. \n",
    "- Though not supported by empirical evidence, which is also why the CES function is invented, this feature indicates that given competitive factor markets, equilibrium factor shares will be constant regardless of capital-labor ratio, i.e. $\\alpha_{K}(t) =\\frac{R(t) K(t)}{Y(t)} = \\alpha$, $\\alpha_{L}(t)=1-\\alpha$.\n",
    "\n",
    "The law of motion in discrete and continous time is $$\n",
    "k(t+1) = \\frac{s A k(t)^{\\alpha} + (1 - \\delta) k_t}{1 + n}\n",
    "$$\n",
    "$$\\dot{k}(t)=s A k(t)^{\\alpha}-(n+\\delta) k(t)$$\n",
    ", and the steady state is $$k^{*}=\\left(\\frac{s A}{n+\\delta}\\right)^{\\frac{1}{1-\\alpha}}$$. This shows that the capital-labor ratio $k^{*}$ in steady state is increasing in $s$ and $A$ and decreasing in $n$ and $\\delta$. Moreover, $k^{*}$ is increasing in $\\alpha,$ because a higher $\\alpha$ implies less diminishing returns to capital, thus a higher capital-labor ratio is necessary to reduce average return to capital to a level consistent with the steady state.\n",
    "\n",
    "The linear differential equation in continuous time actually has a general solution: $$k(t)=\\left\\{\\frac{s A}{n+\\delta}+\\left[k(0)^{1-\\alpha}-\\frac{s A}{n+\\delta}\\right] \\exp (-(1-\\alpha)(n+\\delta) t)\\right\\}^{\\frac{1}{1-\\alpha}}$$. This solution illustrates that starting from any $k(0),$ the equilibrium $k(t) \\rightarrow k^{*}$, and the rate of adjustment is related to $(1-\\alpha)(n+\\delta)$. For example, a higher $\\alpha$ implies less diminishing returns to capital, which slows down rate at which marginal and average products of capital decline as capital accumulates, and this reduces the rate of adjustment to steady state. Similarly, a smaller $δ$ means less depreciation and a smaller $n$ means slower population growth, both of which slow down adjustment of capital per worker and thus rate of transitional dynamics. ?"
   ]
  },
  {
   "cell_type": "markdown",
   "metadata": {},
   "source": [
    "The code below simulated above transition path according to different parameters. One can use the interactive charts to test both the comparative statics and the transition path that we have discussed."
   ]
  },
  {
   "cell_type": "code",
   "execution_count": 2,
   "metadata": {},
   "outputs": [],
   "source": [
    "class Solow_CD:\n",
    "    \"\"\"\n",
    "    Implements the Solow growth model with CD production function \n",
    "    \"\"\"\n",
    "    def __init__(self, n=0.05,  # population growth rate\n",
    "                       s=0.25,  # savings rate\n",
    "                       δ=0.1,   # depreciation rate\n",
    "                       α=1/3,   # share of capital\n",
    "                       A=2.0,   # productivity\n",
    "                       k0=2.0,  # inital capital per capita\n",
    "                       L0=1     # intial Labor\n",
    "                ):\n",
    "                 \n",
    "        self.n, self.s, self.δ, self.α, self.A = n, s, δ, α, A\n",
    "        self.k0 = k0\n",
    "        self.L0 = L0\n",
    "    \n",
    "    @staticmethod\n",
    "    def calculate_next_state(k, n, s, δ, α, A):\n",
    "        k_next = (s * A * (k ** α) + (k - δ * k)) / (1 + n)\n",
    "        return k_next\n",
    "\n",
    "    def generate_sequence(self, T, k0, n, s, δ, α, A):\n",
    "        k_path = [k0]\n",
    "        \n",
    "        for i in range(1, T):\n",
    "            k_next = self.calculate_next_state(k_path[i-1],n, s, δ, α, A)\n",
    "            k_path.append(k_next)\n",
    "            \n",
    "        k_path = np.array(k_path)\n",
    "        y_path = A * (k_path ** α)\n",
    "        saving_path = s * y_path\n",
    "        depreciation_path = (n + δ) * k_path\n",
    "        w_path = (1 - α) * y_path\n",
    "        R_path = α * (y_path / k_path)\n",
    "        \n",
    "        k_star = ((s * A) / (n + δ))**(1 / (1 - α))\n",
    "        \n",
    "        L_path = self.L0 * np.exp(n*np.arange(T))\n",
    "        Y_path = y_path * L_path\n",
    "        K_path = k_path * L_path\n",
    "        \n",
    "        return k_path, y_path, saving_path, depreciation_path, w_path, R_path, k_star, L_path, Y_path, K_path\n",
    "\n",
    "    def simulate(self, T=100, k_max=10):\n",
    "\n",
    "        widgets.interact(\n",
    "            self.plot_simulation,\n",
    "            k0=widgets.FloatSlider(\n",
    "                description=\"$k_0$\", min=0, max=k_max, step=0.1, value=self.k0\n",
    "            ),            \n",
    "            n=widgets.FloatSlider(\n",
    "                description=\"$n$\", min=-0.1, max=0.2, step=0.01, value=self.n\n",
    "            ),\n",
    "            α=widgets.FloatSlider(\n",
    "                description=\"$\\\\alpha$\", min=0.01, max=1, step=0.02, value=self.α\n",
    "            ),\n",
    "            δ=widgets.FloatSlider(\n",
    "                description=\"$\\\\delta$\", min=0.01, max=0.2, step=0.01, value=self.δ\n",
    "            ),\n",
    "            s=widgets.FloatSlider(\n",
    "                description=\"$s$\", min=0.01, max=0.50, step=0.02, value=self.s\n",
    "            ),            \n",
    "            A=widgets.FloatSlider(\n",
    "                description=\"$A$\", min=1, max=3, step=0.1, value=self.A\n",
    "            ),\n",
    "            T=widgets.fixed(T),\n",
    "            k_max=widgets.fixed(k_max),\n",
    "        )\n",
    "\n",
    "    def plot_simulation(self, T, k_max, k0, n, s, δ, α, A):\n",
    "        \n",
    "        k_path, y_path, saving_path, depreciation_path, w_path, R_path, k_star, L_path, Y_path, K_path = self.generate_sequence(T, k0, n, s, δ, α, A)\n",
    "\n",
    "        fig = plt.figure(figsize=(16, 20))\n",
    "        \n",
    "        ax1 = fig.add_subplot(3, 2, 1)\n",
    "        ax1.plot(k_path, lw=2, label=\"capital per capita\")\n",
    "        ax1.axhline(k_star, ls=\"--\", lw=1)\n",
    "        ax1.text(2, min(k_star+0.2, k_max-0.3), f\"$k^\\\\ast={k_star:.3}$\")\n",
    "        ax1.text(2, k0+0.1, f\"$k_0$\")\n",
    "        converge = np.abs(np.log(k_path) - np.log(k_star))\n",
    "        t_converge = np.searchsorted(-converge, -0.01)\n",
    "        ax1.axvline(t_converge, ls=\"--\", color=\"black\",\n",
    "            label=\"$|\\\\log(k_t)-\\\\log(k^\\\\ast)| < 0.01$\",\n",
    "        )\n",
    "        ax1.set_xlim([0, T])\n",
    "        ax1.set_xlabel('t')\n",
    "        ax1.set_ylim([0, k_max])\n",
    "        ax1.plot(y_path, label=\"output per capita\")\n",
    "        ax1.legend(loc=\"lower right\")      \n",
    "        ax1.set_title(\"Capital per capita ($k_t$) and Output per capita ($y_t$) converge over time\")\n",
    "        \n",
    "        \n",
    "        ax2 = fig.add_subplot(3, 2, 2)\n",
    "        k_vals = np.linspace(0, k_max, 100)\n",
    "        k_next_vals = self.calculate_next_state(k_vals, n, s, δ, α, A)\n",
    "        ax2.plot(k_vals, k_next_vals, label=\"$\\\\frac{sAk(t)^{\\\\alpha}+(1-\\\\delta)k_t}{1+n}$\")\n",
    "        ax2.plot(k_vals, k_vals, ls=\"--\", color=\"black\")\n",
    "        ax2.axhline(k_star, ls=\"--\",)\n",
    "        ax2.axvline(k_star, ls=\"--\",)\n",
    "        ax2.vlines(k_path[0], 0, k_path[1], color=\"black\", lw=1)\n",
    "        ax2.hlines(k_path[1:t_converge], k_path[0:t_converge-1], k_path[1:t_converge], color=\"black\", lw=1)\n",
    "        ax2.vlines(k_path[1:t_converge], k_path[1:t_converge], k_path[2:t_converge+1], color=\"black\", lw=1)\n",
    "        ax2.set_xlim([0, k_max])\n",
    "        ax2.set_ylim([0, k_max])\n",
    "        ax2.set_xlabel('$k$')\n",
    "        ax2.text(k0+0.1, 0.2, \"$k_0$\")\n",
    "        ax2.text(k_max-1, k_max-0.5, \"45°\")\n",
    "        ax2.legend(loc=\"lower right\")\n",
    "        ax2.set_title(\"Transitional Dynamics of $k_t$\")\n",
    "\n",
    "        ax3 = fig.add_subplot(3, 2, 3)\n",
    "        ax3.plot(saving_path, label=\"saving\")\n",
    "        ax3.plot(depreciation_path, label=\"depreciation\")\n",
    "        ax3.set_xlim([0, T])\n",
    "        ax3.set_ylim([0, 0.2 * k_max])\n",
    "        ax3.legend(loc=\"upper left\")\n",
    "        ax3.set_xlabel('t')\n",
    "        ax3.set_title(\"Saving ($sk^\\\\alpha$) replenish (general) Depreciation ($(n + \\\\delta) k_t$) in steady state\")\n",
    "\n",
    "        ax4 = fig.add_subplot(3, 2, 4)    \n",
    "        y_vals = A * (k_vals ** α)\n",
    "        saving_vals = s * y_vals\n",
    "        depreciation_vals = (δ + n) * k_vals\n",
    "        ax4.plot(k_vals, saving_vals, label=\"Saving $sf(k)$\")\n",
    "        ax4.plot(k_vals, y_vals, label=\"Output $f(k)$\")\n",
    "        ax4.plot(k_vals, depreciation_vals, label=\"Depreciation $(n+𝛿)f(k)$\")\n",
    "        ax4.axvline(k_star, ls=\"--\",)\n",
    "        ax4.hlines([saving_path[t_converge],y_path[t_converge]], [0,0], [k_star,k_star], color=\"black\", lw=1, ls=\"--\")\n",
    "        ax4.set_xlim([0, k_max])\n",
    "        ax4.set_xlabel('$k$')\n",
    "        ax4.set_ylim([0, k_max*0.5])\n",
    "        ax4.legend(loc=\"lower right\")\n",
    "        ax4.text(0.2, min(saving_path[t_converge]-0.2, k_max*0.5), \"investment\")\n",
    "        ax4.text(0.2, min(y_path[t_converge]-0.2, k_max*0.5), \"consumption\")\n",
    "        ax4.set_title(\"Investment and Consumption per capita under different $k$\")\n",
    "        \n",
    "        ax5 = fig.add_subplot(3, 2, 5)  \n",
    "        ax5.plot(K_path, label=\"Capital ($K$)\")\n",
    "        ax5.plot(Y_path, label=\"Output ($Y$)\")\n",
    "        ax5.plot(L_path, label=\"Labor ($L$)\")\n",
    "        ax5.set_xlim([0, T])\n",
    "        ax5.set_xlabel('t')\n",
    "        ax5.set_ylim([0, k_max*50])\n",
    "        ax5.legend(loc=\"upper left\")\n",
    "        ax5.set_title(\"Growth of the Aggregate $K$, $L$ and $Y$\") \n",
    "        \n",
    "        ax6 = fig.add_subplot(3, 2, 6)    \n",
    "        ax6.plot(w_path, label=\"wage\")\n",
    "        ax6.plot(R_path, label=\"rent\")\n",
    "        ax6.set_xlim([0, T])\n",
    "        ax6.set_xlabel('t')\n",
    "        ax6.set_ylim([0, 3])\n",
    "        ax6.legend(loc=\"center right\")\n",
    "        ax6.set_title(\"Wage ($w$) and Rent ($r$) (= marginal productivity)\") \n",
    "        \n",
    "        plt.subplots_adjust(wspace=0.06, hspace=0.16)\n",
    "        "
   ]
  },
  {
   "cell_type": "code",
   "execution_count": 3,
   "metadata": {},
   "outputs": [],
   "source": [
    "test = Solow_CD()"
   ]
  },
  {
   "cell_type": "code",
   "execution_count": null,
   "metadata": {},
   "outputs": [],
   "source": [
    "test.simulate()"
   ]
  },
  {
   "cell_type": "markdown",
   "metadata": {},
   "source": [
    "Starting from initial capital stock $k(0)<k^{*}$, economy grows towards $k^{*}$, with capital deepening and growth of per capita income. Note that in the equilibrium path towards steady state, $w(t)$ is an increasing sequence while $R(t)$ is a decreasing sequence. This is intuitive: as capital to labor ratio raises over time, the marginal productivity for capital decreasing and marginal productivity for labor rising. \n",
    "\n",
    "Note that the economic growth in the transition path is not sustained: it gradually slows down and eventually stops at the steady state. One way to sustain the growth is to prolong the transition path. The CD case above has already showed that when $α$ is close to 1, adjustment to steady-state level can be very slow. A very slow adjustment toward a steady state has the flavor of sustained growth rather than the economy quickly settling down to a steady state. The simplest way to get sustained growth is the so-called **AK model**, in which we relax assumption 1&2 and suppose $$F[K(t), L(t), A(t)]=A K(t)$$. The law of motion now becomes $$\\frac{\\dot{k}(t)}{k(t)}=s A-\\delta-n$$, and as long as the RHS is larger than 0, there will be constant growth in capital-labor ratio and output per capita as well. However, the AK model is a knife-edge case which requires production function to be linear in capital stock and capital ratio towards 1, which is not very realistic. "
   ]
  },
  {
   "cell_type": "markdown",
   "metadata": {},
   "source": [
    "## 3. Balanced Growth"
   ]
  },
  {
   "cell_type": "markdown",
   "metadata": {},
   "source": [
    "Now we introduce changes in technology $A(t)$ to establish a Solow model with sustained ecoomic growth. The name of balanced growth here requires ss"
   ]
  },
  {
   "cell_type": "code",
   "execution_count": null,
   "metadata": {},
   "outputs": [],
   "source": []
  },
  {
   "cell_type": "code",
   "execution_count": 1,
   "metadata": {},
   "outputs": [],
   "source": [
    "import os\n",
    "import zipfile\n",
    "import requests"
   ]
  },
  {
   "cell_type": "code",
   "execution_count": 2,
   "metadata": {},
   "outputs": [],
   "source": [
    "dest = \"data/JIP2015_English_20151109-1.xls\"\n",
    "\n",
    "if not os.path.exists(dest):\n",
    "    if not os.path.exists('data'):\n",
    "        os.makedirs('data')\n",
    "    dest_zip = \"data/JIP_2015_Growth_Accounting.zip\"\n",
    "    r = requests.get('https://www.rieti.go.jp/en/database/JIP2015/data/4.zip')\n",
    "    with open(dest_zip, 'wb') as f:\n",
    "        f.write(r.content)\n",
    "    zf = zipfile.ZipFile(dest_zip)\n",
    "    fp = zf.extract(zf.filelist[0].filename, path='data/')\n",
    "    os.remove(dest_zip)"
   ]
  },
  {
   "cell_type": "code",
   "execution_count": 43,
   "metadata": {},
   "outputs": [],
   "source": [
    "dfs = pd.ExcelFile(dest,)\n",
    "va = dfs.parse('NV', header=None, skiprows=1, usecols=range(1,45)) # nominal value added\n",
    "wL = dfs.parse('WL', header=None, skiprows=1, usecols=range(1,45)) # nominal labor cost\n",
    "RK = dfs.parse('RK', header=None, skiprows=1, usecols=range(1,45)) # nominal labor cost"
   ]
  },
  {
   "cell_type": "code",
   "execution_count": 27,
   "metadata": {},
   "outputs": [],
   "source": [
    "factor_share = df.iloc[[0,1,114], 2:].T.rename(\n",
    "    columns={0:'factor', 1:'year', 114:'share'}).assign(\n",
    "    year = lambda df: df.year.astype(int),\n",
    "    factor = lambda df: df.factor.str.extract(\n",
    "        'Cost share of (\\w+) ', expand=False\n",
    "    ).ffill(),\n",
    "    share = lambda df: pd.to_numeric(df.share),\n",
    ").pivot('year', 'factor', 'share').eval(\"\"\"\n",
    "    sum_KL = capital + labor\n",
    "    K_share = capital/sum_KL\n",
    "    L_share = labor/sum_KL\n",
    "    \"\"\")"
   ]
  },
  {
   "cell_type": "code",
   "execution_count": 95,
   "metadata": {},
   "outputs": [],
   "source": {
    "code": [
     {
      "code": "code"
     }
    ]
   }
  },
  {
   "cell_type": "code",
   "execution_count": 28,
   "metadata": {},
   "outputs": [
    {
     "data": {
      "image/png": "[encoded data removed]",
      "text/plain": [
       "<Figure size 432x288 with 1 Axes>"
      ]
     },
     "metadata": {
      "image/png": {
       "height": 260,
       "width": 372
      }
     },
     "output_type": "display_data"
    }
   ],
   "source": [
    "factor_share.L_share.plot();"
   ]
  },
  {
   "cell_type": "code",
   "execution_count": null,
   "metadata": {},
   "outputs": [],
   "source": []
  }
 ],
 "metadata": {
  "kernelspec": {
   "display_name": "Python 3",
   "language": "python",
   "name": "python3"
  },
  "language_info": {
   "codemirror_mode": {
    "name": "ipython",
    "version": 3
   },
   "file_extension": ".py",
   "mimetype": "text/x-python",
   "name": "python",
   "nbconvert_exporter": "python",
   "pygments_lexer": "ipython3",
   "version": "3.7.5"
  },
  "widgets": {
   "application/vnd.jupyter.widget-state+json": {
    "state": {},
    "version_major": 2,
    "version_minor": 0
   }
  }
 },
 "nbformat": 4,
 "nbformat_minor": 4
}
